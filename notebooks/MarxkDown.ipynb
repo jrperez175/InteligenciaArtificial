{
 "cells": [
  {
   "cell_type": "markdown",
   "metadata": {},
   "source": [
    "# Lenguaje MarckDown"
   ]
  },
  {
   "cell_type": "markdown",
   "metadata": {},
   "source": [
    "<div class=\"alert alert-block alert-info\"><b>Tip: </b> Use cuadros azules para consejos y notas. Si es una nota, no tiene que incluir la palabra \"Nota\". </div> "
   ]
  },
  {
   "cell_type": "markdown",
   "metadata": {},
   "source": [
    "<div class=\"alert alert-block alert-warning\"><b>Example: </b> Use cuadros amarillos para ejemplos que no están dentro de las celdas del código, o use fórmulas matemáticas si es necesario. </div>"
   ]
  },
  {
   "cell_type": "markdown",
   "metadata": {},
   "source": [
    "<div class=\"alert alert-block alert-success\"><b>Depende de usted</b>: use cajas verdes con moderación, y solo para algún propósito específico que las otras cajas no puedan cubrir. Por ejemplo, si tiene una gran cantidad de contenido relacionado para vincular, tal vez decida utilizar cuadros verdes para los enlaces relacionados de cada sección de un cuaderno. </div>"
   ]
  },
  {
   "cell_type": "markdown",
   "metadata": {},
   "source": [
    "<div class=\"alert alert-block alert-danger\"><b>Simplemente no</b>: en general, solo evite los cuadros rojos. </div>"
   ]
  },
  {
   "cell_type": "markdown",
   "metadata": {},
   "source": [
    "Linea Horizontal: Use 3 asteriscos: ***"
   ]
  },
  {
   "cell_type": "markdown",
   "metadata": {},
   "source": [
    "***"
   ]
  },
  {
   "cell_type": "markdown",
   "metadata": {},
   "source": [
    "Listas"
   ]
  },
  {
   "cell_type": "markdown",
   "metadata": {},
   "source": [
    "- Lunes\n",
    "    1. Comida\n",
    "    2. Almuerzo\n",
    "- Martes\n",
    "- Miercoles\n",
    "\n"
   ]
  },
  {
   "cell_type": "markdown",
   "metadata": {},
   "source": [
    "Texto en cursiva*\n",
    "\n",
    "_Texto en cursiva_\n",
    "\n",
    "**Texto en negrita**\n",
    "\n",
    "__Texto en negrita__\n",
    "\n",
    "***Texto en cursiva y negrita***\n",
    "\n",
    "___Texto en cursiva y negrita___"
   ]
  },
  {
   "cell_type": "markdown",
   "metadata": {},
   "source": [
    "~~Este texto está tachado.~~ Pero este no."
   ]
  },
  {
   "cell_type": "markdown",
   "metadata": {},
   "source": [
    "# Título 1\n",
    "## Título 2\n",
    "### Título 3\n",
    "#### Título 4\n",
    "##### Título 5\n",
    "###### Título 6"
   ]
  },
  {
   "cell_type": "markdown",
   "metadata": {},
   "source": [
    "# Listas\n",
    "Para crear una lista no ordenada en Markdown, puedes utilizar el signo de más, un guion o un asterisco. Con las tres opciones obtendrás el mismo resultado.\n",
    "\n",
    "- Elemento de la lista 1\n",
    "- Elemento de la lista 2\n",
    "- Elemento de la lista 3\n",
    "\n",
    "Si lo que quieres es crear una lista ordenada, deberás introducir un número con un punto directamente después.\n",
    "\n",
    "1. Elemento de la lista 1\n",
    "2. Elemento de la lista 2\n",
    "3. Elemento de la lista 3\n",
    "\n",
    "Curiosamente, Markdown no tiene en cuenta el número real. Tanto si escribes tres veces el número uno como si comienzas con el número tres, la lista siempre se iniciará con el número correcto.\n",
    "\n",
    "Asimismo, Markdown te da la opción de crear listas de verificación, que vienen con casillas que pueden activarse haciendo clic sobre ellas. Si quieres, puedes marcar directamente las casillas al crear la lista. Para ello, utiliza corchetes y una X.\n",
    "\n",
    "[ ] A\n",
    "\n",
    "[x] B\n",
    "\n",
    "[ ] C\n",
    "\n",
    "Nota\n",
    "En el caso de las casillas vacías, es importante dejar un espacio entre los corchetes. De lo contrario, Markdown no reconocerá el texto como una lista.\n",
    "\n"
   ]
  },
  {
   "cell_type": "markdown",
   "metadata": {},
   "source": [
    "Imágenes e hipervínculos\n",
    "Con Markdown también puedes insertar imágenes e hipervínculos en tu texto. Ambos se introducen mediante una combinación de corchetes y paréntesis. Para crear un enlace, debes escribir el texto de anclaje –es decir, las palabras o frases que se verán en el texto– entre corchetes y añadir el URL directamente después entre paréntesis. Además, si deseas añadir al hipervínculo un título opcional que el usuario verá cuando desplace el ratón sobre él, solo tienes que escribir el texto entre paréntesis y entre comillas dobles, separado del URL por un espacio.\n",
    "\n",
    "A continuación se muestra un [Link](https://ejemplo.com/ \"Título opcional del enlace\").\n",
    "Si insertas un URL o una dirección de correo electrónico en el texto principal, la mayoría de los editores de Markdown crearán automáticamente un hipervínculo seleccionable. Para implementarlo, utiliza los caracteres de menor que y mayor que. Marcando el URL como código con los acentos graves, como es habitual, evitarás que el editor lo implemente automáticamente.\n",
    "\n",
    "<https://ejemplo.com>\n",
    "`https://ejemplo.com`\n",
    "Al igual que los hipervínculos, en los documentos Markdown también se pueden insertar imágenes. En este caso, primero tendrás que poner un signo de exclamación. Después, deberás escribir el texto alternativo de la imagen entre corchetes y el URL que dirige a la imagen entre paréntesis. Esta se mostrará directamente en el texto.\n",
    "\n",
    "![Esta es una imagen de ejemplo](https://ejemplo.com/imagen.jpg)\n",
    "Consejo\n",
    "Por supuesto, puedes vincular páginas HTML o imágenes de tu propio servidor. Si el documento actual está en el mismo servidor, con una ruta relativa será suficiente.\n",
    "\n",
    "También es posible combinar imágenes e hipervínculos. Si deseas insertar un enlace en el que se pueda hacer clic detrás de la imagen, puedes anidar una función dentro de la otra. En este caso, la imagen se convertirá en un texto de anclaje y, por lo tanto, deberá figurar entre corchetes.\n",
    "\n",
    "[![Esta es una imagen de ejemplo](https://ejemplo.com/imagen.jpg)](https://ejemplo.com)\n"
   ]
  },
  {
   "cell_type": "markdown",
   "metadata": {},
   "source": [
    "# Tablas\n",
    "\n",
    "Markdown permite dibujar tablas mediante plecas (|). Cada celda está separada por uno de estos caracteres. Para crear encabezados que se distingan visualmente del resto del contenido, se subrayan las celdas correspondientes con guiones.\n",
    "\n",
    "|Columna 1|Columna 2|\n",
    "|--------|--------|\n",
    "|    A    |    B    |\n",
    "|    C    |    D    |\n",
    "\n",
    "Lo cierto es que no importa si las plecas están una debajo de la otra: esto solo facilita la legibilidad cuando se ve el documento Markdown en su versión sin formato. Lo mismo se aplica a las plecas que aparecen a los lados, que también son irrelevantes en términos de compilación."
   ]
  },
  {
   "cell_type": "markdown",
   "metadata": {},
   "source": [
    "Notas al pie\n",
    "Markdown también ofrece la posibilidad de incorporar notas al pie. Para ello, escribe un número de nota en el texto y refiérelo a una nota al pie al final de la página: se generará automáticamente la línea correspondiente. El número de nota también se formatea como un hipervínculo, que nos lleva directamente a la nota al pie correspondiente al hacer clic en él. Para utilizar esta función automática, deberás insertar el número de la nota detrás de la palabra que desees. Para ello, escribe entre corchetes un acento circunflejo y, después, el número.\n",
    "\n",
    "El número que utilices (se admiten también otros elementos) es irrelevante. Al igual que con la creación de listas, Markdown realiza el conteo automáticamente. Sin embargo, es importante que vuelvas a introducir la misma denominación. Para ello, pon el mismo número en una nueva línea, de nuevo entre corchetes y precedido por un acento circunflejo, inserta dos puntos y, luego, escribe el texto de la nota. Este, a su vez, también podrá formatearse de todas las maneras posibles y ocupar varias líneas.\n",
    "\n",
    "Puedes colocar [^1] notas en el pie de página [^2] fácilmente.\n",
    "[^1]: Aquí encuentras el texto de la nota al pie de página.\n",
    "[^2]: **Las notas de pie de página** pueden *formatearse* también.\n",
    "Estas pueden ocupar varias líneas.\n",
    "Consejo\n",
    "No importa en qué parte del texto pongas la nota real, ya que Markdown siempre la mostrará al final del documento. Para finalizar la nota y continuar con el texto principal, solo tienes que insertar una línea en blanco.\n",
    "\n",
    "& y <>\n",
    "Debido a que Markdown está estrechamente relacionado con HTML, el signo de et (&), así como los de mayor que y menor que, tienen una gran importancia. Estos caracteres se utilizan en HTML para abrir y cerrar etiquetas (<>) y para trabajar con entidades (&). En HTML, si deseas utilizar los caracteres con su significado original, debes enmascararlos: &, < y >. En principio, en Markdown no hay ninguna razón para no poder utilizar los signos literalmente. Sin embargo, como existe la opción de combinar Markdown con HTML, la cosa se puede complicar un poco. Para que los usuarios no tengan que resolver este problema ellos mismos, el analizador comprende cuándo son caracteres simples y cuando se está utilizando el código HTML.\n",
    "\n",
    "A & B\n",
    "&alpha;\n",
    "1 < 2\n",
    "<p>"
   ]
  },
  {
   "cell_type": "markdown",
   "metadata": {},
   "source": [
    "# Enmascaramiento con barra invertida\n",
    "Además de los caracteres específicos correspondientes a HTML, Markdown utiliza ciertos símbolos para el marcado. Si se utilizan, el analizador reaccionará cuando realice la conversión. Son los siguientes:\n",
    "\n",
    "Asterisco: *\n",
    "\n",
    "Guion: -\n",
    "\n",
    "Guion bajo: _\n",
    "\n",
    "Paréntesis: ()\n",
    "\n",
    "Corchetes: []\n",
    "\n",
    "Llaves: {}\n",
    "\n",
    "Punto: .\n",
    "\n",
    "Signo de exclamación: !\n",
    "\n",
    "Almohadilla: #\n",
    "\n",
    "Acento grave: `\n",
    "\n",
    "Barra invertida: \\\n",
    "\n",
    "Para utilizar estos caracteres en sentido literal, solo debes insertar una barra invertida delante de cada uno de ellos. Es importante escribir la barra invertida antes de cada carácter, por ejemplo, tanto delante del paréntesis de apertura como del de cierre.\n",
    "\n",
    "Esto es un \\*ejemplo con asteriscos\\*."
   ]
  },
  {
   "cell_type": "code",
   "execution_count": null,
   "metadata": {},
   "outputs": [],
   "source": []
  }
 ],
 "metadata": {
  "kernelspec": {
   "display_name": "Python 3",
   "language": "python",
   "name": "python3"
  },
  "language_info": {
   "codemirror_mode": {
    "name": "ipython",
    "version": 3
   },
   "file_extension": ".py",
   "mimetype": "text/x-python",
   "name": "python",
   "nbconvert_exporter": "python",
   "pygments_lexer": "ipython3",
   "version": "3.7.3"
  }
 },
 "nbformat": 4,
 "nbformat_minor": 2
}
