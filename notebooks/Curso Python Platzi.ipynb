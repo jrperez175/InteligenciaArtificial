{
 "cells": [
  {
   "cell_type": "markdown",
   "metadata": {},
   "source": [
    "# Curso Python Platzi\n",
    "Razones para aprender python\n",
    "* Tienes una de las comunidades mas grandes \n",
    "* Sintaxis sencilla y no tipeada.\n",
    "* Utilizado en multiples indutrias ( Google , Uber, etc..)"
   ]
  },
  {
   "cell_type": "code",
   "execution_count": 1,
   "metadata": {},
   "outputs": [
    {
     "name": "stdout",
     "output_type": "stream",
     "text": [
      "Hola Mundo\n"
     ]
    }
   ],
   "source": [
    "print(\"Hola Mundo\")"
   ]
  },
  {
   "cell_type": "code",
   "execution_count": 6,
   "metadata": {},
   "outputs": [],
   "source": [
    "import turtle #Modulo de Python para generar graficos y explica que es programar \"serie de isntrucciones que hace el pc una por una\""
   ]
  },
  {
   "cell_type": "code",
   "execution_count": 9,
   "metadata": {},
   "outputs": [],
   "source": [
    "windows = turtle.Screen()"
   ]
  },
  {
   "cell_type": "code",
   "execution_count": 10,
   "metadata": {},
   "outputs": [],
   "source": [
    "jhon =  turtle.Turtle()"
   ]
  },
  {
   "cell_type": "code",
   "execution_count": 11,
   "metadata": {},
   "outputs": [],
   "source": [
    "jhon.forward(50) #Pinta una linea\n",
    "jhon.left(90) #Gira 90 grados\n",
    "jhon.forward(50)\n",
    "jhon.left(90)\n",
    "jhon.forward(50)\n",
    "jhon.left(90)\n",
    "jhon.forward(50)\n",
    "jhon.left(90)\n",
    "\n",
    "turtle.mainloop() #No cierre la ventana"
   ]
  },
  {
   "cell_type": "markdown",
   "metadata": {},
   "source": [
    "# Como diferencia la version de Python\n",
    "Existen dos Python \n",
    "Python2\n",
    "2000 : Nace \n",
    "2010: Se libera la ultima version 2.7 \n",
    "Python3\n",
    "2008: Nace a raiz de mejorar alguno errores que hacian dificil programar con el\n",
    "#### Diferencias\n",
    "* print ahora es una función no un keyword\n",
    "* Unicode está establecido por defecto en los strings\n",
    "* La division retorna un flotante no un entero"
   ]
  },
  {
   "cell_type": "markdown",
   "metadata": {},
   "source": [
    "# Operadores matemáticos en Python\n",
    "Los operadores nos permiten trabajar con valores y generar nuevos valores por medio de estas operaciones.\n",
    "\n",
    "Existen muchos operadores básicos,\n",
    "\n",
    "(+) Suma\n",
    "\n",
    "(-) Resta\n",
    "\n",
    "(asterisco) Multiplicación\n",
    "\n",
    "(/) División\n",
    "\n",
    "(//) División de enteros\n",
    "\n",
    "(%) Operador de módulo\n",
    "\n",
    "(doble asterisco) Potencias\n",
    "\n",
    "(>) Mayor que\n",
    "\n",
    "(<) Menor que\n",
    "\n",
    "(==) Igual\n",
    "\n",
    "(>=) Mayor igual\n",
    "\n",
    "(<=) Menor igual"
   ]
  },
  {
   "cell_type": "code",
   "execution_count": 20,
   "metadata": {},
   "outputs": [
    {
     "data": {
      "text/plain": [
       "False"
      ]
     },
     "execution_count": 20,
     "metadata": {},
     "output_type": "execute_result"
    }
   ],
   "source": [
    "5==3"
   ]
  },
  {
   "cell_type": "markdown",
   "metadata": {},
   "source": [
    "# Tipos de datos en Python\n",
    "¿En qué orden se evalúan las matemáticas operaciones complejas?\n",
    "\n",
    "* Paréntesis xD\n",
    "\n",
    "* Exponentes\n",
    "\n",
    "* Multiplicación / División\n",
    "\n",
    "* Adición / Sustracción\n",
    "\n",
    "Una forma fácil de recordar éste orden es usando el acrónimo **PEMDAS** (ParentesisExponentesMultiplicaciónDivisiónAdiciónSustracción)\n",
    "\n",
    "# Valores y Tipos\n",
    "\n",
    "Los tipos le permiten a Python saber cuál es el resultado de aplicar determinada operación, los tipos básicos son:\n",
    "\n",
    "* Integer <int>\n",
    "\n",
    "* Float <float>\n",
    "\n",
    "* String <str>\n",
    "\n",
    "* Boolean <bool>\n",
    "\n",
    "Para revisar de qué tipo es un dato puedes usar la función **type**.\n",
    "\n",
    "Ejemplos:\n",
    "\n",
    "type(2) - retorna int\n",
    "\n",
    "type('Hola') - retorna str\n",
    "\n",
    "Recuerda que tu código debe ser claro, para permitir que otros programadores lo puedan leer."
   ]
  },
  {
   "cell_type": "code",
   "execution_count": 33,
   "metadata": {},
   "outputs": [
    {
     "data": {
      "text/plain": [
       "float"
      ]
     },
     "execution_count": 33,
     "metadata": {},
     "output_type": "execute_result"
    }
   ],
   "source": [
    "type(2.5**4)"
   ]
  },
  {
   "cell_type": "markdown",
   "metadata": {},
   "source": [
    "# Declarar variables y expresiones\n",
    "Las variables nos permiten guardar valores, permitiéndonos reutilizarlos en diferentes partes del código y haciendo nuestros programas más legibles.\n",
    "\n",
    "El valor que contiene una variable puede ser reasignado, significa que podemos asignarle diferentes valores a una misma variable.\n",
    "\n",
    "Las variables tienen algunas limitantes, por ejemplo\n",
    "\n",
    "Tienen que tener un nombre significativo, es decir, que nos digan qué están haciendo.\n",
    "No podemos usar palabras reservadas del lenguaje como nombres para nuestras variables (por ejemplo class, false, none, true).\n",
    "Para definir una variable escribes el nombre que quieres asignarle y con = defines el valor que va a almacenar, por ejemplo:\n",
    "\n",
    "pi = 3.14159\n",
    "radio =3\n",
    "area = pi * radio**2\n",
    "print(area)\n",
    "\n",
    "Recuerda:\n",
    "\n",
    "Todos los programas de Python deben guardarse con extensión .py\n",
    "Para darle soporte a acentos en nuestros programas debemos usar la línea \n",
    "\n",
    "**# -*- coding: utf-8 -*-**\n"
   ]
  },
  {
   "cell_type": "code",
   "execution_count": 35,
   "metadata": {},
   "outputs": [
    {
     "data": {
      "text/plain": [
       "'hola platzi'"
      ]
     },
     "execution_count": 35,
     "metadata": {},
     "output_type": "execute_result"
    }
   ],
   "source": [
    "\"hola\" + \" platzi\""
   ]
  },
  {
   "cell_type": "code",
   "execution_count": 36,
   "metadata": {},
   "outputs": [
    {
     "data": {
      "text/plain": [
       "'cursocursocurso'"
      ]
     },
     "execution_count": 36,
     "metadata": {},
     "output_type": "execute_result"
    }
   ],
   "source": [
    "\"curso\" * 3"
   ]
  },
  {
   "cell_type": "code",
   "execution_count": 37,
   "metadata": {},
   "outputs": [
    {
     "name": "stdout",
     "output_type": "stream",
     "text": [
      "Digite su nombre: Jhon Raúl Pérez Muñoz\n",
      "Jhon Raúl Pérez Muñoz\n"
     ]
    }
   ],
   "source": [
    "# -- coding: utf-8 --\n",
    "nombre = input(\"Digite su nombre: \")\n",
    "print (nombre)"
   ]
  },
  {
   "cell_type": "code",
   "execution_count": 63,
   "metadata": {},
   "outputs": [],
   "source": [
    "import numpy as np\n",
    "def areaCirculo(radio):\n",
    "    return np.pi * radio**2"
   ]
  },
  {
   "cell_type": "code",
   "execution_count": 66,
   "metadata": {},
   "outputs": [
    {
     "data": {
      "text/plain": [
       "314.1592653589793"
      ]
     },
     "execution_count": 66,
     "metadata": {},
     "output_type": "execute_result"
    }
   ],
   "source": [
    "areaCirculo(10)\n"
   ]
  },
  {
   "cell_type": "raw",
   "metadata": {},
   "source": []
  },
  {
   "cell_type": "markdown",
   "metadata": {},
   "source": [
    "# Definir funciones con Python\n",
    "\n",
    "Las funciones son un concepto fundamental en programación, una función es una secuencia de comandos que realizan un computo.\n",
    "En Python las funciones se definen usando la palabra reservada def y luego el nombre de la función con paréntesis y dos puntos que indican que lo que sigue son los comandos, una función debe retornar un valor, para esto se usa la palabra reservada return.\n",
    "\n",
    "**def  suma(num1, num2):**\n",
    "    \n",
    "    **return num1 + num2 **\n",
    "\n",
    "Para usar una función simplemente la llamamos por su nombre seguido por paréntesis con los parámetros que recibe.\n",
    "\n",
    "**suma(2,3)**\n",
    "\n",
    "Para definir dónde comenzar el código usamos la línea:\n",
    "\n",
    "## if __name__ == '__main__'\n",
    "\n",
    "Para definir un bloque dentro de la función debemos indentar con 4 espacios.\n",
    "Las funciones nos permiten ejecutar determinado código con diferentes valores."
   ]
  },
  {
   "cell_type": "code",
   "execution_count": 3,
   "metadata": {},
   "outputs": [
    {
     "name": "stdout",
     "output_type": "stream",
     "text": [
      "Longitud del cuadrado: 60\n"
     ]
    }
   ],
   "source": [
    "import turtle\n",
    "\n",
    "def main():\n",
    "    window= turtle.Screen()\n",
    "    jhon = turtle.Turtle()\n",
    "    \n",
    "    make_square(jhon)\n",
    "    \n",
    "    turtle.mainloop()\n",
    "\n",
    "def make_square(jhon):\n",
    "    lenght = int(input(\"Longitud del cuadrado: \"))\n",
    "    for i in range(4):\n",
    "        make_line_and_turn(jhon,lenght)\n",
    "    \n",
    "def make_line_and_turn(jhon, lenght):\n",
    "    jhon.forward(lenght)\n",
    "    jhon.left(90)\n",
    "\n",
    "if __name__ == '__main__':\n",
    "    main()\n"
   ]
  },
  {
   "cell_type": "markdown",
   "metadata": {},
   "source": [
    "# Funciones con parámetros\n",
    "\n",
    "Limites al declarar funciones\n",
    "\n",
    "Los nombres no pueden comenzar con digitos\n",
    "No pueden utilizar una palabra reservada\n",
    "Las variables deben tener diferentes nombres\n",
    "Los nombres de las funciones deben ser descriptivas de lo que hacen las funciones\n",
    "Imprimir valor de variable\n",
    "\n",
    "Para poder imprimir el valor de una variable dentro de un string podemos hacerlo así:\n",
    "\n",
    "\\'\\\\${} pasos mexicanos son \\${} pesos mexicanos\\'.format(ammount, result)\n",
    "\n",
    "Declarar vs Ejecutar\n",
    "\n",
    "Declarar una función es escribir su estructura\n",
    "Ejecutar una función es llamar la función y ejecutar su código\n",
    "\n",
    "Donde se puede acceder a las variables\n",
    "\n",
    "Scope de las variables, cada vez que una función se ejecuta se genera un contenedor donde las variables de la función van a vivir, una vez se sale de la función estas variables no van a existir.\n",
    "\n"
   ]
  },
  {
   "cell_type": "code",
   "execution_count": 5,
   "metadata": {},
   "outputs": [
    {
     "name": "stdout",
     "output_type": "stream",
     "text": [
      " C A L C U L A D O R A D E D I V S A S\n",
      "Convierte dolares Americanos a pesos Colombianos\n",
      "\n",
      "Ingresa la cantidad de dolares Americanos que quieres convertir: 200\n",
      "$200.0 dolares americanos , son $813202.0 pesos colombianos\n",
      "\n"
     ]
    }
   ],
   "source": [
    "def run():\n",
    "    print(\" C A L C U L A D O R A D E D I V S A S\")\n",
    "    print(\"Convierte dolares Americanos a pesos Colombianos\")\n",
    "    print(\"\")\n",
    "    \n",
    "    ammount=float(input(\"Ingresa la cantidad de dolares Americanos que quieres convertir: \"))\n",
    "    \n",
    "    result = foreing_exchange_calculator(ammount)\n",
    "    \n",
    "    print(\"Us{} dolares americanos , son ${} pesos colombianos\".format(ammount,result))\n",
    "    print(\"\")\n",
    "\n",
    "def foreing_exchange_calculator(ammount):\n",
    "    usd_to_cop_rate=4066.01\n",
    "    \n",
    "    return ammount * usd_to_cop_rate\n",
    "    \n",
    "\n",
    "if __name__ == '__main__':\n",
    "    run()"
   ]
  },
  {
   "cell_type": "code",
   "execution_count": 12,
   "metadata": {},
   "outputs": [
    {
     "name": "stdout",
     "output_type": "stream",
     "text": [
      "200\n",
      "b'\\r\\n<!DOCTYPE html PUBLIC \"-//W3C//DTD XHTML 1.0 Transitional//EN\" \"http://www.w3.org/TR/xhtml1/DTD/xhtml1-transitional.dtd\">\\r\\n<html xmlns=\"http://www.w3.org/1999/xhtml\" xml:lang=\"es\" lang=\"es\">\\r\\n<head>\\r\\n<title>Informaci\\xc3\\xb3n del d\\xc3\\xb3lar interbancario en tiempo real | Set-FX</title>\\r\\n<link rel=\"stylesheet\" type=\"text/css\" href=\"css/setfx_3.css\" />\\r\\n<link rel=\"stylesheet\" type=\"text/css\" href=\"css/menu.css\" />\\r\\n<link rel=\"stylesheet\" type=\"text/css\" href=\"css/index.css\" />\\r\\n<link rel=\"stylesheet\" type=\"text/css\" href=\"css/menu_2.css\" />\\r\\n\\r\\n<script type=\"text/javascript\" src=\"https://www.gstatic.com/charts/loader.js\"></script>\\r\\n<script type=\"text/javascript\" src=\"http://ajax.googleapis.com/ajax/libs/jquery/1.10.2/jquery.min.js\"></script>\\r\\n<script type=\"text/javascript\" src=\"js/charts.js\"></script>\\r\\n\\r\\n<script type=\"text/javascript\" src=\"https://ajax.googleapis.com/ajax/libs/prototype/1.7.3.0/prototype.js\"></script>\\r\\n<script type=\"text/javascript\" src=\"js/ajax.js\"></script>\\r\\n<script type=\"text/javascript\" src=\"js/set-fx.js\"></script>\\r\\n<script src=\"/js/AC_OETags.js\" language=\"javascript\"></script>\\r\\n<script type=\"text/javascript\">\\r\\ninit = function() {\\r\\n\\r\\n    update();\\r\\n    updateNews();\\r\\n\\r\\n    new PeriodicalExecuter(\\r\\n        function () {\\r\\n            $(\\'currentTime\\').innerHTML=\"<span>\"+new Date().format()+\"</span>\";\\r\\n        }\\r\\n        , 1\\r\\n    );\\r\\n\\r\\n    new PeriodicalExecuter(update, 30);\\r\\n\\r\\n    new PeriodicalExecuter(updateNews, 300);\\r\\n\\r\\n    new Ajax.PeriodicalUpdater(\\'currencies\\', \\'http://www.set-fx.com/currencies\\',\\r\\n\\t\\t  {\\r\\n\\t\\t\\tmethod: \\'post\\',\\r\\n\\t\\t\\t//insertion: Insertion.Top,\\r\\n\\t\\t\\tfrequency: 40,\\r\\n\\t\\t\\tdecay: 1,\\r\\n\\t\\t\\tonFailure: function(transport) {\\r\\n\\t\\t\\t\\ttransport.responseText = \\'<br/><br/>\\';\\r\\n\\t\\t\\t}\\r\\n\\t\\t  });\\r\\n\\r\\n    new Ajax.PeriodicalUpdater(\\'bvc\\', \\'http://www.set-fx.com/bvc\\',\\r\\n\\t\\t  {\\r\\n\\t\\t\\tmethod: \\'post\\',\\r\\n\\t\\t\\t//insertion: Insertion.Top,\\r\\n\\t\\t\\tfrequency: 50,\\r\\n\\t\\t\\tdecay: 1,\\r\\n\\t\\t\\tonFailure: function(transport) {\\r\\n\\t\\t\\t\\ttransport.responseText = \\'<br/>\\';\\r\\n\\t\\t\\t}\\r\\n\\t\\t  });\\r\\n\\r\\n    new Ajax.PeriodicalUpdater(\\'igbc\\', \\'http://www.set-fx.com/igbc\\',\\r\\n\\t\\t  {\\r\\n\\t\\t\\tmethod: \\'post\\',\\r\\n\\t\\t\\t//insertion: Insertion.Top,\\r\\n\\t\\t\\tfrequency: 10,\\r\\n\\t\\t\\tdecay: 1,\\r\\n\\t\\t\\tonFailure: function(transport) {\\r\\n\\t\\t\\t\\ttransport.responseText = \\'<br/>\\';\\r\\n\\t\\t\\t}\\r\\n\\t\\t  });\\r\\n}\\r\\n\\r\\nupdate = function() {\\r\\n    new Ajax.Request(\"http://www.set-fx.com/stats?\" + new Date().format(\\'isoTime\\') ,\\r\\n      {\\r\\n        method:\\'get\\',\\r\\n        onSuccess: function(transport){\\r\\n\\r\\n          var response = transport.responseText;\\r\\n\\r\\n          var data = response.evalJSON();\\r\\n\\r\\n        //var data = transport.headerJSON;\\r\\n\\r\\n          $(\\'trmPrice\\').innerHTML = \\'<span>\\' + (data.trm==undefined?\\'\\':data.trm) + \\'</span>\\';\\r\\n          $(\\'openPrice\\').innerHTML = \\'<span>\\' + (data.openPrice==undefined?\\'\\':data.openPrice) + \\'</span>\\';\\r\\n          $(\\'maxPrice\\').innerHTML = \\'<span>\\' + (data.maxPrice==undefined?\\'\\':data.maxPrice) + \\'</span>\\';\\r\\n          $(\\'minPrice\\').innerHTML = \\'<span>\\' + (data.minPrice==undefined?\\'\\':data.minPrice) + \\'</span>\\';\\r\\n\\r\\n          $(\\'transactions\\').innerHTML = \\'<span>\\' + (data.transactions==undefined?\\'\\':data.transactions) + \\'</span>\\';\\r\\n\\r\\n          $(\\'totalAmmount\\').innerHTML = \\'<span>\\' + (data.totalAmmount==undefined?\\'\\':data.totalAmmount) + \\'</span>\\';\\r\\n          $(\\'latestAmmount\\').innerHTML = \\'<span>\\' + (data.latestAmmount==undefined?\\'\\':data.latestAmmount) + \\'</span>\\';\\r\\n          $(\\'avgAmmount\\').innerHTML =  \\'<span>\\' + (data.avgAmmount==undefined?\\'\\':data.avgAmmount) + \\'</span>\\';\\r\\n          $(\\'maxAmmount\\').innerHTML = \\'<span>\\' + (data.maxAmmount==undefined?\\'\\':data.maxAmmount) + \\'</span>\\';\\r\\n          $(\\'minAmmount\\').innerHTML = \\'<span>\\' + (data.minAmmount==undefined?\\'\\':data.minAmmount) + \\'</span>\\';\\r\\n          if(data.priceChange == \\'up\\' || data.priceChange == \\'eq\\' || data.priceChange == \\'down\\'){\\r\\n              $(\\'barraTurista\\').style.backgroundImage = \"url(img/BarraTurista.png)\";\\r\\n\\t          $(\\'barraTuristaCierre\\').innerHTML = \\'$ \\' + data.formattedPrice + \" <img src=\\'img/precio_\"+data.priceChange+\".png\\' style=\\'margin-bottom: 3px\\' />\";\\r\\n\\t          $(\\'barraTuristaPromedio\\').innerHTML = \\'$ \\' + data.formattedAvgPrice + \" <img src=\\'img/precio_\"+data.avgPriceChange+\".png\\' style=\\'margin-bottom: 3px\\' />\";\\r\\n          }else{\\r\\n        \\t  $(\\'barraTurista\\').style.backgroundImage = \"url(img/BarraTuristaNoData.png)\";\\r\\n\\t          $(\\'barraTuristaCierre\\').innerHTML = \"\";\\r\\n\\t          $(\\'barraTuristaPromedio\\').innerHTML = \"\";\\r\\n          }\\r\\n\\r\\n\\r\\n          $(\\'trmPriceChange\\').src = \\'/img/\\' + data.trmPriceChange + \\'2.gif\\';\\r\\n          if(data.openPriceChange!=undefined && data.openPriceChange != \\'spacer\\'){\\r\\n              $(\\'openPriceChange\\').src = \\'/img/\\' + data.openPriceChange + \\'2.gif\\';\\r\\n          }\\r\\n          if(data.minPriceChange!=undefined && data.minPriceChange != \\'spacer\\'){\\r\\n                $(\\'minPriceChange\\').src = \\'/img/\\' + data.minPriceChange + \\'2.gif\\';\\r\\n          }\\r\\n          if(data.maxPriceChange!=undefined && data.maxPriceChange != \\'spacer\\'){\\r\\n                $(\\'maxPriceChange\\').src = \\'/img/\\' + data.maxPriceChange + \\'2.gif\\';\\r\\n          }\\r\\n\\r\\n          loadMontosPreciosData();\\r\\n        },\\r\\n        onFailure: function(){\\r\\n            //alert(\\'Something went wrong...\\')\\r\\n            }\\r\\n      });\\r\\n}\\r\\n\\r\\nupdateNews = function() {\\r\\n    new Ajax.Request(\"http://www.set-fx.com/json/newsJson\",\\r\\n      {\\r\\n        method:\\'get\\',\\r\\n        onSuccess: function(transport){\\r\\n\\r\\n          var response = transport.responseText;\\r\\n\\r\\n          var data = response.evalJSON();\\r\\n          var content = \"<marquee id=\\'newsMarquee\\' onMouseOver=this.stop() onMouseOut=this.start() direction=\\'up\\' scrollamount=\\'1\\' scrolldelay=\\'1\\' class=\\'news\\' style=\\'height:208px;\\' behavior=\\'scroll\\'>\"\\r\\n\\r\\n           for(var i=0; i<data.length; i++){\\r\\n\\t            var noticia = data[i];\\r\\n\\t\\t\\t    content += \"<div class=\\'newsItem\\'>\";\\r\\n\\t\\t\\t    content +=   noticia.headline + \"<br />\";\\r\\n\\t\\t\\t    content +=   noticia.date + \" &nbsp;&nbsp; \"+noticia.hora;\\r\\n\\t\\t\\t    content +=   \"<br /><a href=\\'javascript:void(0);\\' onclick=\\\\\"win3 = window.open(\\'newsArticle?id=\"+noticia.id+\"\\', \\'Window2\\', \\'width=664,height=540,scrollbars=yes\\');\\\\\">Leer m\\xc3\\xa1s</a><img src=\\'img/news_arrow.gif\\' alt=\\'Leer m\\xc3\\xa1s\\' />\";\\r\\n\\t\\t\\t    content +=    \"<div class=\\'separator\\'><img src=\\'img/news_separator.gif\\' alt=\\'\\' /></div>\";\\r\\n\\t\\t\\t    content += \"</div>\";\\r\\n            }\\r\\n          content += \"</marquee>\";\\r\\n          //alert(content);\\r\\n          $(\\'noticias\\').innerHTML = content;\\r\\n          $(\\'newsMarquee\\').start();\\r\\n\\r\\n        },\\r\\n        onFailure: function(){\\r\\n            alert(\\'Something went wrong...\\')\\r\\n            }\\r\\n      });\\r\\n}\\r\\n</script>\\r\\n</head>\\r\\n\\r\\n<body onload=\"init();\">\\r\\n\\t<div id=\"container\">\\r\\n\\t\\t<div id=\"main\">\\r\\n\\t\\t\\t<table width=\"850\" align=\"center\" border=\"0\" cellpadding=\"0\" cellspacing=\"0\">\\r\\n\\t\\t\\t\\t<tbody>\\r\\n\\t\\t\\t\\t\\t<tr>\\r\\n\\t\\t\\t\\t\\t\\t<td colspan=\"2\">\\r\\n\\t\\t\\t\\t\\t\\t\\t\\r\\n\\r\\n<!-- head table -->\\r\\n<table width=\"100%\" border=\"0\" cellpadding=\"0\" cellspacing=\"0\">\\r\\n\\t<tbody>\\r\\n\\t\\t<tr>\\r\\n\\t\\t\\t<td width=\"35%\" valign=\"top\">\\r\\n\\t\\t\\t\\t<div class=\"logo\"><a href=\"/index.html;jsessionid=iy9kpy626ujr\"><img src=\"img/logo-set-fx.jpg\" alt=\"Set-FX Sitema electrnico de transaccin de moneda extranjera\" border=\"0\" /></a></div>\\r\\n\\t\\t\\t</td>\\r\\n\\t\\t\\t<td>\\r\\n\\t\\t\\t\\t<table width=\"99%\" border=\"0\">\\r\\n\\t\\t\\t\\t\\t<tr>\\r\\n\\t\\t\\t\\t\\t\\t<td align=\"left\">\\r\\n\\t\\t\\t\\t\\t\\t\\t<table cellpadding=\"0\" cellspacing=\"0\" style=\"width:220px\">\\r\\n\\t\\t\\t\\t\\t\\t\\t\\t<tr>\\r\\n\\t\\t\\t\\t\\t\\t\\t\\t\\t<td>\\r\\n\\t\\t\\t\\t\\t\\t\\t\\t\\t<div id=\"cirjdJ\" style=\"z-index:100; position:absolute;\"></div>\\r\\n\\t\\t\\t\\t\\t\\t\\t\\t\\t<div id=\"scrjdJ\" style=\"display:inline;\"></div>\\r\\n\\t\\t\\t\\t\\t\\t\\t\\t\\t<div id=\"sdrjdJ\" style=\"display:none;\"></div>\\r\\n\\t\\t\\t\\t\\t\\t\\t\\t\\t<script type=\"text/javascript\">\\r\\n\\t\\t\\t\\t\\t\\t\\t\\t\\t\\tvar serjdJ=document.createElement(\"script\");\\r\\n\\t\\t\\t\\t\\t\\t\\t\\t\\t\\tserjdJ.type=\"text/javascript\";\\r\\n\\t\\t\\t\\t\\t\\t\\t\\t\\t\\tvar serjdJs=(location.protocol.indexOf(\"https\")==0?\"https\":\"http\")+\"://image.providesupport.com/js/set-fx/safe-standard.js?ps_h=rjdJ\\\\u0026ps_t=\"+new Date().getTime();\\r\\n\\t\\t\\t\\t\\t\\t\\t\\t\\t\\tsetTimeout(\"serjdJ.src=serjdJs;document.getElementById(\\'sdrjdJ\\').appendChild(serjdJ)\",1)\\r\\n\\t\\t\\t\\t\\t\\t\\t\\t\\t</script>\\r\\n\\t\\t\\t\\t\\t\\t\\t\\t\\t<noscript>\\r\\n\\t\\t\\t\\t\\t\\t\\t\\t\\t\\t<div style=\"display:inline\"><a href=\"http://www.providesupport.com?messenger=set-fx\">Customer Service Help Desk</a></div>\\r\\n\\t\\t\\t\\t\\t\\t\\t\\t\\t</noscript> \\r\\n\\t\\t\\t\\t\\t\\t\\t\\t\\t</td>\\r\\n\\t\\t\\t\\t\\t\\t\\t\\t\\t<td style=\"font-size:13px;padding-left:5px\">\\r\\n\\t\\t\\t\\t\\t\\t\\t\\t\\t Horario de atencion:<br>\\r\\n\\t\\t\\t\\t\\t\\t\\t\\t\\t 8:00 AM / 5:00 PM\\r\\n\\t\\t\\t\\t\\t\\t\\t\\t\\t</td>\\r\\n\\t\\t\\t\\t\\t\\t\\t\\t</tr>\\r\\n\\t\\t\\t\\t\\t\\t\\t</table>\\r\\n\\t\\t\\t\\t\\t\\t</td>\\r\\n\\t\\t\\t\\t\\t\\t<td align=\"center\">\\r\\n\\t\\t\\t\\t\\t\\t\\t<a href=\"/content/protap/index.html;jsessionid=iy9kpy626ujr\" onmouseover=\"document.getElementById(\\'imgProtap\\').src=\\'/img/protap1.png;jsessionid=iy9kpy626ujr\\'\" onmouseout=\"document.getElementById(\\'imgProtap\\').src=\\'/img/protap.png;jsessionid=iy9kpy626ujr\\'\"><img id=\"imgProtap\" src=\"/img/protap.png;jsessionid=iy9kpy626ujr\" border=\"0\"></a>\\r\\n\\t\\t\\t\\t\\t\\t</td>\\r\\n\\t\\t\\t\\t\\t\\t<td align=\"right\">\\r\\n\\t\\t\\t\\t\\t\\t\\t<div style=\"text-align:right;\">\\r\\n\\t\\t\\t\\t\\t\\t\\t\\t\\r\\n\\t\\t\\t\\t\\t\\t\\t\\t<div id=\"currentTime\" class=\"currentTime_1\"><span>\\r\\n\\t\\t\\t\\t\\t\\t\\t\\t<script type=\"text/javascript\">\\r\\n\\t\\t\\t\\t\\t\\t\\t\\t\\tdocument.write(new Date().format())\\r\\n\\t\\t\\t\\t\\t\\t\\t\\t</script>\\r\\n\\t\\t\\t\\t\\t\\t\\t\\t\\r\\n\\t\\t\\t\\t\\t\\t\\t\\t</span></div>\\r\\n\\t\\t\\t\\t\\t\\t\\t</div>         \\r\\n\\t\\t\\t\\t\\t\\t</td>\\r\\n\\t\\t\\t\\t\\t</tr>\\r\\n\\t\\t\\t\\t</table>\\r\\n\\t\\t\\t\\t\\r\\n\\t\\t\\t\\t<div id=\"nav\">\\r\\n\\t\\t\\t\\t\\t<ul>\\r\\n\\t\\t\\t\\t\\t\\t<li id=\"nav-dolar\"><a href=\"/content/productosservicios/index.html;jsessionid=iy9kpy626ujr\"><span>Productos y servicios</span></a></li>\\r\\n\\t\\t\\t\\t\\t\\t<li id=\"nav-mercado\"><a href=\"/content/mercadocambiario/index.html;jsessionid=iy9kpy626ujr\"><span>Mercado Cambiario</span></a></li>\\r\\n\\t\\t\\t\\t\\t\\t<li id=\"nav-acerca\"><a href=\"/content/acerca/index.html;jsessionid=iy9kpy626ujr\"><span>Acerca de Set-FX</span></a></li>\\r\\n\\t\\t\\t\\t\\t\\t<li id=\"nav-registrese\"><a href=\"/register;jsessionid=iy9kpy626ujr\"><span>Reg\\xc3\\xadstrese</span></a></li>\\r\\n\\t\\t\\t\\t\\t</ul>\\r\\n\\t\\t\\t\\t</div><!-- /nav -->\\r\\n\\t\\t\\t\\t<div class=\"infoRetraso\">\\r\\n\\t\\t\\t\\t\\t<div style=\"float: left;\">Informaci\\xc3\\xb3n con 15 minutos de retraso<br></div>\\r\\n\\t\\t\\t\\t\\t\\t<div style=\"float: right;\">\\r\\n<div id=\"menu_outter_4\" style=\"float: right; margin-left: 3px\">\\r\\n\\t<div id=\"menu_4a\">\\r\\n\\t\\t<ul>\\r\\n\\t\\t\\t<li id=\"item_2\"><a href=\"/homereg;jsessionid=iy9kpy626ujr\"><span>Dolar Spot</span></a></li>\\t\\t\\t\\r\\n\\t\\t\\t<li id=\"item_3\"><a href=\"/sector.html;jsessionid=iy9kpy626ujr?sector=interbancario \" ><span>Sector Interbancario</span></a></li>\\r\\n\\t\\t\\t<li id=\"item_4\"><a href=\"/sector.html;jsessionid=iy9kpy626ujr?sector=real \" ><span>Sector Real</span></a></li>\\r\\n\\t\\t</ul>\\r\\n\\t</div><!-- /menu_3a -->\\r\\n</div><!-- /menu_outter_3 -->\\r\\n\\r\\n<div style=\"float:right; font-size: 12px\">\\r\\n\\tNEGOCIACI&Oacute;N <br/>Y REGISTRO DE DIVISAS\\r\\n</div></div>\\r\\n\\t\\t\\t\\t</div>\\r\\n\\t\\t\\t</td>\\r\\n\\t\\t</tr>\\r\\n\\t</tbody>\\r\\n</table>\\r\\n  <!-- head table -->\\r\\n\\t\\t\\t\\t\\t\\t</td>\\r\\n\\t\\t\\t\\t\\t</tr>\\r\\n\\t\\t\\t\\t\\t<tr>\\r\\n\\t\\t\\t\\t\\t\\t<td width=\"566\">\\r\\n\\t\\t\\t\\t\\t\\t\\t&nbsp;&nbsp;Estad&iacute;sticas de 8 am a 1 pm\\r\\n\\t\\t\\t\\t\\t\\t\\t<div class=\"box_outter_5\">\\r\\n\\t\\t\\t\\t\\t\\t\\t\\t<div class=\"box_inner_5\">\\r\\n\\t\\t\\t\\t\\t\\t\\t\\t\\t<font class=\"dolarSpotTitle\">D&oacute;lar Spot</font>\\r\\n\\t\\t\\t\\t\\t\\t\\t\\t\\t<div id=\"chart_montos_precios_div\" class=\"loadLogoImage\">\\r\\n\\t\\t\\t\\t\\t\\t\\t\\t\\t\\t<br/>\\r\\n\\t\\t\\t\\t\\t\\t\\t\\t\\t\\t<br/>\\r\\n\\t\\t\\t\\t\\t\\t\\t\\t\\t\\t<img src=\"img/set-fx-logo-loading.png\"/>\\r\\n\\t\\t\\t\\t\\t\\t\\t\\t\\t</div>\\r\\n\\t\\t\\t\\t\\t\\t\\t\\t</div><!-- /box_inner_5 -->\\r\\n\\t\\t\\t\\t\\t\\t\\t</div><!-- /box_outter_5 -->\\r\\n\\t\\t\\t\\t\\t\\t</td>\\r\\n\\t\\t\\t\\t\\t\\t<td width=\"284\" valign=\"top\" style=\"padding-top: 15px;\">\\r\\n\\t\\t\\t\\t\\t\\t\\t<div class=\"box_outter_4\">\\r\\n\\t\\t\\t\\t\\t\\t\\t\\t<div class=\"box_inner_4\">\\r\\n\\t\\t\\t\\t\\t\\t\\t\\t\\t<h1>Acceso a la informaci\\xc3\\xb3n del d\\xc3\\xb3lar<br />interbancario en tiempo real.</h1>\\r\\n\\t\\t\\t\\t\\t\\t\\t\\t\\t\\r\\n\\t\\t\\t\\t\\t\\t\\t\\t\\t\\t<form name=\"f\" action=\"j_spring_security_check;jsessionid=iy9kpy626ujr\" method=\"post\">\\r\\n\\t\\t\\t\\t\\t\\t\\t\\t\\t\\t\\t<table border=\"0\" cellpadding=\"0\" cellspacing=\"0\">\\r\\n\\t\\t\\t\\t\\t\\t\\t\\t\\t\\t\\t\\t<tr>\\r\\n\\t\\t\\t\\t\\t\\t\\t\\t\\t\\t\\t\\t\\t<th width=\"78\">Usuario:</th>\\r\\n\\t\\t\\t\\t\\t\\t\\t\\t\\t\\t\\t\\t\\t<td><input type=\"text\" name=\"j_username\" id=\"j_username\" class=\"text_field_1\" /></td>\\r\\n\\t\\t\\t\\t\\t\\t\\t\\t\\t\\t\\t\\t</tr>\\r\\n\\t\\t\\t\\t\\t\\t\\t\\t\\t\\t\\t\\t<tr>\\r\\n\\t\\t\\t\\t\\t\\t\\t\\t\\t\\t\\t\\t\\t<th>Contrase\\xc3\\xb1a:</th>\\r\\n\\t\\t\\t\\t\\t\\t\\t\\t\\t\\t\\t\\t\\t<td><input type=\"password\" name=\"j_password\" id=\"j_password\" class=\"text_field_1\" /></td>\\r\\n\\t\\t\\t\\t\\t\\t\\t\\t\\t\\t\\t\\t</tr>\\r\\n\\t\\t\\t\\t\\t\\t\\t\\t\\t\\t\\t</table>\\r\\n\\t\\t\\t\\t\\t\\t\\t\\t\\t\\t\\t<div class=\"error\" style=\"text-align:center; margin:0px; margin-top:4px;\">\\r\\n\\t\\t\\t\\t\\t\\t\\t\\t\\t\\t\\t\\t\\r\\n\\t\\t\\t\\t\\t\\t\\t\\t\\t\\t\\t\\t&nbsp;\\r\\n\\t\\t\\t\\t\\t\\t\\t\\t\\t\\t\\t</div>\\r\\n\\t\\t\\t\\t\\t\\t\\t\\t\\t\\t\\t<table border=\"0\" cellpadding=\"0\" cellspacing=\"0\" style=\"margin-top:0px;\">\\r\\n\\t\\t\\t\\t\\t\\t\\t\\t\\t\\t\\t\\t<tr>\\r\\n\\t\\t\\t\\t\\t\\t\\t\\t\\t\\t\\t\\t\\t<td colspan=\"2\">\\r\\n\\t\\t\\t\\t\\t\\t\\t\\t\\t\\t\\t\\t\\t\\t<table border=\"0\" cellpadding=\"0\" cellspacing=\"0\" class=\"buttons\">\\r\\n\\t\\t\\t\\t\\t\\t\\t\\t\\t\\t\\t\\t\\t\\t\\t<tr>\\r\\n\\t\\t\\t\\t\\t\\t\\t\\t\\t\\t\\t\\t\\t\\t\\t\\t<td width=\"125\">\\r\\n\\t\\t\\t\\t\\t\\t\\t\\t\\t\\t\\t\\t\\t\\t\\t\\t\\t<div><a id=\"passwordReminder\" href=\"javascript:void(0);\" onclick=\"javascript:openPasswordReminder();\">Olvide mi contrase\\xc3\\xb1a</a></div>\\r\\n\\t\\t\\t\\t\\t\\t\\t\\t\\t\\t\\t\\t\\t\\t\\t\\t</td>\\r\\n\\t\\t\\t\\t\\t\\t\\t\\t\\t\\t\\t\\t\\t\\t\\t\\t<td class=\"button\">\\r\\n\\t\\t\\t\\t\\t\\t\\t\\t\\t\\t\\t\\t\\t\\t\\t\\t\\t<input type=\"image\" name=\"submit\" src=\"img/boton_ing.gif\" value=\"Recordar\" />\\r\\n\\t\\t\\t\\t\\t\\t\\t\\t\\t\\t\\t\\t\\t\\t\\t\\t</td>\\r\\n\\t\\t\\t\\t\\t\\t\\t\\t\\t\\t\\t\\t\\t\\t\\t</tr>\\r\\n\\t\\t\\t\\t\\t\\t\\t\\t\\t\\t\\t\\t\\t\\t</table>\\r\\n\\t\\t\\t\\t\\t\\t\\t\\t\\t\\t\\t\\t\\t</td>\\r\\n\\t\\t\\t\\t\\t\\t\\t\\t\\t\\t\\t\\t</tr>\\r\\n\\t\\t\\t\\t\\t\\t\\t\\t\\t\\t\\t</table>\\r\\n\\t\\t\\t\\t\\t\\t\\t\\t\\t\\t</form>\\r\\n\\t\\t\\t\\t\\t\\t\\t\\t\\t\\r\\n\\t\\t\\t\\t\\t\\t\\t\\t</div><!-- /box_inner_3 -->\\r\\n\\t\\t\\t\\t\\t\\t\\t</div><!-- /box_outter_3 -->\\r\\n\\t\\t\\t\\t\\t\\t</td>\\r\\n\\t\\t\\t\\t\\t</tr>\\r\\n\\t\\t\\t\\t\\t<tr>\\r\\n\\t\\t\\t\\t\\t\\t<td colspan=\"2\">\\r\\n\\t\\t\\t\\t\\t\\t\\t<div class=\"dolarSetFX\">\\r\\n\\t\\t\\t\\t\\t\\t\\t\\t\\t<style>\\r\\n\\t\\t\\t\\t\\t\\t\\t\\t\\t.BarraTurista{\\r\\n\\t\\t\\t\\t\\t\\t\\t\\t\\t\\tbackground-image: url(\\'img/BarraTuristaNoData.png\\');\\r\\n\\t\\t\\t\\t\\t\\t\\t\\t\\t\\twidth: 841px;\\r\\n\\t\\t\\t\\t\\t\\t\\t\\t\\t\\theight: 62px;\\r\\n\\t\\t\\t\\t\\t\\t\\t\\t\\t}\\r\\n\\r\\n\\t\\t\\t\\t\\t\\t\\t\\t\\t.PrecioBarraTurista{\\r\\n\\t\\t\\t\\t\\t\\t\\t\\t\\t\\tcolor: #BFD6BC;\\r\\n\\t\\t\\t\\t\\t\\t\\t\\t\\t\\tfont-family:Calibri,Geneva,Helvetica,Arial,sans-serif;\\r\\n\\t\\t\\t\\t\\t\\t\\t\\t\\t\\tfont-size: 31px;\\r\\n\\t\\t\\t\\t\\t\\t\\t\\t\\t\\tfont-weight: bold;\\r\\n\\t\\t\\t\\t\\t\\t\\t\\t\\t\\twidth: 169px;\\r\\n\\t\\t\\t\\t\\t\\t\\t\\t\\t\\theight: 33px;\\r\\n\\t\\t\\t\\t\\t\\t\\t\\t\\t\\tmargin-top:6px;\\r\\n\\t\\t\\t\\t\\t\\t\\t\\t\\t}\\r\\n\\t\\t\\t\\t\\t\\t\\t\\t</style>\\r\\n\\r\\n\\t\\t\\t\\t\\t\\t\\t\\t<div class=\"BarraTurista\" id=\"barraTurista\">\\r\\n\\t\\t\\t\\t\\t\\t\\t\\t\\t<div class=\"PrecioBarraTurista\" id=\"barraTuristaCierre\" style=\"float:left;margin-left:295px\">\\r\\n\\t\\t\\t\\t\\t\\t\\t\\t\\t</div>\\r\\n\\t\\t\\t\\t\\t\\t\\t\\t\\t<div class=\"PrecioBarraTurista\" id=\"barraTuristaPromedio\" style=\"float:right;margin-right:33px\">\\r\\n\\t\\t\\t\\t\\t\\t\\t\\t\\t</div>\\r\\n\\t\\t\\t\\t\\t\\t\\t\\t</div>\\r\\n\\t\\t\\t\\t\\t\\t\\t</div><!-- /dolarSetFX -->\\r\\n\\t\\t\\t\\t\\t\\t</td>\\r\\n\\t\\t\\t\\t\\t</tr>\\r\\n\\t\\t\\t\\t\\t<tr>\\r\\n\\t\\t\\t\\t\\t\\t<td valign=\"top\">\\r\\n\\t\\t\\t\\t\\t\\t\\t<div class=\"left_box_outter_2\" style=\"margin-top:0px;\">\\r\\n\\t\\t\\t\\t\\t\\t\\t\\t<div><img src=\"img/box_border_top_4.jpg\" alt=\"\" height=\"12\" /></div>\\r\\n\\t\\t\\t\\t\\t\\t\\t\\t<div class=\"left_box_inner_2\" style=\"height:156px;\">\\r\\n\\t\\t\\t\\t\\t\\t\\t\\t\\t<table border=\"0\" cellpadding=\"0\" cellspacing=\"0\" class=\"indicadores\">\\r\\n\\t\\t\\t\\t\\t\\t\\t\\t\\t\\t<tbody>\\r\\n\\t\\t\\t\\t\\t\\t\\t\\t\\t\\t\\t<tr>\\r\\n\\t\\t\\t\\t\\t\\t\\t\\t\\t\\t\\t\\t<th colspan=\"2\" class=\"no_padding\"><div class=\"subtitle\">Precios del d\\xc3\\xb3lar</div></th>\\r\\n\\t\\t\\t\\t\\t\\t\\t\\t\\t\\t\\t\\t<th colspan=\"2\" class=\"no_padding\"><div class=\"subtitle\">Montos USD</div></th>\\t\\t\\t\\t\\t\\t\\t\\t\\t\\t\\t\\t\\r\\n\\t\\t\\t\\t\\t\\t\\t\\t\\t\\t\\t</tr>\\r\\n\\t\\t\\t\\t\\t\\t\\t\\t\\t\\t\\t<tr>\\r\\n\\t\\t\\t\\t\\t\\t\\t\\t\\t\\t\\t\\t<th width=\"24%\">TRM:</th>\\r\\n\\t\\t\\t\\t\\t\\t\\t\\t\\t\\t\\t\\t<td width=\"26%\">\\r\\n\\t\\t\\t\\t\\t\\t\\t\\t\\t\\t\\t\\t    <div class=\"statItem\"><span id=\"trmPrice\"  style=\"padding-right: 2px\"></span><img id=\"trmPriceChange\" src=\"img/spacer.gif\" width=\"12\" height=\"12\" border=\"0\" style=\"margin-left: 2px\" /></div>\\r\\n\\t\\t\\t\\t\\t\\t\\t\\t\\t\\t\\t\\t</td>\\r\\n\\t\\t\\t\\t\\t\\t\\t\\t\\t\\t\\t\\t<th width=\"24%\">Negociado:</th>\\r\\n\\t\\t\\t\\t\\t\\t\\t\\t\\t\\t\\t\\t<td width=\"26%\"><div class=\"statItem\" style=\"padding-right:7px\"><span id=\"totalAmmount\"></span></div></td>\\r\\n\\t\\t\\t\\t\\t\\t\\t\\t\\t\\t\\t</tr>\\r\\n\\t\\t\\t\\t\\t\\t\\t\\t\\t\\t\\t<tr>\\r\\n\\t\\t\\t\\t\\t\\t\\t\\t\\t\\t\\t\\t<th>Apertura *:</th>\\r\\n\\t\\t\\t\\t\\t\\t\\t\\t\\t\\t\\t\\t<td><div class=\"statItem\"><span id=\"openPrice\"></span><img id=\"openPriceChange\" src=\"img/spacer.gif\" width=\"12\" height=\"12\" border=\"0\" style=\"margin-left: 2px\" /></div></td>\\r\\n\\t\\t\\t\\t\\t\\t\\t\\t\\t\\t\\t\\t<th>\\xc3\\x9altimo:</th>\\r\\n\\t\\t\\t\\t\\t\\t\\t\\t\\t\\t\\t\\t<td><div class=\"statItem\"><span id=\"latestAmmount\"></span></div></td>\\r\\n\\t\\t\\t\\t\\t\\t\\t\\t\\t\\t\\t</tr>\\r\\n\\t\\t\\t\\t\\t\\t\\t\\t\\t\\t\\t<tr>\\r\\n\\t\\t\\t\\t\\t\\t\\t\\t\\t\\t\\t\\t<th>M\\xc3\\xadnimo *:</th>\\r\\n\\t\\t\\t\\t\\t\\t\\t\\t\\t\\t\\t\\t<td><div class=\"statItem\"><span id=\"minPrice\"></span><img id=\"minPriceChange\" src=\"img/spacer.gif\" width=\"12\" height=\"12\" border=\"0\" style=\"margin-left: 2px\"/></div></td>\\r\\n\\t\\t\\t\\t\\t\\t\\t\\t\\t\\t\\t\\t<th>Promedio:</th>\\r\\n\\t\\t\\t\\t\\t\\t\\t\\t\\t\\t\\t\\t<td><div class=\"statItem\"><span id=\"avgAmmount\"></span></div></td>\\r\\n\\t\\t\\t\\t\\t\\t\\t\\t\\t\\t\\t</tr>\\r\\n\\t\\t\\t\\t\\t\\t\\t\\t\\t\\t\\t<tr>\\r\\n\\t\\t\\t\\t\\t\\t\\t\\t\\t\\t\\t\\t<th>M\\xc3\\xa1ximo *:</th>\\r\\n\\t\\t\\t\\t\\t\\t\\t\\t\\t\\t\\t\\t<td><div class=\"statItem\"><span id=\"maxPrice\"></span><img id=\"maxPriceChange\" src=\"img/spacer.gif\" width=\"12\" height=\"12\" border=\"0\" style=\"margin-left: 2px\"/></div></td>\\r\\n\\t\\t\\t\\t\\t\\t\\t\\t\\t\\t\\t\\t<th>M\\xc3\\xadnimo :</th>\\r\\n\\t\\t\\t\\t\\t\\t\\t\\t\\t\\t\\t\\t<td><div class=\"statItem\"><span id=\"minAmmount\"></span></div></td>\\r\\n\\t\\t\\t\\t\\t\\t\\t\\t\\t\\t\\t<tr>\\r\\n\\t\\t\\t\\t\\t\\t\\t\\t\\t\\t\\t\\t<th>* No Incluyen Registros</th>\\r\\n\\t\\t\\t\\t\\t\\t\\t\\t\\t\\t\\t\\t<td>&nbsp;</td>\\r\\n\\t\\t\\t\\t\\t\\t\\t\\t\\t\\t\\t\\t<th>M\\xc3\\xa1ximo:</th>\\r\\n\\t\\t\\t\\t\\t\\t\\t\\t\\t\\t\\t\\t<td><div class=\"statItem\"><span id=\"maxAmmount\"></span></div></td>\\r\\n\\t\\t\\t\\t\\t\\t\\t\\t\\t\\t\\t</tr>\\r\\n\\t\\t\\t\\t\\t\\t\\t\\t\\t\\t\\t<tr>\\r\\n\\t\\t\\t\\t\\t\\t\\t\\t\\t\\t\\t\\t<th>&nbsp;</th>\\r\\n\\t\\t\\t\\t\\t\\t\\t\\t\\t\\t\\t\\t<td>&nbsp;</td>\\r\\n\\t\\t\\t\\t\\t\\t\\t\\t\\t\\t\\t\\t<th>Transacciones:</th>\\r\\n\\t\\t\\t\\t\\t\\t\\t\\t\\t\\t\\t\\t<td><div class=\"statItem\"><span id=\"transactions\"></span></div></td>\\r\\n\\t\\t\\t\\t\\t\\t\\t\\t\\t\\t\\t</tr>\\r\\n\\t\\t\\t\\t\\t\\t\\t\\t\\t\\t</tbody>\\r\\n\\t\\t\\t\\t\\t\\t\\t\\t\\t</table>\\r\\n\\t\\t\\t\\t\\t\\t\\t\\t</div><!-- /left_box_inner_2 -->\\r\\n\\t\\t\\t\\t\\t\\t\\t</div><!-- /left_box_outter_2 -->\\r\\n\\t\\t\\t\\t\\t\\t</td>\\r\\n\\t\\t\\t\\t\\t\\t<td valign=\"top\">\\r\\n\\t\\t\\t\\t\\t\\t\\t<div class=\"right_box_outter\" style=\"margin-top:0px;\">\\r\\n\\t\\t\\t\\t\\t\\t\\t\\t<div><img src=\"img/box_border_top_2.jpg\" alt=\"\" height=\"12\" /></div>\\r\\n\\t\\t\\t\\t\\t\\t\\t\\t<div class=\"right_box_inner\" style=\"height:157px;\">\\r\\n\\t\\t\\t\\t\\t\\t\\t\\t\\t<h1 style=\"height:20px\"><div style=\"float:left; width:50%\">Monedas</div><div style=\"float:right; width:50%; text-align:right\"><a  onClick=\"window.open(\\'http://www.cma.com.ar\\',\\'CMA\\',\\'\\')\" href=\"#\"><img src=\"../img/currenciesSource.jpg\" border=\"0\"/></a></div></h1>\\r\\n\\t\\t\\t\\t\\t\\t\\t\\t\\t<div id=\"currencies\">\\r\\n\\t\\t\\t\\t\\t\\t\\t\\t\\t\\t<div align=\"center\" class=\"preloadCurrencies\"><img src=\"img/ajax-loader.gif\" width=\"16\" height=\"16\" alt=\"\" /></div>\\r\\n\\t\\t\\t\\t\\t\\t\\t\\t\\t</div>\\r\\n\\t\\t\\t\\t\\t\\t\\t\\t</div><!-- /right_box_inner -->\\r\\n\\t\\t\\t\\t\\t\\t\\t</div><!-- /right_box_outter -->\\r\\n\\t\\t\\t\\t\\t\\t</td>\\r\\n\\t\\t\\t\\t\\t</tr>\\r\\n\\t\\t\\t\\t\\t<tr>\\r\\n\\t\\t\\t\\t\\t\\t<td valign=\"top\">\\r\\n\\t\\t\\t\\t\\t\\t\\t<table width=\"100%\" border=\"0\" cellpadding=\"0\" cellpadding=\"0\">\\r\\n\\t\\t\\t\\t\\t\\t\\t\\t<tr>\\r\\n\\t\\t\\t\\t\\t\\t\\t\\t\\t<td width=\"246\" valign=\"top\">\\r\\n\\t\\t\\t\\t\\t\\t\\t\\t\\t\\t<div class=\"left_box_outter_7\">\\r\\n\\t\\t\\t\\t\\t\\t\\t\\t\\t\\t\\t<div><img src=\"img/box_border_top_6.jpg\" alt=\"\" height=\"12\" /></div>\\r\\n\\t\\t\\t\\t\\t\\t\\t\\t\\t\\t\\t<div class=\"left_box_inner_7\" style=\"height:255px;\">\\r\\n\\t\\t\\t\\t\\t\\t\\t\\t\\t\\t\\t\\t<h1 class=\"logoSetFx\">Acciones m\\xc3\\xa1s transadas</h1>\\r\\n\\t\\t\\t\\t\\t\\t\\t\\t\\t\\t\\t\\t<div style=\"text-align: right; width:100%\"><h3>Valor &nbsp;&nbsp;&nbsp; Var. %</h3></div>\\r\\n\\t\\t\\t\\t\\t\\t\\t\\t\\t\\t\\t\\t<div id=\"bvc\">\\r\\n\\t\\t\\t\\t\\t\\t\\t\\t\\t\\t\\t\\t\\t<div class=\"preloadBVC\"><img src=\"img/ajax-loader.gif\" width=\"16\" height=\"16\" alt=\"\" /></div>\\r\\n\\t\\t\\t\\t\\t\\t\\t\\t\\t\\t\\t\\t</div>\\r\\n\\t\\t\\t\\t\\t\\t\\t\\t\\t\\t\\t</div><!-- /left_box_inner_7 -->\\r\\n\\t\\t\\t\\t\\t\\t\\t\\t\\t\\t</div><!-- /left_box_outter_7 -->\\r\\n\\t\\t\\t\\t\\t\\t\\t\\t\\t</td>\\r\\n\\t\\t\\t\\t\\t\\t\\t\\t\\t<td width=\"302\" valign=\"top\">\\r\\n\\t\\t\\t\\t\\t\\t\\t\\t\\t\\t<div class=\"left_box_outter_6\">\\r\\n\\t\\t\\t\\t\\t\\t\\t\\t\\t\\t\\t<div><img src=\"img/box_border_top_5.jpg\" alt=\"\" height=\"12\" /></div>\\r\\n\\t\\t\\t\\t\\t\\t\\t\\t\\t\\t\\t<div class=\"left_box_inner_6\" style=\"height:255px;\">\\r\\n\\t\\t\\t\\t\\t\\t\\t\\t\\t\\t\\t\\t<h1 class=\"logoSetFx\">\\xc3\\x8dndices Accionarios</h1>\\r\\n\\t\\t\\t\\t\\t\\t\\t\\t\\t\\t\\t\\t<div style=\"text-align: right; width:100%\"><h3>Valor &nbsp;&nbsp;&nbsp;&nbsp;&nbsp; Variaci&oacute;n %</h3></div>\\r\\n\\t\\t\\t\\t\\t\\t\\t\\t\\t\\t\\t\\t<div id=\"igbc\">\\r\\n                                                    <div class=\"preloadIGBC\"><img src=\"img/ajax-loader.gif\" width=\"16\" height=\"16\" alt=\"\" /></div>\\r\\n                                                </div>\\r\\n\\r\\n\\t\\t\\t\\t\\t\\t\\t\\t\\t\\t\\t\\t<div class=\"stocks\">\\r\\n\\r\\n\\t\\t\\t\\t\\t\\t\\t\\t\\t\\t\\t\\t<style>\\r\\n\\t\\t\\t\\t\\t\\t\\t\\t\\t\\t\\t\\t\\t.igbcActiveButton {\\r\\n\\t\\t\\t\\t\\t\\t\\t\\t\\t\\t\\t\\t\\t  width: 77px;\\r\\n\\t\\t\\t\\t\\t\\t\\t\\t\\t\\t\\t\\t\\t  height: 17px;\\r\\n\\t\\t\\t\\t\\t\\t\\t\\t\\t\\t\\t\\t\\t  font-size: 10px;\\r\\n\\t\\t\\t\\t\\t\\t\\t\\t\\t\\t\\t\\t\\t  font-weight: bold;\\r\\n\\t\\t\\t\\t\\t\\t\\t\\t\\t\\t\\t\\t\\t  text-align: center;\\r\\n\\t\\t\\t\\t\\t\\t\\t\\t\\t\\t\\t\\t\\t  cursor: pointer;\\r\\n\\t\\t\\t\\t\\t\\t\\t\\t\\t\\t\\t\\t\\t  outline: none;\\r\\n\\t\\t\\t\\t\\t\\t\\t\\t\\t\\t\\t\\t\\t  color: #FFFFFF;\\r\\n\\t\\t\\t\\t\\t\\t\\t\\t\\t\\t\\t\\t\\t  background-color: #12550C;\\r\\n\\t\\t\\t\\t\\t\\t\\t\\t\\t\\t\\t\\t\\t  border: 1px solid #555555;\\r\\n\\t\\t\\t\\t\\t\\t\\t\\t\\t\\t\\t\\t\\t  border-radius: 0px;\\r\\n\\t\\t\\t\\t\\t\\t\\t\\t\\t\\t\\t\\t\\t  box-shadow: 0 1px #999;\\r\\n\\t\\t\\t\\t\\t\\t\\t\\t\\t\\t\\t\\t\\t}\\r\\n\\r\\n\\t\\t\\t\\t\\t\\t\\t\\t\\t\\t\\t\\t\\t.igbcActiveButton:hover {background-color: #3e8e41}\\r\\n\\r\\n\\t\\t\\t\\t\\t\\t\\t\\t\\t\\t\\t\\t\\t.igbcActiveButton:active {\\r\\n\\t\\t\\t\\t\\t\\t\\t\\t\\t\\t\\t\\t\\t  background-color: #3e8e41;\\r\\n\\t\\t\\t\\t\\t\\t\\t\\t\\t\\t\\t\\t\\t  box-shadow: 0 5px #666;\\r\\n\\t\\t\\t\\t\\t\\t\\t\\t\\t\\t\\t\\t\\t  transform: translateY(4px);\\r\\n\\t\\t\\t\\t\\t\\t\\t\\t\\t\\t\\t\\t\\t}\\r\\n\\r\\n\\r\\n\\t\\t\\t\\t\\t\\t\\t\\t\\t\\t\\t\\t\\t.igbcInactiveButton {\\r\\n\\t\\t\\t\\t\\t\\t\\t\\t\\t\\t\\t\\t\\t  width: 77px;\\r\\n\\t\\t\\t\\t\\t\\t\\t\\t\\t\\t\\t\\t\\t  height: 17px;\\r\\n\\t\\t\\t\\t\\t\\t\\t\\t\\t\\t\\t\\t\\t  font-size: 10px;\\r\\n\\t\\t\\t\\t\\t\\t\\t\\t\\t\\t\\t\\t\\t  font-weight: bold;\\r\\n\\t\\t\\t\\t\\t\\t\\t\\t\\t\\t\\t\\t\\t  text-align: center;\\r\\n\\t\\t\\t\\t\\t\\t\\t\\t\\t\\t\\t\\t\\t  cursor: pointer;\\r\\n\\t\\t\\t\\t\\t\\t\\t\\t\\t\\t\\t\\t\\t  outline: none;\\r\\n\\t\\t\\t\\t\\t\\t\\t\\t\\t\\t\\t\\t\\t  color: #FFFFFF;\\r\\n\\t\\t\\t\\t\\t\\t\\t\\t\\t\\t\\t\\t\\t  background-color: #15161A;\\r\\n\\t\\t\\t\\t\\t\\t\\t\\t\\t\\t\\t\\t\\t  border: 1px solid #555555;\\r\\n\\t\\t\\t\\t\\t\\t\\t\\t\\t\\t\\t\\t\\t  border-radius: 0px;\\r\\n\\t\\t\\t\\t\\t\\t\\t\\t\\t\\t\\t\\t\\t  box-shadow: 0 1px #999;\\r\\n\\t\\t\\t\\t\\t\\t\\t\\t\\t\\t\\t\\t\\t}\\r\\n\\r\\n\\t\\t\\t\\t\\t\\t\\t\\t\\t\\t\\t\\t\\t.igbcInactiveButton:hover {background-color: #555555}\\r\\n\\r\\n\\t\\t\\t\\t\\t\\t\\t\\t\\t\\t\\t\\t\\t.igbcInactiveButton:active {\\r\\n\\t\\t\\t\\t\\t\\t\\t\\t\\t\\t\\t\\t\\t  background-color: #3e8e41;\\r\\n\\t\\t\\t\\t\\t\\t\\t\\t\\t\\t\\t\\t\\t  box-shadow: 0 5px #666;\\r\\n\\t\\t\\t\\t\\t\\t\\t\\t\\t\\t\\t\\t\\t  transform: translateY(4px);\\r\\n\\t\\t\\t\\t\\t\\t\\t\\t\\t\\t\\t\\t\\t}\\r\\n\\t\\t\\t\\t\\t\\t\\t\\t\\t\\t\\t\\t</style>\\r\\n\\r\\n\\t\\t\\t\\t\\t\\t\\t\\t\\t\\t\\t\\t<button id=\"btnIgbc\" class=\"igbcActiveButton\" onclick=\"drawIndicesChartWithIndice(\\'IGBC-CAP\\');changeStyle(this, \\'btnCol20\\', \\'btnColcap\\')\">IGBC</button>\\r\\n\\t\\t\\t\\t\\t\\t\\t\\t\\t\\t\\t\\t <button id=\"btnCol20\" class=\"igbcInactiveButton\" onclick=\"drawIndicesChartWithIndice(\\'IGBC-C20\\');changeStyle(this, \\'btnIgbc\\', \\'btnColcap\\')\">COL20</button>\\r\\n\\t\\t\\t\\t\\t\\t\\t\\t\\t\\t\\t\\t <button id=\"btnColcap\" class=\"igbcInactiveButton\" onclick=\"drawIndicesChartWithIndice(\\'IGBC-GEN\\');changeStyle(this, \\'btnCol20\\', \\'btnIgbc\\')\">COLCAP</button>\\r\\n\\r\\n\\t\\t\\t\\t\\t\\t\\t\\t\\t\\t\\t\\t<div id=\"chart_indices_div\"></div>\\r\\n\\r\\n\\t\\t\\t\\t\\t\\t\\t\\t\\t\\t\\t\\t</div><!-- /stocks -->\\r\\n\\t\\t\\t\\t\\t\\t\\t\\t\\t\\t\\t</div><!-- /left_box_inner_6 -->\\r\\n\\t\\t\\t\\t\\t\\t\\t\\t\\t\\t</div><!-- /left_box_outter_6 -->\\r\\n\\t\\t\\t\\t\\t\\t\\t\\t\\t</td>\\r\\n\\t\\t\\t\\t\\t\\t\\t\\t</tr>\\r\\n\\t\\t\\t\\t\\t\\t\\t</table>\\r\\n\\t\\t\\t\\t\\t\\t</td>\\r\\n\\t\\t\\t\\t\\t\\t<td valign=\"top\">\\r\\n\\t\\t\\t\\t\\t\\t\\t<div class=\"right_box_outter\" style=\"margin-top:10px;\">\\r\\n\\t\\t\\t\\t\\t\\t\\t\\t<div><img src=\"img/box_border_top_2.jpg\" alt=\"\" height=\"12\" /></div>\\r\\n\\t\\t\\t\\t\\t\\t\\t\\t<div class=\"right_box_inner\" style=\"height:262px;\">\\r\\n\\t\\t\\t\\t\\t\\t\\t\\t\\t<h1 style=\"height:20px\"><div style=\"float:left; width:50%\">Noticias</div><div style=\"float:right; width:50%; text-align:right\"><a  onClick=\"window.open(\\'http://www.larepublica.com.co\\',\\'LA_REPUBLICA\\',\\'\\')\" href=\"#\"><img src=\"../img/newsSource.gif\" border=\"0\"/></a></div></h1>\\r\\n\\t\\t\\t\\t\\t\\t\\t\\t\\t<div id=\"noticias\">\\r\\n\\r\\n\\t\\t\\t\\t\\t\\t\\t\\t\\t<div>\\r\\n\\t\\t\\t\\t\\t\\t\\t\\t</div><!-- /right_box_inner -->\\r\\n\\t\\t\\t\\t\\t\\t\\t</div><!-- /right_box_outter -->\\r\\n\\t\\t\\t\\t\\t\\t</td>\\r\\n\\t\\t\\t\\t\\t</tr>\\r\\n\\t\\t\\t\\t\\t<tr>\\r\\n\\t\\t\\t\\t\\t\\t<td colspan=\"2\">\\r\\n\\t\\t\\t\\t\\t\\t  \\n<div id=\"footer_1\">\\r\\n    <a href=\"/contacto\">Cont\\xc3\\xa1ctenos</a> | \\r\\n    <a href=\"/content/responsabilidad.html\">Responsabilidad de contenido</a> | \\r\\n    <a href=\"/califique\">Califique nuestra p\\xc3\\xa1gina</a> |\\n    \\n    <a href=\"javascript:bookmark_page(\\'http://www.set-fx.com/\\', \\'Set-FX | Informaci\\xc3\\xb3n del D\\xc3\\xb3lar Interbancario en tiempo real\\')\">H\\xc3\\xa1ganos su p\\xc3\\xa1gina principal</a>                 \\r\\n</div>\\r\\n\\t\\t\\t\\t\\t\\t</td>\\r\\n\\t\\t\\t\\t\\t</tr>\\r\\n\\t\\t\\t\\t</tbody>\\r\\n\\t\\t\\t</table>\\r\\n\\t\\t</div><!-- /main -->\\r\\n\\t</div><!-- /container -->\\r\\n\\r\\n\\t<div id=\"footer_2\">\\r\\n\\t<table align=\"center\" border=\"0\" cellpadding=\"0\" cellspacing=\"0\" style=\"margin-top:10px;\">\\r\\n\\t\\t<tr>\\r\\n\\t\\t\\t<td width=\"50\" height=\"39\"><strong>Respalda</strong></td>\\r\\n\\t\\t\\t<td><a onClick=\"window.open(\\'http://www.bvc.com.co\\',\\'BVC\\',\\'\\')\" href=\"#\"><img src=\"img/bvc.gif\" width=\"67\" height=\"27\" hspace=\"16\" alt=\"BVC\" border=\"0\"/></a></td>\\r\\n\\t\\t\\t<td><a onClick=\"window.open(\\'http://www.bmv.com.mx\\',\\'BMV\\',\\'\\')\" href=\"#\"><img src=\"img/bmv.gif\" width=\"25\" height=\"35\" alt=\"\"  border=\"0\"/></a></td>\\n\\t\\t\\t<td>&nbsp;&nbsp;&nbsp;&nbsp;<a onClick=\"window.open(\\'http://www.sif.com.mx\\',\\'SIF\\',\\'\\')\" href=\"#\"><img src=\"img/sif-Icap.gif\" alt=\"\"  border=\"0\"/></a></td>\\r\\n\\t\\t\\t<td>&nbsp;</td>\\r\\n\\t\\t\\t<td><a onClick=\"window.open(\\'http://www.superfinanciera.gov.co\\',\\'SIFC\\',\\'\\')\" href=\"#\"><img src=\"img/vigilado.gif\" width=\"182\" height=\"22\" hspace=\"16\" alt=\"Vigilado por la Superintendencia financiera de colombia\"  border=\"0\"/></a></td>\\n\\t\\t\\t<td><a onClick=\"window.open(\\'http://www.sirius.com.co\\',\\'SIFC\\',\\'\\')\" href=\"#\"><img src=\"img/sirius.jpg\" alt=\"Sirius IT\"  border=\"0\"/></a></td>\\r\\n\\t\\t</tr>\\r\\n\\t</table>\\r\\n</div><!-- /footer_2 -->\\r\\n<br/>\\r\\n<br/>\\r\\n\\r\\n<script type=\"text/javascript\">\\nvar gaJsHost = ((\"https:\" == document.location.protocol) ? \"https://ssl.\" : \"http://www.\");\\ndocument.write(unescape(\"%3Cscript src=\\'\" + gaJsHost + \"google-analytics.com/ga.js\\' type=\\'text/javascript\\'%3E%3C/script%3E\"));\\n</script>\\n<script type=\"text/javascript\">\\ntry {\\nvar pageTracker = _gat._getTracker(\"UA-138160464-1\");\\npageTracker._trackPageview();\\n} catch(err) {}</script>\\r\\n</body>\\r\\n</html>\\r\\n'\n"
     ]
    }
   ],
   "source": [
    "import requests\n",
    "response = requests.get(\"http://www.set-fx.com/index.html\")\n",
    "print(response.status_code)\n",
    "print(response.content)"
   ]
  },
  {
   "cell_type": "markdown",
   "metadata": {},
   "source": [
    "# Estructura de condicionales en Python\n",
    "\n",
    "Uno de las cosas más poderosas en programación es controlar el flujo de ejecución, para esto utilizamos condicionales.\n",
    "\n",
    "Las condicionales son sentencias que devuelven un valor booleano (True, False)\n",
    "\n",
    "Podemos utilizar:\n",
    "\n",
    "Operadores relacionales:\n",
    "\n",
    "== Es igual\n",
    "\n",
    "!= Es diferente\n",
    "\n",
    "\\> Es mayor\n",
    "\n",
    "\\>= Es mayor o igual\n",
    "\n",
    "\\< Es menor\n",
    "\n",
    "\\<= Es menor o igual\n",
    "\n",
    "## Operadores lógicos:\n",
    "\n",
    "and\n",
    "\n",
    "or\n",
    "\n",
    "not"
   ]
  },
  {
   "cell_type": "code",
   "execution_count": 24,
   "metadata": {},
   "outputs": [
    {
     "name": "stdout",
     "output_type": "stream",
     "text": [
      "Ingresa tu edad: 5\n",
      "Holá Niño\n"
     ]
    }
   ],
   "source": [
    "def say_hello(age):\n",
    "    if age > 18:\n",
    "        print(\"Holas Señor\")\n",
    "    else:\n",
    "        print(\"Holá Niño\")\n",
    "if __name__ == \"__main__\":\n",
    "    age = say_hello(int(input(\"Ingresa tu edad: \")))\n"
   ]
  },
  {
   "cell_type": "code",
   "execution_count": 11,
   "metadata": {},
   "outputs": [
    {
     "name": "stdout",
     "output_type": "stream",
     "text": [
      "Por favor ingresa un numero: 2\n",
      "El numero $2 es primo\n"
     ]
    }
   ],
   "source": [
    "# -- coding: utf-8 --\n",
    "#pass #keyword que nos sirve para decirle a python que no genere error por una funcion no definida.\n",
    "    \n",
    "def run():\n",
    "    number = int(input(\"Por favor ingresa un numero: \"))\n",
    "    result = is_prime(number)\n",
    "    if result is True:\n",
    "        print(\"El numero ${} es primo\".format(number))\n",
    "    else:\n",
    "        print(\"El numero ${} No es primo\".format(number))\n",
    "\n",
    "def is_prime(number):\n",
    "    if number < 2:\n",
    "        return False\n",
    "    #elif number == 2:\n",
    "    #    return True\n",
    "    elif number > 2 and number % 2 == 0:\n",
    "        return False\n",
    "    else:\n",
    "        for i in range(3,number):\n",
    "            if number % i == 0 :\n",
    "                return False\n",
    "            \n",
    "    return True\n",
    "            \n",
    "            \n",
    "   \n",
    "if __name__ == \"__main__\":\n",
    "    run()"
   ]
  },
  {
   "cell_type": "code",
   "execution_count": 22,
   "metadata": {},
   "outputs": [
    {
     "name": "stdout",
     "output_type": "stream",
     "text": [
      "The Zen of Python, by Tim Peters\n",
      "\n",
      "Beautiful is better than ugly.\n",
      "Explicit is better than implicit.\n",
      "Simple is better than complex.\n",
      "Complex is better than complicated.\n",
      "Flat is better than nested.\n",
      "Sparse is better than dense.\n",
      "Readability counts.\n",
      "Special cases aren't special enough to break the rules.\n",
      "Although practicality beats purity.\n",
      "Errors should never pass silently.\n",
      "Unless explicitly silenced.\n",
      "In the face of ambiguity, refuse the temptation to guess.\n",
      "There should be one-- and preferably only one --obvious way to do it.\n",
      "Although that way may not be obvious at first unless you're Dutch.\n",
      "Now is better than never.\n",
      "Although never is often better than *right* now.\n",
      "If the implementation is hard to explain, it's a bad idea.\n",
      "If the implementation is easy to explain, it may be a good idea.\n",
      "Namespaces are one honking great idea -- let's do more of those!\n"
     ]
    }
   ],
   "source": [
    "import this"
   ]
  },
  {
   "cell_type": "markdown",
   "metadata": {},
   "source": [
    "# Comparación de strings y unicode\n",
    "\n",
    "Los strings tienen una característica muy importante: son inmutables, esto quiere decir que no se pueden cambiar después de que se han declarado.\n",
    "\n",
    "Si quieres modificar el texto de un string debes definir un nuevo string y modificarlo usando funciones como slice.\n",
    "\n",
    "Comparación de strings\n",
    "\n",
    "Se pueden realizar operaciones con strings, por ejemplo comparar si son iguales o mayores o menores.\n",
    "\n",
    "Diferencia entre ASCII y Unicode\n",
    "\n",
    "Los caracteres también son números, para esto existen estándares que asignan un número a cada carácter, para generar un estándar se creó el ASCII pero esta solo toma en cuenta los caracteres en inglés, para dar soporte a más lenguajes se crea UNICODE.\n",
    "\n",
    "Python codifica en ASCII por default, para cambiarlo por UNICODE debemos colocar u antes del string.\n",
    "\n"
   ]
  },
  {
   "cell_type": "markdown",
   "metadata": {},
   "source": [
    "# Factorial de un número con recursión\n",
    "En éste video hablaremos sobre la recursión, una función está siendo recursiva cuando dentro de el bloque de instrucciones que la conforma se usa a sí misma.\n",
    "\n",
    "El concepto puede sonar complicado pero es muy común su uso, por ejemplo cuando haces el calculo del factorial de un número lo haces con una función recursiva:\n",
    "\n",
    "El factorial de un número es el número multiplicado por los números antes de el, por ejemplo\n",
    "\n",
    "5! es 5*4*3*2*1\n",
    "\n",
    "Esto se puede expresar como\n",
    "5*fac(4)\n",
    "\n",
    "4*fac(3)\n",
    "\n",
    "3*fac(2)\n",
    "\n",
    "2*fac(1)\n",
    "\n",
    "1*fac(0)\n",
    "\n",
    "Nota importante: Cuándo estes trabajando con recursividad siempre debes pensar en el caso base, es decir debes definir el momento en el que la función dejará de llamarse a si misma, para que no hagas un loop infinito, por ejemplo en el caso del factorial terminas la ejecución cuando llegas a cero."
   ]
  },
  {
   "cell_type": "code",
   "execution_count": 29,
   "metadata": {},
   "outputs": [
    {
     "name": "stdout",
     "output_type": "stream",
     "text": [
      "Ingrese el numero deseado: 4\n",
      "El factorial del numero 4, es : 24\n"
     ]
    }
   ],
   "source": [
    "def factorial(numero):\n",
    "    \n",
    "    if numero == 0:\n",
    "        return 1\n",
    "    \n",
    "    return numero * factorial(numero -1)\n",
    "    \n",
    "\n",
    "if __name__ == \"__main__\":\n",
    "    numero = int(input(\"Ingrese el numero deseado: \"))\n",
    "    print(\"El factorial del numero {}, es : {}\".format(numero,factorial(numero)))"
   ]
  },
  {
   "cell_type": "code",
   "execution_count": null,
   "metadata": {},
   "outputs": [],
   "source": []
  }
 ],
 "metadata": {
  "kernelspec": {
   "display_name": "Python 3",
   "language": "python",
   "name": "python3"
  },
  "language_info": {
   "codemirror_mode": {
    "name": "ipython",
    "version": 3
   },
   "file_extension": ".py",
   "mimetype": "text/x-python",
   "name": "python",
   "nbconvert_exporter": "python",
   "pygments_lexer": "ipython3",
   "version": "3.7.3"
  }
 },
 "nbformat": 4,
 "nbformat_minor": 2
}
