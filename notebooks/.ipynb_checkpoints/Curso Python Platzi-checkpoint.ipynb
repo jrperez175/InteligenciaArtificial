{
 "cells": [
  {
   "cell_type": "markdown",
   "metadata": {},
   "source": [
    "# Curso Python Platzi\n",
    "Razones para aprender python\n",
    "* Tienes una de las comunidades mas grandes \n",
    "* Sintaxis sencilla y no tipeada.\n",
    "* Utilizado en multiples indutrias ( Google , Uber, etc..)"
   ]
  },
  {
   "cell_type": "code",
   "execution_count": 1,
   "metadata": {},
   "outputs": [
    {
     "name": "stdout",
     "output_type": "stream",
     "text": [
      "Hola Mundo\n"
     ]
    }
   ],
   "source": [
    "print(\"Hola Mundo\")"
   ]
  },
  {
   "cell_type": "code",
   "execution_count": 6,
   "metadata": {},
   "outputs": [],
   "source": [
    "import turtle #Modulo de Python para generar graficos y explica que es programar \"serie de isntrucciones que hace el pc una por una\""
   ]
  },
  {
   "cell_type": "code",
   "execution_count": 9,
   "metadata": {},
   "outputs": [],
   "source": [
    "windows = turtle.Screen()"
   ]
  },
  {
   "cell_type": "code",
   "execution_count": 10,
   "metadata": {},
   "outputs": [],
   "source": [
    "jhon =  turtle.Turtle()"
   ]
  },
  {
   "cell_type": "code",
   "execution_count": 11,
   "metadata": {},
   "outputs": [],
   "source": [
    "jhon.forward(50) #Pinta una linea\n",
    "jhon.left(90) #Gira 90 grados\n",
    "jhon.forward(50)\n",
    "jhon.left(90)\n",
    "jhon.forward(50)\n",
    "jhon.left(90)\n",
    "jhon.forward(50)\n",
    "jhon.left(90)\n",
    "\n",
    "turtle.mainloop() #No cierre la ventana"
   ]
  },
  {
   "cell_type": "markdown",
   "metadata": {},
   "source": [
    "# Como diferencia la version de Python\n",
    "Existen dos Python \n",
    "Python2\n",
    "2000 : Nace \n",
    "2010: Se libera la ultima version 2.7 \n",
    "Python3\n",
    "2008: Nace a raiz de mejorar alguno errores que hacian dificil programar con el\n",
    "#### Diferencias\n",
    "* print ahora es una función no un keyword\n",
    "* Unicode está establecido por defecto en los strings\n",
    "* La division retorna un flotante no un entero"
   ]
  },
  {
   "cell_type": "markdown",
   "metadata": {},
   "source": [
    "# Operadores matemáticos en Python\n",
    "Los operadores nos permiten trabajar con valores y generar nuevos valores por medio de estas operaciones.\n",
    "\n",
    "Existen muchos operadores básicos,\n",
    "\n",
    "(+) Suma\n",
    "\n",
    "(-) Resta\n",
    "\n",
    "(asterisco) Multiplicación\n",
    "\n",
    "(/) División\n",
    "\n",
    "(//) División de enteros\n",
    "\n",
    "(%) Operador de módulo\n",
    "\n",
    "(doble asterisco) Potencias\n",
    "\n",
    "(>) Mayor que\n",
    "\n",
    "(<) Menor que\n",
    "\n",
    "(==) Igual\n",
    "\n",
    "(>=) Mayor igual\n",
    "\n",
    "(<=) Menor igual"
   ]
  },
  {
   "cell_type": "code",
   "execution_count": 20,
   "metadata": {},
   "outputs": [
    {
     "data": {
      "text/plain": [
       "False"
      ]
     },
     "execution_count": 20,
     "metadata": {},
     "output_type": "execute_result"
    }
   ],
   "source": [
    "5==3"
   ]
  },
  {
   "cell_type": "markdown",
   "metadata": {},
   "source": [
    "# Tipos de datos en Python\n",
    "¿En qué orden se evalúan las matemáticas operaciones complejas?\n",
    "\n",
    "* Paréntesis xD\n",
    "\n",
    "* Exponentes\n",
    "\n",
    "* Multiplicación / División\n",
    "\n",
    "* Adición / Sustracción\n",
    "\n",
    "Una forma fácil de recordar éste orden es usando el acrónimo **PEMDAS** (ParentesisExponentesMultiplicaciónDivisiónAdiciónSustracción)\n",
    "\n",
    "# Valores y Tipos\n",
    "\n",
    "Los tipos le permiten a Python saber cuál es el resultado de aplicar determinada operación, los tipos básicos son:\n",
    "\n",
    "* Integer <int>\n",
    "\n",
    "* Float <float>\n",
    "\n",
    "* String <str>\n",
    "\n",
    "* Boolean <bool>\n",
    "\n",
    "Para revisar de qué tipo es un dato puedes usar la función **type**.\n",
    "\n",
    "Ejemplos:\n",
    "\n",
    "type(2) - retorna int\n",
    "\n",
    "type('Hola') - retorna str\n",
    "\n",
    "Recuerda que tu código debe ser claro, para permitir que otros programadores lo puedan leer."
   ]
  },
  {
   "cell_type": "code",
   "execution_count": 33,
   "metadata": {},
   "outputs": [
    {
     "data": {
      "text/plain": [
       "float"
      ]
     },
     "execution_count": 33,
     "metadata": {},
     "output_type": "execute_result"
    }
   ],
   "source": [
    "type(2.5**4)"
   ]
  },
  {
   "cell_type": "markdown",
   "metadata": {},
   "source": [
    "# Declarar variables y expresiones\n",
    "Las variables nos permiten guardar valores, permitiéndonos reutilizarlos en diferentes partes del código y haciendo nuestros programas más legibles.\n",
    "\n",
    "El valor que contiene una variable puede ser reasignado, significa que podemos asignarle diferentes valores a una misma variable.\n",
    "\n",
    "Las variables tienen algunas limitantes, por ejemplo\n",
    "\n",
    "Tienen que tener un nombre significativo, es decir, que nos digan qué están haciendo.\n",
    "No podemos usar palabras reservadas del lenguaje como nombres para nuestras variables (por ejemplo class, false, none, true).\n",
    "Para definir una variable escribes el nombre que quieres asignarle y con = defines el valor que va a almacenar, por ejemplo:\n",
    "\n",
    "pi = 3.14159\n",
    "radio =3\n",
    "area = pi * radio**2\n",
    "print(area)\n",
    "\n",
    "Recuerda:\n",
    "\n",
    "Todos los programas de Python deben guardarse con extensión .py\n",
    "Para darle soporte a acentos en nuestros programas debemos usar la línea \n",
    "\n",
    "**# -*- coding: utf-8 -*-**\n"
   ]
  },
  {
   "cell_type": "code",
   "execution_count": 35,
   "metadata": {},
   "outputs": [
    {
     "data": {
      "text/plain": [
       "'hola platzi'"
      ]
     },
     "execution_count": 35,
     "metadata": {},
     "output_type": "execute_result"
    }
   ],
   "source": [
    "\"hola\" + \" platzi\""
   ]
  },
  {
   "cell_type": "code",
   "execution_count": 36,
   "metadata": {},
   "outputs": [
    {
     "data": {
      "text/plain": [
       "'cursocursocurso'"
      ]
     },
     "execution_count": 36,
     "metadata": {},
     "output_type": "execute_result"
    }
   ],
   "source": [
    "\"curso\" * 3"
   ]
  },
  {
   "cell_type": "code",
   "execution_count": 37,
   "metadata": {},
   "outputs": [
    {
     "name": "stdout",
     "output_type": "stream",
     "text": [
      "Digite su nombre: Jhon Raúl Pérez Muñoz\n",
      "Jhon Raúl Pérez Muñoz\n"
     ]
    }
   ],
   "source": [
    "# -- coding: utf-8 --\n",
    "nombre = input(\"Digite su nombre: \")\n",
    "print (nombre)"
   ]
  },
  {
   "cell_type": "code",
   "execution_count": 63,
   "metadata": {},
   "outputs": [],
   "source": [
    "import numpy as np\n",
    "def areaCirculo(radio):\n",
    "    return np.pi * radio**2"
   ]
  },
  {
   "cell_type": "code",
   "execution_count": 66,
   "metadata": {},
   "outputs": [
    {
     "data": {
      "text/plain": [
       "314.1592653589793"
      ]
     },
     "execution_count": 66,
     "metadata": {},
     "output_type": "execute_result"
    }
   ],
   "source": [
    "areaCirculo(10)\n"
   ]
  },
  {
   "cell_type": "raw",
   "metadata": {},
   "source": []
  },
  {
   "cell_type": "markdown",
   "metadata": {},
   "source": [
    "# Definir funciones con Python\n",
    "\n",
    "Las funciones son un concepto fundamental en programación, una función es una secuencia de comandos que realizan un computo.\n",
    "En Python las funciones se definen usando la palabra reservada def y luego el nombre de la función con paréntesis y dos puntos que indican que lo que sigue son los comandos, una función debe retornar un valor, para esto se usa la palabra reservada return.\n",
    "\n",
    "**def  suma(num1, num2):**\n",
    "    \n",
    "    **return num1 + num2 **\n",
    "\n",
    "Para usar una función simplemente la llamamos por su nombre seguido por paréntesis con los parámetros que recibe.\n",
    "\n",
    "**suma(2,3)**\n",
    "\n",
    "Para definir dónde comenzar el código usamos la línea:\n",
    "\n",
    "## if __name__ == '__main__'\n",
    "\n",
    "Para definir un bloque dentro de la función debemos indentar con 4 espacios.\n",
    "Las funciones nos permiten ejecutar determinado código con diferentes valores."
   ]
  },
  {
   "cell_type": "code",
   "execution_count": 3,
   "metadata": {},
   "outputs": [
    {
     "name": "stdout",
     "output_type": "stream",
     "text": [
      "Longitud del cuadrado: 60\n"
     ]
    }
   ],
   "source": [
    "import turtle\n",
    "\n",
    "def main():\n",
    "    window= turtle.Screen()\n",
    "    jhon = turtle.Turtle()\n",
    "    \n",
    "    make_square(jhon)\n",
    "    \n",
    "    turtle.mainloop()\n",
    "\n",
    "def make_square(jhon):\n",
    "    lenght = int(input(\"Longitud del cuadrado: \"))\n",
    "    for i in range(4):\n",
    "        make_line_and_turn(jhon,lenght)\n",
    "    \n",
    "def make_line_and_turn(jhon, lenght):\n",
    "    jhon.forward(lenght)\n",
    "    jhon.left(90)\n",
    "\n",
    "if __name__ == '__main__':\n",
    "    main()\n"
   ]
  },
  {
   "cell_type": "markdown",
   "metadata": {},
   "source": [
    "# Funciones con parámetros\n",
    "\n",
    "Limites al declarar funciones\n",
    "\n",
    "Los nombres no pueden comenzar con digitos\n",
    "No pueden utilizar una palabra reservada\n",
    "Las variables deben tener diferentes nombres\n",
    "Los nombres de las funciones deben ser descriptivas de lo que hacen las funciones\n",
    "Imprimir valor de variable\n",
    "\n",
    "Para poder imprimir el valor de una variable dentro de un string podemos hacerlo así:\n",
    "\n",
    "\\'\\\\${} pasos mexicanos son \\${} pesos mexicanos\\'.format(ammount, result)\n",
    "\n",
    "Declarar vs Ejecutar\n",
    "\n",
    "Declarar una función es escribir su estructura\n",
    "Ejecutar una función es llamar la función y ejecutar su código\n",
    "\n",
    "Donde se puede acceder a las variables\n",
    "\n",
    "Scope de las variables, cada vez que una función se ejecuta se genera un contenedor donde las variables de la función van a vivir, una vez se sale de la función estas variables no van a existir.\n",
    "\n"
   ]
  },
  {
   "cell_type": "code",
   "execution_count": 5,
   "metadata": {},
   "outputs": [
    {
     "name": "stdout",
     "output_type": "stream",
     "text": [
      " C A L C U L A D O R A D E D I V S A S\n",
      "Convierte dolares Americanos a pesos Colombianos\n",
      "\n",
      "Ingresa la cantidad de dolares Americanos que quieres convertir: 200\n",
      "$200.0 dolares americanos , son $813202.0 pesos colombianos\n",
      "\n"
     ]
    }
   ],
   "source": [
    "def run():\n",
    "    print(\" C A L C U L A D O R A D E D I V S A S\")\n",
    "    print(\"Convierte dolares Americanos a pesos Colombianos\")\n",
    "    print(\"\")\n",
    "    \n",
    "    ammount=float(input(\"Ingresa la cantidad de dolares Americanos que quieres convertir: \"))\n",
    "    \n",
    "    result = foreing_exchange_calculator(ammount)\n",
    "    \n",
    "    print(\"Us{} dolares americanos , son ${} pesos colombianos\".format(ammount,result))\n",
    "    print(\"\")\n",
    "\n",
    "def foreing_exchange_calculator(ammount):\n",
    "    usd_to_cop_rate=4066.01\n",
    "    \n",
    "    return ammount * usd_to_cop_rate\n",
    "    \n",
    "\n",
    "if __name__ == '__main__':\n",
    "    run()"
   ]
  },
  {
   "cell_type": "code",
   "execution_count": 12,
   "metadata": {},
   "outputs": [
    {
     "name": "stdout",
     "output_type": "stream",
     "text": [
      "200\n",
      "b'\\r\\n<!DOCTYPE html PUBLIC \"-//W3C//DTD XHTML 1.0 Transitional//EN\" \"http://www.w3.org/TR/xhtml1/DTD/xhtml1-transitional.dtd\">\\r\\n<html xmlns=\"http://www.w3.org/1999/xhtml\" xml:lang=\"es\" lang=\"es\">\\r\\n<head>\\r\\n<title>Informaci\\xc3\\xb3n del d\\xc3\\xb3lar interbancario en tiempo real | Set-FX</title>\\r\\n<link rel=\"stylesheet\" type=\"text/css\" href=\"css/setfx_3.css\" />\\r\\n<link rel=\"stylesheet\" type=\"text/css\" href=\"css/menu.css\" />\\r\\n<link rel=\"stylesheet\" type=\"text/css\" href=\"css/index.css\" />\\r\\n<link rel=\"stylesheet\" type=\"text/css\" href=\"css/menu_2.css\" />\\r\\n\\r\\n<script type=\"text/javascript\" src=\"https://www.gstatic.com/charts/loader.js\"></script>\\r\\n<script type=\"text/javascript\" src=\"http://ajax.googleapis.com/ajax/libs/jquery/1.10.2/jquery.min.js\"></script>\\r\\n<script type=\"text/javascript\" src=\"js/charts.js\"></script>\\r\\n\\r\\n<script type=\"text/javascript\" src=\"https://ajax.googleapis.com/ajax/libs/prototype/1.7.3.0/prototype.js\"></script>\\r\\n<script type=\"text/javascript\" src=\"js/ajax.js\"></script>\\r\\n<script type=\"text/javascript\" src=\"js/set-fx.js\"></script>\\r\\n<script src=\"/js/AC_OETags.js\" language=\"javascript\"></script>\\r\\n<script type=\"text/javascript\">\\r\\ninit = function() {\\r\\n\\r\\n    update();\\r\\n    updateNews();\\r\\n\\r\\n    new PeriodicalExecuter(\\r\\n        function () {\\r\\n            $(\\'currentTime\\').innerHTML=\"<span>\"+new Date().format()+\"</span>\";\\r\\n        }\\r\\n        , 1\\r\\n    );\\r\\n\\r\\n    new PeriodicalExecuter(update, 30);\\r\\n\\r\\n    new PeriodicalExecuter(updateNews, 300);\\r\\n\\r\\n    new Ajax.PeriodicalUpdater(\\'currencies\\', \\'http://www.set-fx.com/currencies\\',\\r\\n\\t\\t  {\\r\\n\\t\\t\\tmethod: \\'post\\',\\r\\n\\t\\t\\t//insertion: Insertion.Top,\\r\\n\\t\\t\\tfrequency: 40,\\r\\n\\t\\t\\tdecay: 1,\\r\\n\\t\\t\\tonFailure: function(transport) {\\r\\n\\t\\t\\t\\ttransport.responseText = \\'<br/><br/>\\';\\r\\n\\t\\t\\t}\\r\\n\\t\\t  });\\r\\n\\r\\n    new Ajax.PeriodicalUpdater(\\'bvc\\', \\'http://www.set-fx.com/bvc\\',\\r\\n\\t\\t  {\\r\\n\\t\\t\\tmethod: \\'post\\',\\r\\n\\t\\t\\t//insertion: Insertion.Top,\\r\\n\\t\\t\\tfrequency: 50,\\r\\n\\t\\t\\tdecay: 1,\\r\\n\\t\\t\\tonFailure: function(transport) {\\r\\n\\t\\t\\t\\ttransport.responseText = \\'<br/>\\';\\r\\n\\t\\t\\t}\\r\\n\\t\\t  });\\r\\n\\r\\n    new Ajax.PeriodicalUpdater(\\'igbc\\', \\'http://www.set-fx.com/igbc\\',\\r\\n\\t\\t  {\\r\\n\\t\\t\\tmethod: \\'post\\',\\r\\n\\t\\t\\t//insertion: Insertion.Top,\\r\\n\\t\\t\\tfrequency: 10,\\r\\n\\t\\t\\tdecay: 1,\\r\\n\\t\\t\\tonFailure: function(transport) {\\r\\n\\t\\t\\t\\ttransport.responseText = \\'<br/>\\';\\r\\n\\t\\t\\t}\\r\\n\\t\\t  });\\r\\n}\\r\\n\\r\\nupdate = function() {\\r\\n    new Ajax.Request(\"http://www.set-fx.com/stats?\" + new Date().format(\\'isoTime\\') ,\\r\\n      {\\r\\n        method:\\'get\\',\\r\\n        onSuccess: function(transport){\\r\\n\\r\\n          var response = transport.responseText;\\r\\n\\r\\n          var data = response.evalJSON();\\r\\n\\r\\n        //var data = transport.headerJSON;\\r\\n\\r\\n          $(\\'trmPrice\\').innerHTML = \\'<span>\\' + (data.trm==undefined?\\'\\':data.trm) + \\'</span>\\';\\r\\n          $(\\'openPrice\\').innerHTML = \\'<span>\\' + (data.openPrice==undefined?\\'\\':data.openPrice) + \\'</span>\\';\\r\\n          $(\\'maxPrice\\').innerHTML = \\'<span>\\' + (data.maxPrice==undefined?\\'\\':data.maxPrice) + \\'</span>\\';\\r\\n          $(\\'minPrice\\').innerHTML = \\'<span>\\' + (data.minPrice==undefined?\\'\\':data.minPrice) + \\'</span>\\';\\r\\n\\r\\n          $(\\'transactions\\').innerHTML = \\'<span>\\' + (data.transactions==undefined?\\'\\':data.transactions) + \\'</span>\\';\\r\\n\\r\\n          $(\\'totalAmmount\\').innerHTML = \\'<span>\\' + (data.totalAmmount==undefined?\\'\\':data.totalAmmount) + \\'</span>\\';\\r\\n          $(\\'latestAmmount\\').innerHTML = \\'<span>\\' + (data.latestAmmount==undefined?\\'\\':data.latestAmmount) + \\'</span>\\';\\r\\n          $(\\'avgAmmount\\').innerHTML =  \\'<span>\\' + (data.avgAmmount==undefined?\\'\\':data.avgAmmount) + \\'</span>\\';\\r\\n          $(\\'maxAmmount\\').innerHTML = \\'<span>\\' + (data.maxAmmount==undefined?\\'\\':data.maxAmmount) + \\'</span>\\';\\r\\n          $(\\'minAmmount\\').innerHTML = \\'<span>\\' + (data.minAmmount==undefined?\\'\\':data.minAmmount) + \\'</span>\\';\\r\\n          if(data.priceChange == \\'up\\' || data.priceChange == \\'eq\\' || data.priceChange == \\'down\\'){\\r\\n              $(\\'barraTurista\\').style.backgroundImage = \"url(img/BarraTurista.png)\";\\r\\n\\t          $(\\'barraTuristaCierre\\').innerHTML = \\'$ \\' + data.formattedPrice + \" <img src=\\'img/precio_\"+data.priceChange+\".png\\' style=\\'margin-bottom: 3px\\' />\";\\r\\n\\t          $(\\'barraTuristaPromedio\\').innerHTML = \\'$ \\' + data.formattedAvgPrice + \" <img src=\\'img/precio_\"+data.avgPriceChange+\".png\\' style=\\'margin-bottom: 3px\\' />\";\\r\\n          }else{\\r\\n        \\t  $(\\'barraTurista\\').style.backgroundImage = \"url(img/BarraTuristaNoData.png)\";\\r\\n\\t          $(\\'barraTuristaCierre\\').innerHTML = \"\";\\r\\n\\t          $(\\'barraTuristaPromedio\\').innerHTML = \"\";\\r\\n          }\\r\\n\\r\\n\\r\\n          $(\\'trmPriceChange\\').src = \\'/img/\\' + data.trmPriceChange + \\'2.gif\\';\\r\\n          if(data.openPriceChange!=undefined && data.openPriceChange != \\'spacer\\'){\\r\\n              $(\\'openPriceChange\\').src = \\'/img/\\' + data.openPriceChange + \\'2.gif\\';\\r\\n          }\\r\\n          if(data.minPriceChange!=undefined && data.minPriceChange != \\'spacer\\'){\\r\\n                $(\\'minPriceChange\\').src = \\'/img/\\' + data.minPriceChange + \\'2.gif\\';\\r\\n          }\\r\\n          if(data.maxPriceChange!=undefined && data.maxPriceChange != \\'spacer\\'){\\r\\n                $(\\'maxPriceChange\\').src = \\'/img/\\' + data.maxPriceChange + \\'2.gif\\';\\r\\n          }\\r\\n\\r\\n          loadMontosPreciosData();\\r\\n        },\\r\\n        onFailure: function(){\\r\\n            //alert(\\'Something went wrong...\\')\\r\\n            }\\r\\n      });\\r\\n}\\r\\n\\r\\nupdateNews = function() {\\r\\n    new Ajax.Request(\"http://www.set-fx.com/json/newsJson\",\\r\\n      {\\r\\n        method:\\'get\\',\\r\\n        onSuccess: function(transport){\\r\\n\\r\\n          var response = transport.responseText;\\r\\n\\r\\n          var data = response.evalJSON();\\r\\n          var content = \"<marquee id=\\'newsMarquee\\' onMouseOver=this.stop() onMouseOut=this.start() direction=\\'up\\' scrollamount=\\'1\\' scrolldelay=\\'1\\' class=\\'news\\' style=\\'height:208px;\\' behavior=\\'scroll\\'>\"\\r\\n\\r\\n           for(var i=0; i<data.length; i++){\\r\\n\\t            var noticia = data[i];\\r\\n\\t\\t\\t    content += \"<div class=\\'newsItem\\'>\";\\r\\n\\t\\t\\t    content +=   noticia.headline + \"<br />\";\\r\\n\\t\\t\\t    content +=   noticia.date + \" &nbsp;&nbsp; \"+noticia.hora;\\r\\n\\t\\t\\t    content +=   \"<br /><a href=\\'javascript:void(0);\\' onclick=\\\\\"win3 = window.open(\\'newsArticle?id=\"+noticia.id+\"\\', \\'Window2\\', \\'width=664,height=540,scrollbars=yes\\');\\\\\">Leer m\\xc3\\xa1s</a><img src=\\'img/news_arrow.gif\\' alt=\\'Leer m\\xc3\\xa1s\\' />\";\\r\\n\\t\\t\\t    content +=    \"<div class=\\'separator\\'><img src=\\'img/news_separator.gif\\' alt=\\'\\' /></div>\";\\r\\n\\t\\t\\t    content += \"</div>\";\\r\\n            }\\r\\n          content += \"</marquee>\";\\r\\n          //alert(content);\\r\\n          $(\\'noticias\\').innerHTML = content;\\r\\n          $(\\'newsMarquee\\').start();\\r\\n\\r\\n        },\\r\\n        onFailure: function(){\\r\\n            alert(\\'Something went wrong...\\')\\r\\n            }\\r\\n      });\\r\\n}\\r\\n</script>\\r\\n</head>\\r\\n\\r\\n<body onload=\"init();\">\\r\\n\\t<div id=\"container\">\\r\\n\\t\\t<div id=\"main\">\\r\\n\\t\\t\\t<table width=\"850\" align=\"center\" border=\"0\" cellpadding=\"0\" cellspacing=\"0\">\\r\\n\\t\\t\\t\\t<tbody>\\r\\n\\t\\t\\t\\t\\t<tr>\\r\\n\\t\\t\\t\\t\\t\\t<td colspan=\"2\">\\r\\n\\t\\t\\t\\t\\t\\t\\t\\r\\n\\r\\n<!-- head table -->\\r\\n<table width=\"100%\" border=\"0\" cellpadding=\"0\" cellspacing=\"0\">\\r\\n\\t<tbody>\\r\\n\\t\\t<tr>\\r\\n\\t\\t\\t<td width=\"35%\" valign=\"top\">\\r\\n\\t\\t\\t\\t<div class=\"logo\"><a href=\"/index.html;jsessionid=iy9kpy626ujr\"><img src=\"img/logo-set-fx.jpg\" alt=\"Set-FX Sitema electrnico de transaccin de moneda extranjera\" border=\"0\" /></a></div>\\r\\n\\t\\t\\t</td>\\r\\n\\t\\t\\t<td>\\r\\n\\t\\t\\t\\t<table width=\"99%\" border=\"0\">\\r\\n\\t\\t\\t\\t\\t<tr>\\r\\n\\t\\t\\t\\t\\t\\t<td align=\"left\">\\r\\n\\t\\t\\t\\t\\t\\t\\t<table cellpadding=\"0\" cellspacing=\"0\" style=\"width:220px\">\\r\\n\\t\\t\\t\\t\\t\\t\\t\\t<tr>\\r\\n\\t\\t\\t\\t\\t\\t\\t\\t\\t<td>\\r\\n\\t\\t\\t\\t\\t\\t\\t\\t\\t<div id=\"cirjdJ\" style=\"z-index:100; position:absolute;\"></div>\\r\\n\\t\\t\\t\\t\\t\\t\\t\\t\\t<div id=\"scrjdJ\" style=\"display:inline;\"></div>\\r\\n\\t\\t\\t\\t\\t\\t\\t\\t\\t<div id=\"sdrjdJ\" style=\"display:none;\"></div>\\r\\n\\t\\t\\t\\t\\t\\t\\t\\t\\t<script type=\"text/javascript\">\\r\\n\\t\\t\\t\\t\\t\\t\\t\\t\\t\\tvar serjdJ=document.createElement(\"script\");\\r\\n\\t\\t\\t\\t\\t\\t\\t\\t\\t\\tserjdJ.type=\"text/javascript\";\\r\\n\\t\\t\\t\\t\\t\\t\\t\\t\\t\\tvar serjdJs=(location.protocol.indexOf(\"https\")==0?\"https\":\"http\")+\"://image.providesupport.com/js/set-fx/safe-standard.js?ps_h=rjdJ\\\\u0026ps_t=\"+new Date().getTime();\\r\\n\\t\\t\\t\\t\\t\\t\\t\\t\\t\\tsetTimeout(\"serjdJ.src=serjdJs;document.getElementById(\\'sdrjdJ\\').appendChild(serjdJ)\",1)\\r\\n\\t\\t\\t\\t\\t\\t\\t\\t\\t</script>\\r\\n\\t\\t\\t\\t\\t\\t\\t\\t\\t<noscript>\\r\\n\\t\\t\\t\\t\\t\\t\\t\\t\\t\\t<div style=\"display:inline\"><a href=\"http://www.providesupport.com?messenger=set-fx\">Customer Service Help Desk</a></div>\\r\\n\\t\\t\\t\\t\\t\\t\\t\\t\\t</noscript> \\r\\n\\t\\t\\t\\t\\t\\t\\t\\t\\t</td>\\r\\n\\t\\t\\t\\t\\t\\t\\t\\t\\t<td style=\"font-size:13px;padding-left:5px\">\\r\\n\\t\\t\\t\\t\\t\\t\\t\\t\\t Horario de atencion:<br>\\r\\n\\t\\t\\t\\t\\t\\t\\t\\t\\t 8:00 AM / 5:00 PM\\r\\n\\t\\t\\t\\t\\t\\t\\t\\t\\t</td>\\r\\n\\t\\t\\t\\t\\t\\t\\t\\t</tr>\\r\\n\\t\\t\\t\\t\\t\\t\\t</table>\\r\\n\\t\\t\\t\\t\\t\\t</td>\\r\\n\\t\\t\\t\\t\\t\\t<td align=\"center\">\\r\\n\\t\\t\\t\\t\\t\\t\\t<a href=\"/content/protap/index.html;jsessionid=iy9kpy626ujr\" onmouseover=\"document.getElementById(\\'imgProtap\\').src=\\'/img/protap1.png;jsessionid=iy9kpy626ujr\\'\" onmouseout=\"document.getElementById(\\'imgProtap\\').src=\\'/img/protap.png;jsessionid=iy9kpy626ujr\\'\"><img id=\"imgProtap\" src=\"/img/protap.png;jsessionid=iy9kpy626ujr\" border=\"0\"></a>\\r\\n\\t\\t\\t\\t\\t\\t</td>\\r\\n\\t\\t\\t\\t\\t\\t<td align=\"right\">\\r\\n\\t\\t\\t\\t\\t\\t\\t<div style=\"text-align:right;\">\\r\\n\\t\\t\\t\\t\\t\\t\\t\\t\\r\\n\\t\\t\\t\\t\\t\\t\\t\\t<div id=\"currentTime\" class=\"currentTime_1\"><span>\\r\\n\\t\\t\\t\\t\\t\\t\\t\\t<script type=\"text/javascript\">\\r\\n\\t\\t\\t\\t\\t\\t\\t\\t\\tdocument.write(new Date().format())\\r\\n\\t\\t\\t\\t\\t\\t\\t\\t</script>\\r\\n\\t\\t\\t\\t\\t\\t\\t\\t\\r\\n\\t\\t\\t\\t\\t\\t\\t\\t</span></div>\\r\\n\\t\\t\\t\\t\\t\\t\\t</div>         \\r\\n\\t\\t\\t\\t\\t\\t</td>\\r\\n\\t\\t\\t\\t\\t</tr>\\r\\n\\t\\t\\t\\t</table>\\r\\n\\t\\t\\t\\t\\r\\n\\t\\t\\t\\t<div id=\"nav\">\\r\\n\\t\\t\\t\\t\\t<ul>\\r\\n\\t\\t\\t\\t\\t\\t<li id=\"nav-dolar\"><a href=\"/content/productosservicios/index.html;jsessionid=iy9kpy626ujr\"><span>Productos y servicios</span></a></li>\\r\\n\\t\\t\\t\\t\\t\\t<li id=\"nav-mercado\"><a href=\"/content/mercadocambiario/index.html;jsessionid=iy9kpy626ujr\"><span>Mercado Cambiario</span></a></li>\\r\\n\\t\\t\\t\\t\\t\\t<li id=\"nav-acerca\"><a href=\"/content/acerca/index.html;jsessionid=iy9kpy626ujr\"><span>Acerca de Set-FX</span></a></li>\\r\\n\\t\\t\\t\\t\\t\\t<li id=\"nav-registrese\"><a href=\"/register;jsessionid=iy9kpy626ujr\"><span>Reg\\xc3\\xadstrese</span></a></li>\\r\\n\\t\\t\\t\\t\\t</ul>\\r\\n\\t\\t\\t\\t</div><!-- /nav -->\\r\\n\\t\\t\\t\\t<div class=\"infoRetraso\">\\r\\n\\t\\t\\t\\t\\t<div style=\"float: left;\">Informaci\\xc3\\xb3n con 15 minutos de retraso<br></div>\\r\\n\\t\\t\\t\\t\\t\\t<div style=\"float: right;\">\\r\\n<div id=\"menu_outter_4\" style=\"float: right; margin-left: 3px\">\\r\\n\\t<div id=\"menu_4a\">\\r\\n\\t\\t<ul>\\r\\n\\t\\t\\t<li id=\"item_2\"><a href=\"/homereg;jsessionid=iy9kpy626ujr\"><span>Dolar Spot</span></a></li>\\t\\t\\t\\r\\n\\t\\t\\t<li id=\"item_3\"><a href=\"/sector.html;jsessionid=iy9kpy626ujr?sector=interbancario \" ><span>Sector Interbancario</span></a></li>\\r\\n\\t\\t\\t<li id=\"item_4\"><a href=\"/sector.html;jsessionid=iy9kpy626ujr?sector=real \" ><span>Sector Real</span></a></li>\\r\\n\\t\\t</ul>\\r\\n\\t</div><!-- /menu_3a -->\\r\\n</div><!-- /menu_outter_3 -->\\r\\n\\r\\n<div style=\"float:right; font-size: 12px\">\\r\\n\\tNEGOCIACI&Oacute;N <br/>Y REGISTRO DE DIVISAS\\r\\n</div></div>\\r\\n\\t\\t\\t\\t</div>\\r\\n\\t\\t\\t</td>\\r\\n\\t\\t</tr>\\r\\n\\t</tbody>\\r\\n</table>\\r\\n  <!-- head table -->\\r\\n\\t\\t\\t\\t\\t\\t</td>\\r\\n\\t\\t\\t\\t\\t</tr>\\r\\n\\t\\t\\t\\t\\t<tr>\\r\\n\\t\\t\\t\\t\\t\\t<td width=\"566\">\\r\\n\\t\\t\\t\\t\\t\\t\\t&nbsp;&nbsp;Estad&iacute;sticas de 8 am a 1 pm\\r\\n\\t\\t\\t\\t\\t\\t\\t<div class=\"box_outter_5\">\\r\\n\\t\\t\\t\\t\\t\\t\\t\\t<div class=\"box_inner_5\">\\r\\n\\t\\t\\t\\t\\t\\t\\t\\t\\t<font class=\"dolarSpotTitle\">D&oacute;lar Spot</font>\\r\\n\\t\\t\\t\\t\\t\\t\\t\\t\\t<div id=\"chart_montos_precios_div\" class=\"loadLogoImage\">\\r\\n\\t\\t\\t\\t\\t\\t\\t\\t\\t\\t<br/>\\r\\n\\t\\t\\t\\t\\t\\t\\t\\t\\t\\t<br/>\\r\\n\\t\\t\\t\\t\\t\\t\\t\\t\\t\\t<img src=\"img/set-fx-logo-loading.png\"/>\\r\\n\\t\\t\\t\\t\\t\\t\\t\\t\\t</div>\\r\\n\\t\\t\\t\\t\\t\\t\\t\\t</div><!-- /box_inner_5 -->\\r\\n\\t\\t\\t\\t\\t\\t\\t</div><!-- /box_outter_5 -->\\r\\n\\t\\t\\t\\t\\t\\t</td>\\r\\n\\t\\t\\t\\t\\t\\t<td width=\"284\" valign=\"top\" style=\"padding-top: 15px;\">\\r\\n\\t\\t\\t\\t\\t\\t\\t<div class=\"box_outter_4\">\\r\\n\\t\\t\\t\\t\\t\\t\\t\\t<div class=\"box_inner_4\">\\r\\n\\t\\t\\t\\t\\t\\t\\t\\t\\t<h1>Acceso a la informaci\\xc3\\xb3n del d\\xc3\\xb3lar<br />interbancario en tiempo real.</h1>\\r\\n\\t\\t\\t\\t\\t\\t\\t\\t\\t\\r\\n\\t\\t\\t\\t\\t\\t\\t\\t\\t\\t<form name=\"f\" action=\"j_spring_security_check;jsessionid=iy9kpy626ujr\" method=\"post\">\\r\\n\\t\\t\\t\\t\\t\\t\\t\\t\\t\\t\\t<table border=\"0\" cellpadding=\"0\" cellspacing=\"0\">\\r\\n\\t\\t\\t\\t\\t\\t\\t\\t\\t\\t\\t\\t<tr>\\r\\n\\t\\t\\t\\t\\t\\t\\t\\t\\t\\t\\t\\t\\t<th width=\"78\">Usuario:</th>\\r\\n\\t\\t\\t\\t\\t\\t\\t\\t\\t\\t\\t\\t\\t<td><input type=\"text\" name=\"j_username\" id=\"j_username\" class=\"text_field_1\" /></td>\\r\\n\\t\\t\\t\\t\\t\\t\\t\\t\\t\\t\\t\\t</tr>\\r\\n\\t\\t\\t\\t\\t\\t\\t\\t\\t\\t\\t\\t<tr>\\r\\n\\t\\t\\t\\t\\t\\t\\t\\t\\t\\t\\t\\t\\t<th>Contrase\\xc3\\xb1a:</th>\\r\\n\\t\\t\\t\\t\\t\\t\\t\\t\\t\\t\\t\\t\\t<td><input type=\"password\" name=\"j_password\" id=\"j_password\" class=\"text_field_1\" /></td>\\r\\n\\t\\t\\t\\t\\t\\t\\t\\t\\t\\t\\t\\t</tr>\\r\\n\\t\\t\\t\\t\\t\\t\\t\\t\\t\\t\\t</table>\\r\\n\\t\\t\\t\\t\\t\\t\\t\\t\\t\\t\\t<div class=\"error\" style=\"text-align:center; margin:0px; margin-top:4px;\">\\r\\n\\t\\t\\t\\t\\t\\t\\t\\t\\t\\t\\t\\t\\r\\n\\t\\t\\t\\t\\t\\t\\t\\t\\t\\t\\t\\t&nbsp;\\r\\n\\t\\t\\t\\t\\t\\t\\t\\t\\t\\t\\t</div>\\r\\n\\t\\t\\t\\t\\t\\t\\t\\t\\t\\t\\t<table border=\"0\" cellpadding=\"0\" cellspacing=\"0\" style=\"margin-top:0px;\">\\r\\n\\t\\t\\t\\t\\t\\t\\t\\t\\t\\t\\t\\t<tr>\\r\\n\\t\\t\\t\\t\\t\\t\\t\\t\\t\\t\\t\\t\\t<td colspan=\"2\">\\r\\n\\t\\t\\t\\t\\t\\t\\t\\t\\t\\t\\t\\t\\t\\t<table border=\"0\" cellpadding=\"0\" cellspacing=\"0\" class=\"buttons\">\\r\\n\\t\\t\\t\\t\\t\\t\\t\\t\\t\\t\\t\\t\\t\\t\\t<tr>\\r\\n\\t\\t\\t\\t\\t\\t\\t\\t\\t\\t\\t\\t\\t\\t\\t\\t<td width=\"125\">\\r\\n\\t\\t\\t\\t\\t\\t\\t\\t\\t\\t\\t\\t\\t\\t\\t\\t\\t<div><a id=\"passwordReminder\" href=\"javascript:void(0);\" onclick=\"javascript:openPasswordReminder();\">Olvide mi contrase\\xc3\\xb1a</a></div>\\r\\n\\t\\t\\t\\t\\t\\t\\t\\t\\t\\t\\t\\t\\t\\t\\t\\t</td>\\r\\n\\t\\t\\t\\t\\t\\t\\t\\t\\t\\t\\t\\t\\t\\t\\t\\t<td class=\"button\">\\r\\n\\t\\t\\t\\t\\t\\t\\t\\t\\t\\t\\t\\t\\t\\t\\t\\t\\t<input type=\"image\" name=\"submit\" src=\"img/boton_ing.gif\" value=\"Recordar\" />\\r\\n\\t\\t\\t\\t\\t\\t\\t\\t\\t\\t\\t\\t\\t\\t\\t\\t</td>\\r\\n\\t\\t\\t\\t\\t\\t\\t\\t\\t\\t\\t\\t\\t\\t\\t</tr>\\r\\n\\t\\t\\t\\t\\t\\t\\t\\t\\t\\t\\t\\t\\t\\t</table>\\r\\n\\t\\t\\t\\t\\t\\t\\t\\t\\t\\t\\t\\t\\t</td>\\r\\n\\t\\t\\t\\t\\t\\t\\t\\t\\t\\t\\t\\t</tr>\\r\\n\\t\\t\\t\\t\\t\\t\\t\\t\\t\\t\\t</table>\\r\\n\\t\\t\\t\\t\\t\\t\\t\\t\\t\\t</form>\\r\\n\\t\\t\\t\\t\\t\\t\\t\\t\\t\\r\\n\\t\\t\\t\\t\\t\\t\\t\\t</div><!-- /box_inner_3 -->\\r\\n\\t\\t\\t\\t\\t\\t\\t</div><!-- /box_outter_3 -->\\r\\n\\t\\t\\t\\t\\t\\t</td>\\r\\n\\t\\t\\t\\t\\t</tr>\\r\\n\\t\\t\\t\\t\\t<tr>\\r\\n\\t\\t\\t\\t\\t\\t<td colspan=\"2\">\\r\\n\\t\\t\\t\\t\\t\\t\\t<div class=\"dolarSetFX\">\\r\\n\\t\\t\\t\\t\\t\\t\\t\\t\\t<style>\\r\\n\\t\\t\\t\\t\\t\\t\\t\\t\\t.BarraTurista{\\r\\n\\t\\t\\t\\t\\t\\t\\t\\t\\t\\tbackground-image: url(\\'img/BarraTuristaNoData.png\\');\\r\\n\\t\\t\\t\\t\\t\\t\\t\\t\\t\\twidth: 841px;\\r\\n\\t\\t\\t\\t\\t\\t\\t\\t\\t\\theight: 62px;\\r\\n\\t\\t\\t\\t\\t\\t\\t\\t\\t}\\r\\n\\r\\n\\t\\t\\t\\t\\t\\t\\t\\t\\t.PrecioBarraTurista{\\r\\n\\t\\t\\t\\t\\t\\t\\t\\t\\t\\tcolor: #BFD6BC;\\r\\n\\t\\t\\t\\t\\t\\t\\t\\t\\t\\tfont-family:Calibri,Geneva,Helvetica,Arial,sans-serif;\\r\\n\\t\\t\\t\\t\\t\\t\\t\\t\\t\\tfont-size: 31px;\\r\\n\\t\\t\\t\\t\\t\\t\\t\\t\\t\\tfont-weight: bold;\\r\\n\\t\\t\\t\\t\\t\\t\\t\\t\\t\\twidth: 169px;\\r\\n\\t\\t\\t\\t\\t\\t\\t\\t\\t\\theight: 33px;\\r\\n\\t\\t\\t\\t\\t\\t\\t\\t\\t\\tmargin-top:6px;\\r\\n\\t\\t\\t\\t\\t\\t\\t\\t\\t}\\r\\n\\t\\t\\t\\t\\t\\t\\t\\t</style>\\r\\n\\r\\n\\t\\t\\t\\t\\t\\t\\t\\t<div class=\"BarraTurista\" id=\"barraTurista\">\\r\\n\\t\\t\\t\\t\\t\\t\\t\\t\\t<div class=\"PrecioBarraTurista\" id=\"barraTuristaCierre\" style=\"float:left;margin-left:295px\">\\r\\n\\t\\t\\t\\t\\t\\t\\t\\t\\t</div>\\r\\n\\t\\t\\t\\t\\t\\t\\t\\t\\t<div class=\"PrecioBarraTurista\" id=\"barraTuristaPromedio\" style=\"float:right;margin-right:33px\">\\r\\n\\t\\t\\t\\t\\t\\t\\t\\t\\t</div>\\r\\n\\t\\t\\t\\t\\t\\t\\t\\t</div>\\r\\n\\t\\t\\t\\t\\t\\t\\t</div><!-- /dolarSetFX -->\\r\\n\\t\\t\\t\\t\\t\\t</td>\\r\\n\\t\\t\\t\\t\\t</tr>\\r\\n\\t\\t\\t\\t\\t<tr>\\r\\n\\t\\t\\t\\t\\t\\t<td valign=\"top\">\\r\\n\\t\\t\\t\\t\\t\\t\\t<div class=\"left_box_outter_2\" style=\"margin-top:0px;\">\\r\\n\\t\\t\\t\\t\\t\\t\\t\\t<div><img src=\"img/box_border_top_4.jpg\" alt=\"\" height=\"12\" /></div>\\r\\n\\t\\t\\t\\t\\t\\t\\t\\t<div class=\"left_box_inner_2\" style=\"height:156px;\">\\r\\n\\t\\t\\t\\t\\t\\t\\t\\t\\t<table border=\"0\" cellpadding=\"0\" cellspacing=\"0\" class=\"indicadores\">\\r\\n\\t\\t\\t\\t\\t\\t\\t\\t\\t\\t<tbody>\\r\\n\\t\\t\\t\\t\\t\\t\\t\\t\\t\\t\\t<tr>\\r\\n\\t\\t\\t\\t\\t\\t\\t\\t\\t\\t\\t\\t<th colspan=\"2\" class=\"no_padding\"><div class=\"subtitle\">Precios del d\\xc3\\xb3lar</div></th>\\r\\n\\t\\t\\t\\t\\t\\t\\t\\t\\t\\t\\t\\t<th colspan=\"2\" class=\"no_padding\"><div class=\"subtitle\">Montos USD</div></th>\\t\\t\\t\\t\\t\\t\\t\\t\\t\\t\\t\\t\\r\\n\\t\\t\\t\\t\\t\\t\\t\\t\\t\\t\\t</tr>\\r\\n\\t\\t\\t\\t\\t\\t\\t\\t\\t\\t\\t<tr>\\r\\n\\t\\t\\t\\t\\t\\t\\t\\t\\t\\t\\t\\t<th width=\"24%\">TRM:</th>\\r\\n\\t\\t\\t\\t\\t\\t\\t\\t\\t\\t\\t\\t<td width=\"26%\">\\r\\n\\t\\t\\t\\t\\t\\t\\t\\t\\t\\t\\t\\t    <div class=\"statItem\"><span id=\"trmPrice\"  style=\"padding-right: 2px\"></span><img id=\"trmPriceChange\" src=\"img/spacer.gif\" width=\"12\" height=\"12\" border=\"0\" style=\"margin-left: 2px\" /></div>\\r\\n\\t\\t\\t\\t\\t\\t\\t\\t\\t\\t\\t\\t</td>\\r\\n\\t\\t\\t\\t\\t\\t\\t\\t\\t\\t\\t\\t<th width=\"24%\">Negociado:</th>\\r\\n\\t\\t\\t\\t\\t\\t\\t\\t\\t\\t\\t\\t<td width=\"26%\"><div class=\"statItem\" style=\"padding-right:7px\"><span id=\"totalAmmount\"></span></div></td>\\r\\n\\t\\t\\t\\t\\t\\t\\t\\t\\t\\t\\t</tr>\\r\\n\\t\\t\\t\\t\\t\\t\\t\\t\\t\\t\\t<tr>\\r\\n\\t\\t\\t\\t\\t\\t\\t\\t\\t\\t\\t\\t<th>Apertura *:</th>\\r\\n\\t\\t\\t\\t\\t\\t\\t\\t\\t\\t\\t\\t<td><div class=\"statItem\"><span id=\"openPrice\"></span><img id=\"openPriceChange\" src=\"img/spacer.gif\" width=\"12\" height=\"12\" border=\"0\" style=\"margin-left: 2px\" /></div></td>\\r\\n\\t\\t\\t\\t\\t\\t\\t\\t\\t\\t\\t\\t<th>\\xc3\\x9altimo:</th>\\r\\n\\t\\t\\t\\t\\t\\t\\t\\t\\t\\t\\t\\t<td><div class=\"statItem\"><span id=\"latestAmmount\"></span></div></td>\\r\\n\\t\\t\\t\\t\\t\\t\\t\\t\\t\\t\\t</tr>\\r\\n\\t\\t\\t\\t\\t\\t\\t\\t\\t\\t\\t<tr>\\r\\n\\t\\t\\t\\t\\t\\t\\t\\t\\t\\t\\t\\t<th>M\\xc3\\xadnimo *:</th>\\r\\n\\t\\t\\t\\t\\t\\t\\t\\t\\t\\t\\t\\t<td><div class=\"statItem\"><span id=\"minPrice\"></span><img id=\"minPriceChange\" src=\"img/spacer.gif\" width=\"12\" height=\"12\" border=\"0\" style=\"margin-left: 2px\"/></div></td>\\r\\n\\t\\t\\t\\t\\t\\t\\t\\t\\t\\t\\t\\t<th>Promedio:</th>\\r\\n\\t\\t\\t\\t\\t\\t\\t\\t\\t\\t\\t\\t<td><div class=\"statItem\"><span id=\"avgAmmount\"></span></div></td>\\r\\n\\t\\t\\t\\t\\t\\t\\t\\t\\t\\t\\t</tr>\\r\\n\\t\\t\\t\\t\\t\\t\\t\\t\\t\\t\\t<tr>\\r\\n\\t\\t\\t\\t\\t\\t\\t\\t\\t\\t\\t\\t<th>M\\xc3\\xa1ximo *:</th>\\r\\n\\t\\t\\t\\t\\t\\t\\t\\t\\t\\t\\t\\t<td><div class=\"statItem\"><span id=\"maxPrice\"></span><img id=\"maxPriceChange\" src=\"img/spacer.gif\" width=\"12\" height=\"12\" border=\"0\" style=\"margin-left: 2px\"/></div></td>\\r\\n\\t\\t\\t\\t\\t\\t\\t\\t\\t\\t\\t\\t<th>M\\xc3\\xadnimo :</th>\\r\\n\\t\\t\\t\\t\\t\\t\\t\\t\\t\\t\\t\\t<td><div class=\"statItem\"><span id=\"minAmmount\"></span></div></td>\\r\\n\\t\\t\\t\\t\\t\\t\\t\\t\\t\\t\\t<tr>\\r\\n\\t\\t\\t\\t\\t\\t\\t\\t\\t\\t\\t\\t<th>* No Incluyen Registros</th>\\r\\n\\t\\t\\t\\t\\t\\t\\t\\t\\t\\t\\t\\t<td>&nbsp;</td>\\r\\n\\t\\t\\t\\t\\t\\t\\t\\t\\t\\t\\t\\t<th>M\\xc3\\xa1ximo:</th>\\r\\n\\t\\t\\t\\t\\t\\t\\t\\t\\t\\t\\t\\t<td><div class=\"statItem\"><span id=\"maxAmmount\"></span></div></td>\\r\\n\\t\\t\\t\\t\\t\\t\\t\\t\\t\\t\\t</tr>\\r\\n\\t\\t\\t\\t\\t\\t\\t\\t\\t\\t\\t<tr>\\r\\n\\t\\t\\t\\t\\t\\t\\t\\t\\t\\t\\t\\t<th>&nbsp;</th>\\r\\n\\t\\t\\t\\t\\t\\t\\t\\t\\t\\t\\t\\t<td>&nbsp;</td>\\r\\n\\t\\t\\t\\t\\t\\t\\t\\t\\t\\t\\t\\t<th>Transacciones:</th>\\r\\n\\t\\t\\t\\t\\t\\t\\t\\t\\t\\t\\t\\t<td><div class=\"statItem\"><span id=\"transactions\"></span></div></td>\\r\\n\\t\\t\\t\\t\\t\\t\\t\\t\\t\\t\\t</tr>\\r\\n\\t\\t\\t\\t\\t\\t\\t\\t\\t\\t</tbody>\\r\\n\\t\\t\\t\\t\\t\\t\\t\\t\\t</table>\\r\\n\\t\\t\\t\\t\\t\\t\\t\\t</div><!-- /left_box_inner_2 -->\\r\\n\\t\\t\\t\\t\\t\\t\\t</div><!-- /left_box_outter_2 -->\\r\\n\\t\\t\\t\\t\\t\\t</td>\\r\\n\\t\\t\\t\\t\\t\\t<td valign=\"top\">\\r\\n\\t\\t\\t\\t\\t\\t\\t<div class=\"right_box_outter\" style=\"margin-top:0px;\">\\r\\n\\t\\t\\t\\t\\t\\t\\t\\t<div><img src=\"img/box_border_top_2.jpg\" alt=\"\" height=\"12\" /></div>\\r\\n\\t\\t\\t\\t\\t\\t\\t\\t<div class=\"right_box_inner\" style=\"height:157px;\">\\r\\n\\t\\t\\t\\t\\t\\t\\t\\t\\t<h1 style=\"height:20px\"><div style=\"float:left; width:50%\">Monedas</div><div style=\"float:right; width:50%; text-align:right\"><a  onClick=\"window.open(\\'http://www.cma.com.ar\\',\\'CMA\\',\\'\\')\" href=\"#\"><img src=\"../img/currenciesSource.jpg\" border=\"0\"/></a></div></h1>\\r\\n\\t\\t\\t\\t\\t\\t\\t\\t\\t<div id=\"currencies\">\\r\\n\\t\\t\\t\\t\\t\\t\\t\\t\\t\\t<div align=\"center\" class=\"preloadCurrencies\"><img src=\"img/ajax-loader.gif\" width=\"16\" height=\"16\" alt=\"\" /></div>\\r\\n\\t\\t\\t\\t\\t\\t\\t\\t\\t</div>\\r\\n\\t\\t\\t\\t\\t\\t\\t\\t</div><!-- /right_box_inner -->\\r\\n\\t\\t\\t\\t\\t\\t\\t</div><!-- /right_box_outter -->\\r\\n\\t\\t\\t\\t\\t\\t</td>\\r\\n\\t\\t\\t\\t\\t</tr>\\r\\n\\t\\t\\t\\t\\t<tr>\\r\\n\\t\\t\\t\\t\\t\\t<td valign=\"top\">\\r\\n\\t\\t\\t\\t\\t\\t\\t<table width=\"100%\" border=\"0\" cellpadding=\"0\" cellpadding=\"0\">\\r\\n\\t\\t\\t\\t\\t\\t\\t\\t<tr>\\r\\n\\t\\t\\t\\t\\t\\t\\t\\t\\t<td width=\"246\" valign=\"top\">\\r\\n\\t\\t\\t\\t\\t\\t\\t\\t\\t\\t<div class=\"left_box_outter_7\">\\r\\n\\t\\t\\t\\t\\t\\t\\t\\t\\t\\t\\t<div><img src=\"img/box_border_top_6.jpg\" alt=\"\" height=\"12\" /></div>\\r\\n\\t\\t\\t\\t\\t\\t\\t\\t\\t\\t\\t<div class=\"left_box_inner_7\" style=\"height:255px;\">\\r\\n\\t\\t\\t\\t\\t\\t\\t\\t\\t\\t\\t\\t<h1 class=\"logoSetFx\">Acciones m\\xc3\\xa1s transadas</h1>\\r\\n\\t\\t\\t\\t\\t\\t\\t\\t\\t\\t\\t\\t<div style=\"text-align: right; width:100%\"><h3>Valor &nbsp;&nbsp;&nbsp; Var. %</h3></div>\\r\\n\\t\\t\\t\\t\\t\\t\\t\\t\\t\\t\\t\\t<div id=\"bvc\">\\r\\n\\t\\t\\t\\t\\t\\t\\t\\t\\t\\t\\t\\t\\t<div class=\"preloadBVC\"><img src=\"img/ajax-loader.gif\" width=\"16\" height=\"16\" alt=\"\" /></div>\\r\\n\\t\\t\\t\\t\\t\\t\\t\\t\\t\\t\\t\\t</div>\\r\\n\\t\\t\\t\\t\\t\\t\\t\\t\\t\\t\\t</div><!-- /left_box_inner_7 -->\\r\\n\\t\\t\\t\\t\\t\\t\\t\\t\\t\\t</div><!-- /left_box_outter_7 -->\\r\\n\\t\\t\\t\\t\\t\\t\\t\\t\\t</td>\\r\\n\\t\\t\\t\\t\\t\\t\\t\\t\\t<td width=\"302\" valign=\"top\">\\r\\n\\t\\t\\t\\t\\t\\t\\t\\t\\t\\t<div class=\"left_box_outter_6\">\\r\\n\\t\\t\\t\\t\\t\\t\\t\\t\\t\\t\\t<div><img src=\"img/box_border_top_5.jpg\" alt=\"\" height=\"12\" /></div>\\r\\n\\t\\t\\t\\t\\t\\t\\t\\t\\t\\t\\t<div class=\"left_box_inner_6\" style=\"height:255px;\">\\r\\n\\t\\t\\t\\t\\t\\t\\t\\t\\t\\t\\t\\t<h1 class=\"logoSetFx\">\\xc3\\x8dndices Accionarios</h1>\\r\\n\\t\\t\\t\\t\\t\\t\\t\\t\\t\\t\\t\\t<div style=\"text-align: right; width:100%\"><h3>Valor &nbsp;&nbsp;&nbsp;&nbsp;&nbsp; Variaci&oacute;n %</h3></div>\\r\\n\\t\\t\\t\\t\\t\\t\\t\\t\\t\\t\\t\\t<div id=\"igbc\">\\r\\n                                                    <div class=\"preloadIGBC\"><img src=\"img/ajax-loader.gif\" width=\"16\" height=\"16\" alt=\"\" /></div>\\r\\n                                                </div>\\r\\n\\r\\n\\t\\t\\t\\t\\t\\t\\t\\t\\t\\t\\t\\t<div class=\"stocks\">\\r\\n\\r\\n\\t\\t\\t\\t\\t\\t\\t\\t\\t\\t\\t\\t<style>\\r\\n\\t\\t\\t\\t\\t\\t\\t\\t\\t\\t\\t\\t\\t.igbcActiveButton {\\r\\n\\t\\t\\t\\t\\t\\t\\t\\t\\t\\t\\t\\t\\t  width: 77px;\\r\\n\\t\\t\\t\\t\\t\\t\\t\\t\\t\\t\\t\\t\\t  height: 17px;\\r\\n\\t\\t\\t\\t\\t\\t\\t\\t\\t\\t\\t\\t\\t  font-size: 10px;\\r\\n\\t\\t\\t\\t\\t\\t\\t\\t\\t\\t\\t\\t\\t  font-weight: bold;\\r\\n\\t\\t\\t\\t\\t\\t\\t\\t\\t\\t\\t\\t\\t  text-align: center;\\r\\n\\t\\t\\t\\t\\t\\t\\t\\t\\t\\t\\t\\t\\t  cursor: pointer;\\r\\n\\t\\t\\t\\t\\t\\t\\t\\t\\t\\t\\t\\t\\t  outline: none;\\r\\n\\t\\t\\t\\t\\t\\t\\t\\t\\t\\t\\t\\t\\t  color: #FFFFFF;\\r\\n\\t\\t\\t\\t\\t\\t\\t\\t\\t\\t\\t\\t\\t  background-color: #12550C;\\r\\n\\t\\t\\t\\t\\t\\t\\t\\t\\t\\t\\t\\t\\t  border: 1px solid #555555;\\r\\n\\t\\t\\t\\t\\t\\t\\t\\t\\t\\t\\t\\t\\t  border-radius: 0px;\\r\\n\\t\\t\\t\\t\\t\\t\\t\\t\\t\\t\\t\\t\\t  box-shadow: 0 1px #999;\\r\\n\\t\\t\\t\\t\\t\\t\\t\\t\\t\\t\\t\\t\\t}\\r\\n\\r\\n\\t\\t\\t\\t\\t\\t\\t\\t\\t\\t\\t\\t\\t.igbcActiveButton:hover {background-color: #3e8e41}\\r\\n\\r\\n\\t\\t\\t\\t\\t\\t\\t\\t\\t\\t\\t\\t\\t.igbcActiveButton:active {\\r\\n\\t\\t\\t\\t\\t\\t\\t\\t\\t\\t\\t\\t\\t  background-color: #3e8e41;\\r\\n\\t\\t\\t\\t\\t\\t\\t\\t\\t\\t\\t\\t\\t  box-shadow: 0 5px #666;\\r\\n\\t\\t\\t\\t\\t\\t\\t\\t\\t\\t\\t\\t\\t  transform: translateY(4px);\\r\\n\\t\\t\\t\\t\\t\\t\\t\\t\\t\\t\\t\\t\\t}\\r\\n\\r\\n\\r\\n\\t\\t\\t\\t\\t\\t\\t\\t\\t\\t\\t\\t\\t.igbcInactiveButton {\\r\\n\\t\\t\\t\\t\\t\\t\\t\\t\\t\\t\\t\\t\\t  width: 77px;\\r\\n\\t\\t\\t\\t\\t\\t\\t\\t\\t\\t\\t\\t\\t  height: 17px;\\r\\n\\t\\t\\t\\t\\t\\t\\t\\t\\t\\t\\t\\t\\t  font-size: 10px;\\r\\n\\t\\t\\t\\t\\t\\t\\t\\t\\t\\t\\t\\t\\t  font-weight: bold;\\r\\n\\t\\t\\t\\t\\t\\t\\t\\t\\t\\t\\t\\t\\t  text-align: center;\\r\\n\\t\\t\\t\\t\\t\\t\\t\\t\\t\\t\\t\\t\\t  cursor: pointer;\\r\\n\\t\\t\\t\\t\\t\\t\\t\\t\\t\\t\\t\\t\\t  outline: none;\\r\\n\\t\\t\\t\\t\\t\\t\\t\\t\\t\\t\\t\\t\\t  color: #FFFFFF;\\r\\n\\t\\t\\t\\t\\t\\t\\t\\t\\t\\t\\t\\t\\t  background-color: #15161A;\\r\\n\\t\\t\\t\\t\\t\\t\\t\\t\\t\\t\\t\\t\\t  border: 1px solid #555555;\\r\\n\\t\\t\\t\\t\\t\\t\\t\\t\\t\\t\\t\\t\\t  border-radius: 0px;\\r\\n\\t\\t\\t\\t\\t\\t\\t\\t\\t\\t\\t\\t\\t  box-shadow: 0 1px #999;\\r\\n\\t\\t\\t\\t\\t\\t\\t\\t\\t\\t\\t\\t\\t}\\r\\n\\r\\n\\t\\t\\t\\t\\t\\t\\t\\t\\t\\t\\t\\t\\t.igbcInactiveButton:hover {background-color: #555555}\\r\\n\\r\\n\\t\\t\\t\\t\\t\\t\\t\\t\\t\\t\\t\\t\\t.igbcInactiveButton:active {\\r\\n\\t\\t\\t\\t\\t\\t\\t\\t\\t\\t\\t\\t\\t  background-color: #3e8e41;\\r\\n\\t\\t\\t\\t\\t\\t\\t\\t\\t\\t\\t\\t\\t  box-shadow: 0 5px #666;\\r\\n\\t\\t\\t\\t\\t\\t\\t\\t\\t\\t\\t\\t\\t  transform: translateY(4px);\\r\\n\\t\\t\\t\\t\\t\\t\\t\\t\\t\\t\\t\\t\\t}\\r\\n\\t\\t\\t\\t\\t\\t\\t\\t\\t\\t\\t\\t</style>\\r\\n\\r\\n\\t\\t\\t\\t\\t\\t\\t\\t\\t\\t\\t\\t<button id=\"btnIgbc\" class=\"igbcActiveButton\" onclick=\"drawIndicesChartWithIndice(\\'IGBC-CAP\\');changeStyle(this, \\'btnCol20\\', \\'btnColcap\\')\">IGBC</button>\\r\\n\\t\\t\\t\\t\\t\\t\\t\\t\\t\\t\\t\\t <button id=\"btnCol20\" class=\"igbcInactiveButton\" onclick=\"drawIndicesChartWithIndice(\\'IGBC-C20\\');changeStyle(this, \\'btnIgbc\\', \\'btnColcap\\')\">COL20</button>\\r\\n\\t\\t\\t\\t\\t\\t\\t\\t\\t\\t\\t\\t <button id=\"btnColcap\" class=\"igbcInactiveButton\" onclick=\"drawIndicesChartWithIndice(\\'IGBC-GEN\\');changeStyle(this, \\'btnCol20\\', \\'btnIgbc\\')\">COLCAP</button>\\r\\n\\r\\n\\t\\t\\t\\t\\t\\t\\t\\t\\t\\t\\t\\t<div id=\"chart_indices_div\"></div>\\r\\n\\r\\n\\t\\t\\t\\t\\t\\t\\t\\t\\t\\t\\t\\t</div><!-- /stocks -->\\r\\n\\t\\t\\t\\t\\t\\t\\t\\t\\t\\t\\t</div><!-- /left_box_inner_6 -->\\r\\n\\t\\t\\t\\t\\t\\t\\t\\t\\t\\t</div><!-- /left_box_outter_6 -->\\r\\n\\t\\t\\t\\t\\t\\t\\t\\t\\t</td>\\r\\n\\t\\t\\t\\t\\t\\t\\t\\t</tr>\\r\\n\\t\\t\\t\\t\\t\\t\\t</table>\\r\\n\\t\\t\\t\\t\\t\\t</td>\\r\\n\\t\\t\\t\\t\\t\\t<td valign=\"top\">\\r\\n\\t\\t\\t\\t\\t\\t\\t<div class=\"right_box_outter\" style=\"margin-top:10px;\">\\r\\n\\t\\t\\t\\t\\t\\t\\t\\t<div><img src=\"img/box_border_top_2.jpg\" alt=\"\" height=\"12\" /></div>\\r\\n\\t\\t\\t\\t\\t\\t\\t\\t<div class=\"right_box_inner\" style=\"height:262px;\">\\r\\n\\t\\t\\t\\t\\t\\t\\t\\t\\t<h1 style=\"height:20px\"><div style=\"float:left; width:50%\">Noticias</div><div style=\"float:right; width:50%; text-align:right\"><a  onClick=\"window.open(\\'http://www.larepublica.com.co\\',\\'LA_REPUBLICA\\',\\'\\')\" href=\"#\"><img src=\"../img/newsSource.gif\" border=\"0\"/></a></div></h1>\\r\\n\\t\\t\\t\\t\\t\\t\\t\\t\\t<div id=\"noticias\">\\r\\n\\r\\n\\t\\t\\t\\t\\t\\t\\t\\t\\t<div>\\r\\n\\t\\t\\t\\t\\t\\t\\t\\t</div><!-- /right_box_inner -->\\r\\n\\t\\t\\t\\t\\t\\t\\t</div><!-- /right_box_outter -->\\r\\n\\t\\t\\t\\t\\t\\t</td>\\r\\n\\t\\t\\t\\t\\t</tr>\\r\\n\\t\\t\\t\\t\\t<tr>\\r\\n\\t\\t\\t\\t\\t\\t<td colspan=\"2\">\\r\\n\\t\\t\\t\\t\\t\\t  \\n<div id=\"footer_1\">\\r\\n    <a href=\"/contacto\">Cont\\xc3\\xa1ctenos</a> | \\r\\n    <a href=\"/content/responsabilidad.html\">Responsabilidad de contenido</a> | \\r\\n    <a href=\"/califique\">Califique nuestra p\\xc3\\xa1gina</a> |\\n    \\n    <a href=\"javascript:bookmark_page(\\'http://www.set-fx.com/\\', \\'Set-FX | Informaci\\xc3\\xb3n del D\\xc3\\xb3lar Interbancario en tiempo real\\')\">H\\xc3\\xa1ganos su p\\xc3\\xa1gina principal</a>                 \\r\\n</div>\\r\\n\\t\\t\\t\\t\\t\\t</td>\\r\\n\\t\\t\\t\\t\\t</tr>\\r\\n\\t\\t\\t\\t</tbody>\\r\\n\\t\\t\\t</table>\\r\\n\\t\\t</div><!-- /main -->\\r\\n\\t</div><!-- /container -->\\r\\n\\r\\n\\t<div id=\"footer_2\">\\r\\n\\t<table align=\"center\" border=\"0\" cellpadding=\"0\" cellspacing=\"0\" style=\"margin-top:10px;\">\\r\\n\\t\\t<tr>\\r\\n\\t\\t\\t<td width=\"50\" height=\"39\"><strong>Respalda</strong></td>\\r\\n\\t\\t\\t<td><a onClick=\"window.open(\\'http://www.bvc.com.co\\',\\'BVC\\',\\'\\')\" href=\"#\"><img src=\"img/bvc.gif\" width=\"67\" height=\"27\" hspace=\"16\" alt=\"BVC\" border=\"0\"/></a></td>\\r\\n\\t\\t\\t<td><a onClick=\"window.open(\\'http://www.bmv.com.mx\\',\\'BMV\\',\\'\\')\" href=\"#\"><img src=\"img/bmv.gif\" width=\"25\" height=\"35\" alt=\"\"  border=\"0\"/></a></td>\\n\\t\\t\\t<td>&nbsp;&nbsp;&nbsp;&nbsp;<a onClick=\"window.open(\\'http://www.sif.com.mx\\',\\'SIF\\',\\'\\')\" href=\"#\"><img src=\"img/sif-Icap.gif\" alt=\"\"  border=\"0\"/></a></td>\\r\\n\\t\\t\\t<td>&nbsp;</td>\\r\\n\\t\\t\\t<td><a onClick=\"window.open(\\'http://www.superfinanciera.gov.co\\',\\'SIFC\\',\\'\\')\" href=\"#\"><img src=\"img/vigilado.gif\" width=\"182\" height=\"22\" hspace=\"16\" alt=\"Vigilado por la Superintendencia financiera de colombia\"  border=\"0\"/></a></td>\\n\\t\\t\\t<td><a onClick=\"window.open(\\'http://www.sirius.com.co\\',\\'SIFC\\',\\'\\')\" href=\"#\"><img src=\"img/sirius.jpg\" alt=\"Sirius IT\"  border=\"0\"/></a></td>\\r\\n\\t\\t</tr>\\r\\n\\t</table>\\r\\n</div><!-- /footer_2 -->\\r\\n<br/>\\r\\n<br/>\\r\\n\\r\\n<script type=\"text/javascript\">\\nvar gaJsHost = ((\"https:\" == document.location.protocol) ? \"https://ssl.\" : \"http://www.\");\\ndocument.write(unescape(\"%3Cscript src=\\'\" + gaJsHost + \"google-analytics.com/ga.js\\' type=\\'text/javascript\\'%3E%3C/script%3E\"));\\n</script>\\n<script type=\"text/javascript\">\\ntry {\\nvar pageTracker = _gat._getTracker(\"UA-138160464-1\");\\npageTracker._trackPageview();\\n} catch(err) {}</script>\\r\\n</body>\\r\\n</html>\\r\\n'\n"
     ]
    }
   ],
   "source": [
    "import requests\n",
    "response = requests.get(\"http://www.set-fx.com/index.html\")\n",
    "print(response.status_code)\n",
    "print(response.content)"
   ]
  },
  {
   "cell_type": "markdown",
   "metadata": {},
   "source": [
    "# Estructura de condicionales en Python\n",
    "\n",
    "Uno de las cosas más poderosas en programación es controlar el flujo de ejecución, para esto utilizamos condicionales.\n",
    "\n",
    "Las condicionales son sentencias que devuelven un valor booleano (True, False)\n",
    "\n",
    "Podemos utilizar:\n",
    "\n",
    "Operadores relacionales:\n",
    "\n",
    "== Es igual\n",
    "\n",
    "!= Es diferente\n",
    "\n",
    "\\> Es mayor\n",
    "\n",
    "\\>= Es mayor o igual\n",
    "\n",
    "\\< Es menor\n",
    "\n",
    "\\<= Es menor o igual\n",
    "\n",
    "## Operadores lógicos:\n",
    "\n",
    "and\n",
    "\n",
    "or\n",
    "\n",
    "not"
   ]
  },
  {
   "cell_type": "code",
   "execution_count": 24,
   "metadata": {},
   "outputs": [
    {
     "name": "stdout",
     "output_type": "stream",
     "text": [
      "Ingresa tu edad: 5\n",
      "Holá Niño\n"
     ]
    }
   ],
   "source": [
    "def say_hello(age):\n",
    "    if age > 18:\n",
    "        print(\"Holas Señor\")\n",
    "    else:\n",
    "        print(\"Holá Niño\")\n",
    "if __name__ == \"__main__\":\n",
    "    age = say_hello(int(input(\"Ingresa tu edad: \")))\n"
   ]
  },
  {
   "cell_type": "code",
   "execution_count": 11,
   "metadata": {},
   "outputs": [
    {
     "name": "stdout",
     "output_type": "stream",
     "text": [
      "Por favor ingresa un numero: 2\n",
      "El numero $2 es primo\n"
     ]
    }
   ],
   "source": [
    "# -- coding: utf-8 --\n",
    "#pass #keyword que nos sirve para decirle a python que no genere error por una funcion no definida.\n",
    "    \n",
    "def run():\n",
    "    number = int(input(\"Por favor ingresa un numero: \"))\n",
    "    result = is_prime(number)\n",
    "    if result is True:\n",
    "        print(\"El numero ${} es primo\".format(number))\n",
    "    else:\n",
    "        print(\"El numero ${} No es primo\".format(number))\n",
    "\n",
    "def is_prime(number):\n",
    "    if number < 2:\n",
    "        return False\n",
    "    #elif number == 2:\n",
    "    #    return True\n",
    "    elif number > 2 and number % 2 == 0:\n",
    "        return False\n",
    "    else:\n",
    "        for i in range(3,number):\n",
    "            if number % i == 0 :\n",
    "                return False\n",
    "            \n",
    "    return True\n",
    "            \n",
    "            \n",
    "   \n",
    "if __name__ == \"__main__\":\n",
    "    run()"
   ]
  },
  {
   "cell_type": "code",
   "execution_count": 22,
   "metadata": {},
   "outputs": [
    {
     "name": "stdout",
     "output_type": "stream",
     "text": [
      "The Zen of Python, by Tim Peters\n",
      "\n",
      "Beautiful is better than ugly.\n",
      "Explicit is better than implicit.\n",
      "Simple is better than complex.\n",
      "Complex is better than complicated.\n",
      "Flat is better than nested.\n",
      "Sparse is better than dense.\n",
      "Readability counts.\n",
      "Special cases aren't special enough to break the rules.\n",
      "Although practicality beats purity.\n",
      "Errors should never pass silently.\n",
      "Unless explicitly silenced.\n",
      "In the face of ambiguity, refuse the temptation to guess.\n",
      "There should be one-- and preferably only one --obvious way to do it.\n",
      "Although that way may not be obvious at first unless you're Dutch.\n",
      "Now is better than never.\n",
      "Although never is often better than *right* now.\n",
      "If the implementation is hard to explain, it's a bad idea.\n",
      "If the implementation is easy to explain, it may be a good idea.\n",
      "Namespaces are one honking great idea -- let's do more of those!\n"
     ]
    }
   ],
   "source": [
    "import this"
   ]
  },
  {
   "cell_type": "markdown",
   "metadata": {},
   "source": [
    "# Comparación de strings y unicode\n",
    "\n",
    "Los strings tienen una característica muy importante: son inmutables, esto quiere decir que no se pueden cambiar después de que se han declarado.\n",
    "\n",
    "Si quieres modificar el texto de un string debes definir un nuevo string y modificarlo usando funciones como slice.\n",
    "\n",
    "Comparación de strings\n",
    "\n",
    "Se pueden realizar operaciones con strings, por ejemplo comparar si son iguales o mayores o menores.\n",
    "\n",
    "Diferencia entre ASCII y Unicode\n",
    "\n",
    "Los caracteres también son números, para esto existen estándares que asignan un número a cada carácter, para generar un estándar se creó el ASCII pero esta solo toma en cuenta los caracteres en inglés, para dar soporte a más lenguajes se crea UNICODE.\n",
    "\n",
    "Python codifica en ASCII por default, para cambiarlo por UNICODE debemos colocar u antes del string.\n",
    "\n"
   ]
  },
  {
   "cell_type": "markdown",
   "metadata": {},
   "source": [
    "# Factorial de un número con recursión\n",
    "En éste video hablaremos sobre la recursión, una función está siendo recursiva cuando dentro de el bloque de instrucciones que la conforma se usa a sí misma.\n",
    "\n",
    "El concepto puede sonar complicado pero es muy común su uso, por ejemplo cuando haces el calculo del factorial de un número lo haces con una función recursiva:\n",
    "\n",
    "El factorial de un número es el número multiplicado por los números antes de el, por ejemplo\n",
    "\n",
    "5! es 5*4*3*2*1\n",
    "\n",
    "Esto se puede expresar como\n",
    "5*fac(4)\n",
    "\n",
    "4*fac(3)\n",
    "\n",
    "3*fac(2)\n",
    "\n",
    "2*fac(1)\n",
    "\n",
    "1*fac(0)\n",
    "\n",
    "Nota importante: Cuándo estes trabajando con recursividad siempre debes pensar en el caso base, es decir debes definir el momento en el que la función dejará de llamarse a si misma, para que no hagas un loop infinito, por ejemplo en el caso del factorial terminas la ejecución cuando llegas a cero."
   ]
  },
  {
   "cell_type": "code",
   "execution_count": 29,
   "metadata": {},
   "outputs": [
    {
     "name": "stdout",
     "output_type": "stream",
     "text": [
      "Ingrese el numero deseado: 4\n",
      "El factorial del numero 4, es : 24\n"
     ]
    }
   ],
   "source": [
    "def factorial(numero):\n",
    "    \n",
    "    if numero == 0:\n",
    "        return 1\n",
    "    \n",
    "    return numero * factorial(numero -1)\n",
    "    \n",
    "\n",
    "if __name__ == \"__main__\":\n",
    "    numero = int(input(\"Ingrese el numero deseado: \"))\n",
    "    print(\"El factorial del numero {}, es : {}\".format(numero,factorial(numero)))"
   ]
  },
  {
   "cell_type": "markdown",
   "metadata": {},
   "source": [
    "# Manejo de strings en Python\n",
    "Un string es una secuencia de caracteres, donde cada caracter tiene un indice que inicia en cero, por ejemplo\n",
    "my_string = 'platzi'\n",
    "\n",
    "my_string[0] # p\n",
    "\n",
    "my_string[1] # l\n",
    "\n",
    "my_string[2] # a\n",
    "\n",
    "my_string[3] # t\n",
    "\n",
    "my_string[4] # z\n",
    "\n",
    "my_string[5] # i\n",
    "\n",
    "Para conocer la longitud de un string podemos usar la funcion len\n",
    "\n",
    "len(my_string) # 6\n",
    "\n",
    "Los string tienen algunos métodos útiles cómo:\n",
    "\n",
    "my_string.upper() # retorna el string en máyusculas\n",
    "\n",
    "my_string.lower() # retorna el string en minúscula\n",
    "\n",
    "my_string.find('F') # retorna el índice donde se encuentra"
   ]
  },
  {
   "cell_type": "markdown",
   "metadata": {},
   "source": [
    "# Separar cadenas de texto en Python\n",
    "La función slice de python nos permite separar los strings en **substrings** generando nuevas secuencias.\n",
    "\n",
    "my_string = 'platzi'\n",
    "\n",
    "my_string[1:3] # la\n",
    "\n",
    "my_string[1:] # latzi\n",
    "\n",
    "my_string[1:6:2] # lti\n",
    "\n",
    "my_string[::-1] # iztalp"
   ]
  },
  {
   "cell_type": "code",
   "execution_count": 1,
   "metadata": {},
   "outputs": [],
   "source": [
    "my_string = 'platzi'"
   ]
  },
  {
   "cell_type": "code",
   "execution_count": 6,
   "metadata": {},
   "outputs": [
    {
     "data": {
      "text/plain": [
       "'iztalp'"
      ]
     },
     "execution_count": 6,
     "metadata": {},
     "output_type": "execute_result"
    }
   ],
   "source": [
    "my_string[::-1]"
   ]
  },
  {
   "cell_type": "markdown",
   "metadata": {},
   "source": [
    "# Ciclos en Python con for\n",
    "Cuando necesitamos realizar operaciones sobre una serie de datos podemos utilizar iteraciones.\n",
    "\n",
    "## Función range\n",
    "\n",
    "La función range nos permite generar un rango a partir de un número\n",
    "\n",
    "range(5) # [0,1,2,3,4]\n",
    "\n",
    "range(5, 40, 3)\n",
    "\n",
    "## Iteraciones con for\n",
    "\n",
    "for nos permite recorrer un arreglo, asignando cada valor a una variable que decidas\n",
    "for i in range(5):\n",
    "    print(i)\n",
    "\n",
    "Podemos operar los valores usando también condiciones, en este caso solo queremos elevar al cuadrado, los valores que sean divisibles por 3\n",
    "\n",
    "for i in range(30):\n",
    "\n",
    "  if i % 3 != 0:\n",
    "    continue\n",
    "    \n",
    "  else:\n",
    "    print(i**2)\n",
    "    \n",
    "La palabra reservada **continue** permite saltar a la siguiente iteración del ciclo y **break** permite salirse del ciclo."
   ]
  },
  {
   "cell_type": "code",
   "execution_count": 21,
   "metadata": {},
   "outputs": [
    {
     "data": {
      "text/plain": [
       "[1, 4, 7, 10, 13, 16, 19]"
      ]
     },
     "execution_count": 21,
     "metadata": {},
     "output_type": "execute_result"
    }
   ],
   "source": [
    "list(range(1,20,3))"
   ]
  },
  {
   "cell_type": "code",
   "execution_count": 16,
   "metadata": {},
   "outputs": [
    {
     "name": "stdout",
     "output_type": "stream",
     "text": [
      "0\n",
      "9\n",
      "36\n",
      "81\n",
      "144\n",
      "225\n",
      "324\n",
      "441\n",
      "576\n",
      "729\n"
     ]
    }
   ],
   "source": [
    "for i in range(30):\n",
    "    if i % 3 != 0:\n",
    "        continue\n",
    "    else:\n",
    "        print(i**2)"
   ]
  },
  {
   "cell_type": "code",
   "execution_count": 17,
   "metadata": {},
   "outputs": [
    {
     "name": "stdout",
     "output_type": "stream",
     "text": [
      "J\n",
      "h\n",
      "o\n",
      "n\n",
      " \n",
      "R\n",
      "a\n",
      "u\n",
      "l\n",
      " \n",
      "P\n",
      "e\n",
      "r\n",
      "e\n",
      "z\n"
     ]
    }
   ],
   "source": [
    "string=\"Jhon Raul Perez\"\n",
    "for letra in string:\n",
    "    print(letra)"
   ]
  },
  {
   "cell_type": "code",
   "execution_count": 26,
   "metadata": {},
   "outputs": [],
   "source": [
    "def sleep_in(weekday, vacation):\n",
    "  if weekday != True or vacation==True :\n",
    "    return True\n",
    "  else:\n",
    "    return False"
   ]
  },
  {
   "cell_type": "markdown",
   "metadata": {},
   "source": [
    "# Ciclos en Python con while\n",
    "\n",
    "Otra forma de hacer iteraciones es con el while loop, éste ciclo se ejecuta MIENTRAS la condición se evalúe como verdadera, el ciclo termina cuando la evaluación resulta en falso.\n",
    "En este tipo de ciclo es muy importante definir la condición de parada, si no el ciclo puede ejecutarse hasta el infinito y consumir todos los recursos de la maquina.\n",
    "\n"
   ]
  },
  {
   "cell_type": "code",
   "execution_count": 4,
   "metadata": {},
   "outputs": [
    {
     "name": "stdout",
     "output_type": "stream",
     "text": [
      "10\n",
      "9\n",
      "8\n",
      "7\n",
      "6\n",
      "5\n",
      "4\n",
      "3\n",
      "2\n",
      "1\n"
     ]
    }
   ],
   "source": [
    "i=10\n",
    "while i > 0:\n",
    "    print(i)\n",
    "    i-=1\n"
   ]
  },
  {
   "cell_type": "code",
   "execution_count": 8,
   "metadata": {},
   "outputs": [
    {
     "name": "stdout",
     "output_type": "stream",
     "text": [
      "Intenta un numero: 3\n",
      "El numero es mas grande\n",
      "Intenta un numero: 7\n",
      "El numero es mas grande\n",
      "Intenta un numero: 12\n",
      "El numero es mas pequeño\n",
      "Intenta un numero: 11\n",
      "Felicidades encontraste el numero\n"
     ]
    }
   ],
   "source": [
    "import random\n",
    "\n",
    "def run():\n",
    "    number_found=False\n",
    "    randon_number =  random.randint(0,20)\n",
    "    \n",
    "    while not number_found:\n",
    "        number = int(input(\"Intenta un numero: \"))\n",
    "        \n",
    "        if number == randon_number:\n",
    "            print(\"Felicidades encontraste el numero\")\n",
    "            number_found = True\n",
    "        elif number > randon_number:\n",
    "            print(\"El numero es mas pequeño\")\n",
    "        else:\n",
    "            print(\"El numero es mas grande\")\n",
    "            \n",
    "    \n",
    "\n",
    "if __name__ == \"__main__\":\n",
    "    run()\n",
    "    "
   ]
  },
  {
   "cell_type": "code",
   "execution_count": 15,
   "metadata": {},
   "outputs": [
    {
     "name": "stdout",
     "output_type": "stream",
     "text": [
      "Digite la palabra: reconocer\n",
      "La palabra reconocer es palindromo\n"
     ]
    }
   ],
   "source": [
    "def palindromo():\n",
    "    palabra = input(\"Digite la palabra: \")\n",
    "    \n",
    "    palabraReves=construirPalabraReves(palabra)\n",
    "    #palabraReves=construirPalabraReves2(palabra)\n",
    "    \n",
    "    validarPalindromo(palabra,palabraReves)\n",
    "    \n",
    "\n",
    "def validarPalindromo(palabra,palabraReves):\n",
    "    if(palabraReves==palabra):\n",
    "        print(\"La palabra {} es palindromo\".format(palabra))\n",
    "    else:\n",
    "        print(\"La palabra {} no es palindromo {}\".format(palabra,palabraReves))\n",
    "\n",
    "\n",
    "        \n",
    "def construirPalabraReves2(palabra):\n",
    "    palabra_reves=palabra[::-1]\n",
    "    return palabra_reves\n",
    "\n",
    "\n",
    "def construirPalabraReves(palabra):\n",
    "    \n",
    "    letras_reves = []\n",
    "    \n",
    "    for letras in palabra:\n",
    "        letras_reves.insert(0,letras)\n",
    "    \n",
    "    palabra_reves = \"\".join(letras_reves)\n",
    "    \n",
    "    return palabra_reves\n",
    "    \n",
    "    \n",
    "    \n",
    "\n",
    "if __name__ == \"__main__\":\n",
    "    palindromo()"
   ]
  },
  {
   "cell_type": "markdown",
   "metadata": {},
   "source": [
    "# Introducción a las listas en Python\n",
    "\n",
    "Ya vimos que los strings son una secuencia de caracteres, cuando hablamos de listas podemos hablar de secuencias de cualquier cosa, por ejemplo listas de números, listas de strings, listas de objetos mas complejos con tipos propios etc.\n",
    "\n",
    "Una lista es una secuencia de elementos, para crearlas usamos **corchetes [] o con la función list**, por ejemplo:\n",
    "\n",
    "Las listas se pueden acceder a través de indices, éstos indices inician en cero (0)\n",
    "\n",
    "amigos = list()\n",
    "\n",
    "numeros = [1,2,3,4,5]\n",
    "\n",
    "Las listas son mutables, para añadir elementos a una lista podemos utilizar el método append\n",
    "\n",
    "Las listas se pueden acceder con indices, que inician en cero.\n",
    "\n",
    "amigos=list()\n",
    "\n",
    "amigos.append('Pedro')\n",
    "\n",
    "amigos[0]\n",
    "\n",
    "'Pedro'\n",
    "\n",
    "amigos.append('Enrique')\n",
    "\n",
    "amigos[1]\n",
    "\n",
    "'Enrique'"
   ]
  },
  {
   "cell_type": "code",
   "execution_count": 2,
   "metadata": {},
   "outputs": [],
   "source": [
    "amigos = list()\n",
    "#amigos = []"
   ]
  },
  {
   "cell_type": "code",
   "execution_count": 5,
   "metadata": {},
   "outputs": [],
   "source": [
    "amigos.append(\"Pedro\") #Adiciona el elemento a la ultima posicion\n",
    "amigos.insert(0,\"Juan\")"
   ]
  },
  {
   "cell_type": "code",
   "execution_count": 6,
   "metadata": {},
   "outputs": [
    {
     "data": {
      "text/plain": [
       "['Juan', 'Pedro', 'Pedro']"
      ]
     },
     "execution_count": 6,
     "metadata": {},
     "output_type": "execute_result"
    }
   ],
   "source": [
    "amigos"
   ]
  },
  {
   "cell_type": "code",
   "execution_count": 12,
   "metadata": {},
   "outputs": [
    {
     "name": "stdout",
     "output_type": "stream",
     "text": [
      "La temperatura promedio es: 22.571428571428573\n"
     ]
    }
   ],
   "source": [
    "def promedio_temp(temperatura):\n",
    "    suma_temperatura=0\n",
    "    \n",
    "    for temp in temperatura:\n",
    "        suma_temperatura += temp\n",
    "        \n",
    "    return suma_temperatura/len(temperatura)\n",
    "        \n",
    "\n",
    "\n",
    "if __name__ == \"__main__\":\n",
    "    temperatura=[21,24,24,22,20,23,24]\n",
    "    \n",
    "    promedio=promedio_temp(temperatura)\n",
    "\n",
    "    print(\"La temperatura promedio es: {}\".format(promedio))\n"
   ]
  },
  {
   "cell_type": "code",
   "execution_count": 18,
   "metadata": {},
   "outputs": [
    {
     "data": {
      "text/plain": [
       "[1, 2, 3, 4, 4, 6, 7]"
      ]
     },
     "execution_count": 18,
     "metadata": {},
     "output_type": "execute_result"
    }
   ],
   "source": [
    "lista1=[1]\n",
    "lista2=[2,3,7,4,6,4]\n",
    "lista3=lista2+lista1\n",
    "lista3.sort()\n",
    "lista3"
   ]
  },
  {
   "cell_type": "code",
   "execution_count": 3,
   "metadata": {},
   "outputs": [
    {
     "data": {
      "text/plain": [
       "[1, 3, 2]"
      ]
     },
     "execution_count": 3,
     "metadata": {},
     "output_type": "execute_result"
    }
   ],
   "source": [
    "lista3[::-1]"
   ]
  },
  {
   "cell_type": "code",
   "execution_count": null,
   "metadata": {},
   "outputs": [],
   "source": [
    "#del lista3[2]\n",
    "lista3"
   ]
  },
  {
   "cell_type": "code",
   "execution_count": 20,
   "metadata": {},
   "outputs": [
    {
     "data": {
      "text/plain": [
       "3"
      ]
     },
     "execution_count": 20,
     "metadata": {},
     "output_type": "execute_result"
    }
   ],
   "source": [
    "lista3.pop()"
   ]
  },
  {
   "cell_type": "code",
   "execution_count": 21,
   "metadata": {},
   "outputs": [
    {
     "data": {
      "text/plain": [
       "[2]"
      ]
     },
     "execution_count": 21,
     "metadata": {},
     "output_type": "execute_result"
    }
   ],
   "source": [
    "lista3"
   ]
  },
  {
   "cell_type": "markdown",
   "metadata": {},
   "source": [
    "# Juego de Ahorcado"
   ]
  },
  {
   "cell_type": "markdown",
   "metadata": {},
   "source": [
    "## Interfaz"
   ]
  },
  {
   "cell_type": "code",
   "execution_count": 1,
   "metadata": {},
   "outputs": [],
   "source": [
    "IMAGENES=['''\n",
    " +---+\n",
    " |   |\n",
    "     |\n",
    "     |\n",
    "     |\n",
    "     |\n",
    "     ========\n",
    "''','''\n",
    " +---+\n",
    " |   |\n",
    " O   |\n",
    "     |\n",
    "     |\n",
    "     |\n",
    "     ========\n",
    "''','''\n",
    " +---+\n",
    " |   |\n",
    " O   |\n",
    " |   |\n",
    "     |\n",
    "     |\n",
    "     ========\n",
    "''','''\n",
    " +---+\n",
    " |   |\n",
    " O   |\n",
    "/|   |\n",
    "     |\n",
    "     |\n",
    "    ========\n",
    "''','''\n",
    " +---+\n",
    " |   |\n",
    " O   |\n",
    "/|\\  |\n",
    "     |\n",
    "     |\n",
    "    ========\n",
    "''','''\n",
    " +---+\n",
    " |   |\n",
    " O   |\n",
    "/|\\  |\n",
    " |   |\n",
    "     |\n",
    "    ========\n",
    "''','''\n",
    " +---+\n",
    " |   |\n",
    " O   |\n",
    "/|\\  |\n",
    " |   |\n",
    "/    |\n",
    "    ========\n",
    "''','''\n",
    " +---+\n",
    " |   |\n",
    " O   |\n",
    "/|\\  |\n",
    " |   |\n",
    "/ \\  |\n",
    "    ========\n",
    "''']"
   ]
  },
  {
   "cell_type": "code",
   "execution_count": 2,
   "metadata": {},
   "outputs": [],
   "source": [
    "PALABRAS=[\n",
    "    \"lavadora\",\n",
    "    \"secadora\",\n",
    "    \"sofa\",\n",
    "    \"gobiernos\",\n",
    "    \"diputado\",\n",
    "    \"democracia\",\n",
    "    \"computador\",\n",
    "    \"teclado\"\n",
    "]"
   ]
  },
  {
   "cell_type": "code",
   "execution_count": 3,
   "metadata": {},
   "outputs": [
    {
     "name": "stdout",
     "output_type": "stream",
     "text": [
      "B I E N V E N I D O S A A H O R C A D O S\n",
      "\n",
      " +---+\n",
      " |   |\n",
      "     |\n",
      "     |\n",
      "     |\n",
      "     |\n",
      "     ========\n",
      "\n",
      "\n",
      "['_', '_', '_', '_', '_', '_', '_', '_', '_', '_']\n",
      "\n",
      "Letras Elegidas: []\n",
      "--- * --- * --- * --- * --- * --- * --- * \n",
      "Escoge una letra: a\n",
      "\n",
      " +---+\n",
      " |   |\n",
      "     |\n",
      "     |\n",
      "     |\n",
      "     |\n",
      "     ========\n",
      "\n",
      "\n",
      "['_', '_', '_', '_', '_', '_', 'a', '_', '_', '_']\n",
      "\n",
      "Letras Elegidas: ['a']\n",
      "--- * --- * --- * --- * --- * --- * --- * \n",
      "Escoge una letra: e\n",
      "\n",
      " +---+\n",
      " |   |\n",
      " O   |\n",
      "     |\n",
      "     |\n",
      "     |\n",
      "     ========\n",
      "\n",
      "\n",
      "['_', '_', '_', '_', '_', '_', 'a', '_', '_', '_']\n",
      "\n",
      "Letras Elegidas: ['a', 'e']\n",
      "--- * --- * --- * --- * --- * --- * --- * \n",
      "Escoge una letra: c\n",
      "\n",
      " +---+\n",
      " |   |\n",
      " O   |\n",
      "     |\n",
      "     |\n",
      "     |\n",
      "     ========\n",
      "\n",
      "\n",
      "['c', '_', '_', '_', '_', '_', 'a', '_', '_', '_']\n",
      "\n",
      "Letras Elegidas: ['a', 'e', 'c']\n",
      "--- * --- * --- * --- * --- * --- * --- * \n",
      "Escoge una letra: o\n",
      "\n",
      " +---+\n",
      " |   |\n",
      " O   |\n",
      "     |\n",
      "     |\n",
      "     |\n",
      "     ========\n",
      "\n",
      "\n",
      "['c', 'o', '_', '_', '_', '_', 'a', '_', 'o', '_']\n",
      "\n",
      "Letras Elegidas: ['a', 'e', 'c', 'o']\n",
      "--- * --- * --- * --- * --- * --- * --- * \n",
      "Escoge una letra: m\n",
      "\n",
      " +---+\n",
      " |   |\n",
      " O   |\n",
      "     |\n",
      "     |\n",
      "     |\n",
      "     ========\n",
      "\n",
      "\n",
      "['c', 'o', 'm', '_', '_', '_', 'a', '_', 'o', '_']\n",
      "\n",
      "Letras Elegidas: ['a', 'e', 'c', 'o', 'm']\n",
      "--- * --- * --- * --- * --- * --- * --- * \n",
      "Escoge una letra: p\n",
      "\n",
      " +---+\n",
      " |   |\n",
      " O   |\n",
      "     |\n",
      "     |\n",
      "     |\n",
      "     ========\n",
      "\n",
      "\n",
      "['c', 'o', 'm', 'p', '_', '_', 'a', '_', 'o', '_']\n",
      "\n",
      "Letras Elegidas: ['a', 'e', 'c', 'o', 'm', 'p']\n",
      "--- * --- * --- * --- * --- * --- * --- * \n",
      "Escoge una letra: u\n",
      "\n",
      " +---+\n",
      " |   |\n",
      " O   |\n",
      "     |\n",
      "     |\n",
      "     |\n",
      "     ========\n",
      "\n",
      "\n",
      "['c', 'o', 'm', 'p', 'u', '_', 'a', '_', 'o', '_']\n",
      "\n",
      "Letras Elegidas: ['a', 'e', 'c', 'o', 'm', 'p', 'u']\n",
      "--- * --- * --- * --- * --- * --- * --- * \n",
      "Escoge una letra: t\n",
      "\n",
      " +---+\n",
      " |   |\n",
      " O   |\n",
      "     |\n",
      "     |\n",
      "     |\n",
      "     ========\n",
      "\n",
      "\n",
      "['c', 'o', 'm', 'p', 'u', 't', 'a', '_', 'o', '_']\n",
      "\n",
      "Letras Elegidas: ['a', 'e', 'c', 'o', 'm', 'p', 'u', 't']\n",
      "--- * --- * --- * --- * --- * --- * --- * \n",
      "Escoge una letra: d\n",
      "\n",
      " +---+\n",
      " |   |\n",
      " O   |\n",
      "     |\n",
      "     |\n",
      "     |\n",
      "     ========\n",
      "\n",
      "\n",
      "['c', 'o', 'm', 'p', 'u', 't', 'a', 'd', 'o', '_']\n",
      "\n",
      "Letras Elegidas: ['a', 'e', 'c', 'o', 'm', 'p', 'u', 't', 'd']\n",
      "--- * --- * --- * --- * --- * --- * --- * \n",
      "Escoge una letra: r\n",
      "¡GANASTE! Felicidades. La palabra es: computador\n",
      " \n"
     ]
    }
   ],
   "source": [
    "import random\n",
    "\n",
    "def run():\n",
    "    palabra=aleatoria_palabra()\n",
    "    palabra_oculta = ['_'] * len(palabra)\n",
    "    letras_elegidas = []\n",
    "    intentos=0\n",
    "    \n",
    "    \n",
    "    while True:\n",
    "        mostrar_tablero(palabra_oculta,intentos,letras_elegidas)\n",
    "        letra_elegida = input(\"Escoge una letra: \")\n",
    "        \n",
    "        letras_elegidas.append(letra_elegida)\n",
    "        \n",
    "        index_letras=[]\n",
    "        \n",
    "        for idx in range(len(palabra)):\n",
    "            if palabra[idx]==letra_elegida:\n",
    "                index_letras.append(idx)\n",
    "        \n",
    "        if len(index_letras)==0:\n",
    "            intentos+=1\n",
    "            if verificarSiPerdio(intentos,palabra_oculta,palabra,letras_elegidas):\n",
    "                break\n",
    "            \n",
    "        else:\n",
    "            for idx in index_letras:\n",
    "                palabra_oculta[idx]=letra_elegida\n",
    "            \n",
    "        index_letras=[]\n",
    "        \n",
    "        if verificarSiGano(palabra_oculta,palabra):\n",
    "            break\n",
    "\n",
    "        \n",
    "def verificarSiPerdio(intentos,palabra_oculta,palabra,letras_elegidas):\n",
    "    if intentos==7:\n",
    "        mostrar_tablero(palabra_oculta,intentos,letras_elegidas)\n",
    "        print(\" \")\n",
    "        print(\"¡PERDISTE!, la palabra correcta era: {}\".format(palabra))\n",
    "        return True\n",
    "    \n",
    "\n",
    "def verificarSiGano(palabra_oculta,palabra):\n",
    "    if \"\".join(palabra_oculta)==palabra:\n",
    "        print(\"¡GANASTE! Felicidades. La palabra es: {}\".format(palabra))\n",
    "        print(\" \")\n",
    "        return True\n",
    "    \n",
    "        \n",
    "        '''try:\n",
    "            palabra_oculta.index(\"_\")\n",
    "        except ValueError:\n",
    "            print(\"¡GANASTE! Felicidades. La palabra es: {}\".format(palabra))\n",
    "            print(\" \")\n",
    "            break\n",
    "        '''    \n",
    "                \n",
    "    \n",
    "def aleatoria_palabra():\n",
    "    idx = random.randint(0,len(PALABRAS)-1)\n",
    "    return PALABRAS[idx]\n",
    "\n",
    "def mostrar_tablero(palabra_oculta,intentos,letras_elegidas):\n",
    "    print(IMAGENES[intentos])\n",
    "    print(\"\")\n",
    "    print(palabra_oculta)\n",
    "    print(\"\")\n",
    "    print(\"Letras Elegidas: {}\".format(letras_elegidas))\n",
    "    print(\"--- * --- * --- * --- * --- * --- * --- * \")\n",
    "    \n",
    "\n",
    "if __name__ == \"__main__\":\n",
    "    print(\"B I E N V E N I D O S A A H O R C A D O S\")\n",
    "    \n",
    "    run()\n",
    "    "
   ]
  },
  {
   "cell_type": "markdown",
   "metadata": {},
   "source": [
    "# Qué es una búsqueda binaria\n",
    "\n",
    "Los algoritmos son una serie de instrucciones que nos llevan a un resultado, por ejemplo que tal si queremos saber si un número se encuentra en una lista.\n",
    "\n",
    "Una forma es buscar un ítem tras otro, pero sí la lista es muy larga esta forma no es la mas eficiente, una forma mas eficiente de solucionar éste problema es usar una búsqueda binaria.\n",
    "\n",
    "Con el algoritmo de búsqueda binaria partimos de la **lista ordenada**, nosotros sabemos que hay números mayores y menores que el numero que estamos buscando.\n",
    "\n",
    "Seleccionamos un numero aleatorio para dividir la lista, puedes escoger cualquier número, en éste caso sumamos el primer y el último indice de la lista, los sumamos y dividimos en dos (por eso se llama binario), luego comparamos el número que esta en el indice, de esta manera ya eliminamos la mitad de las opciones. Podemos continuar dividiendo la lista y comparando hasta que lleguemos al resultado esperado."
   ]
  },
  {
   "cell_type": "code",
   "execution_count": 32,
   "metadata": {},
   "outputs": [
    {
     "name": "stdout",
     "output_type": "stream",
     "text": [
      "Ingrese el numero aleatorios a generar: 500\n",
      "Ingrese el el valor maximo del numero que desea generar aleatorio: 10000\n",
      "[148, 163, 179, 207, 209, 211, 215, 222, 335, 354, 374, 389, 431, 436, 440, 479, 482, 490, 491, 515, 527, 555, 559, 577, 586, 594, 615, 687, 705, 717, 721, 756, 774, 785, 793, 799, 813, 833, 855, 864, 879, 911, 928, 958, 962, 963, 982, 987, 1028, 1030, 1042, 1054, 1063, 1066, 1086, 1116, 1119, 1137, 1199, 1236, 1258, 1282, 1290, 1305, 1309, 1365, 1399, 1415, 1416, 1428, 1447, 1448, 1464, 1465, 1486, 1509, 1538, 1546, 1611, 1676, 1685, 1721, 1757, 1787, 1791, 1812, 1844, 1856, 1861, 1863, 1928, 1933, 1959, 1986, 1999, 2031, 2102, 2104, 2120, 2133, 2139, 2140, 2149, 2150, 2159, 2185, 2238, 2249, 2252, 2255, 2293, 2297, 2326, 2341, 2379, 2388, 2402, 2420, 2490, 2501, 2519, 2534, 2623, 2633, 2655, 2682, 2686, 2726, 2782, 2804, 2819, 2828, 2842, 2854, 2875, 2955, 2984, 2987, 2998, 3007, 3011, 3013, 3020, 3022, 3052, 3073, 3075, 3099, 3160, 3165, 3171, 3179, 3219, 3231, 3233, 3292, 3304, 3311, 3315, 3327, 3346, 3374, 3377, 3427, 3430, 3448, 3469, 3495, 3514, 3530, 3539, 3543, 3557, 3605, 3656, 3665, 3675, 3726, 3768, 3793, 3799, 3854, 3855, 3936, 3980, 3990, 4009, 4022, 4079, 4080, 4089, 4198, 4210, 4228, 4234, 4236, 4240, 4266, 4270, 4276, 4293, 4317, 4344, 4352, 4386, 4389, 4394, 4436, 4463, 4472, 4490, 4501, 4522, 4534, 4536, 4544, 4545, 4551, 4599, 4606, 4610, 4620, 4633, 4635, 4659, 4662, 4707, 4711, 4755, 4765, 4774, 4834, 4872, 4900, 4922, 4934, 4964, 4966, 4969, 4971, 5004, 5012, 5037, 5047, 5058, 5075, 5089, 5138, 5156, 5170, 5177, 5187, 5261, 5282, 5332, 5350, 5375, 5393, 5399, 5412, 5418, 5485, 5522, 5579, 5594, 5616, 5622, 5643, 5644, 5688, 5769, 5777, 5818, 5860, 5889, 5895, 5917, 5919, 5945, 5953, 5956, 5960, 5982, 6009, 6015, 6019, 6022, 6025, 6050, 6076, 6104, 6114, 6126, 6166, 6178, 6209, 6210, 6213, 6221, 6234, 6254, 6256, 6260, 6267, 6269, 6275, 6292, 6333, 6341, 6352, 6367, 6371, 6389, 6401, 6409, 6416, 6456, 6483, 6559, 6624, 6629, 6675, 6698, 6703, 6727, 6737, 6756, 6757, 6777, 6789, 6825, 6841, 6849, 6851, 6865, 6894, 6903, 6915, 6937, 6961, 6966, 6971, 6980, 6994, 6999, 7001, 7007, 7012, 7022, 7030, 7093, 7108, 7117, 7126, 7128, 7151, 7198, 7237, 7251, 7284, 7287, 7349, 7368, 7388, 7400, 7404, 7409, 7421, 7431, 7437, 7441, 7478, 7521, 7529, 7537, 7554, 7560, 7578, 7591, 7608, 7630, 7643, 7686, 7691, 7800, 7807, 7822, 7825, 7826, 7835, 7844, 7849, 7875, 7890, 7893, 7909, 7937, 7961, 7994, 8000, 8039, 8060, 8080, 8098, 8120, 8136, 8147, 8151, 8152, 8173, 8198, 8205, 8239, 8265, 8269, 8275, 8294, 8310, 8319, 8348, 8349, 8367, 8419, 8478, 8489, 8490, 8539, 8552, 8562, 8608, 8657, 8664, 8692, 8711, 8727, 8735, 8760, 8775, 8785, 8807, 8809, 8893, 8895, 8922, 8924, 8945, 8960, 8961, 9000, 9041, 9062, 9070, 9102, 9122, 9135, 9142, 9152, 9153, 9193, 9201, 9212, 9247, 9260, 9306, 9344, 9347, 9377, 9443, 9460, 9476, 9515, 9524, 9532, 9541, 9559, 9566, 9573, 9575, 9579, 9591, 9603, 9687, 9780, 9786, 9828, 9832, 9840, 9843, 9852, 9857, 9865, 9900, 9908, 9914, 9942, 9960, 9961, 9971, 9977, 9983]\n",
      "Ingrese el numero que desee encontrar: 5895\n",
      "El numero 5895 esta en la lista\n"
     ]
    }
   ],
   "source": [
    "import random\n",
    "\n",
    "def busquedaBinaria(listaDeNumeros,numeroBuscar):\n",
    "    numeroFinal = len(listaDeNumeros) - 1\n",
    "    numeroEncontrado = False\n",
    "    for numero in range(len(listaDeNumeros)):\n",
    "        numeroInicial = numero\n",
    "        numeroMitad = int((numeroInicial+numeroFinal)/2)\n",
    "        \n",
    "        if listaDeNumeros[numeroMitad]==numeroBuscar:\n",
    "            print(\"Se Encontro el Numero en la posicion {}: \".format(numeroMitad))\n",
    "            numeroEncontrado = True\n",
    "            break\n",
    "        elif numeroMitad < numeroBuscar:\n",
    "            numero = numeroMitad\n",
    "        else:\n",
    "            numeroFinal = numeroMitad\n",
    "        \n",
    "        \n",
    "    \n",
    "    if not numeroEncontrado:\n",
    "        print(\"Numero no Encontrado\")\n",
    "\n",
    "        \n",
    "def busquedaBinaria2(listaDeNumeros,numeroBuscar,indiceBajo,indiceAlto):\n",
    "    \n",
    "    if indiceBajo> indiceAlto:\n",
    "        return False\n",
    "    \n",
    "    indiceMedio = int((indiceBajo+indiceAlto)/2)\n",
    "    \n",
    "    if listaDeNumeros[indiceMedio] == numeroBuscar:\n",
    "        return True\n",
    "    elif listaDeNumeros[indiceMedio] > numeroBuscar:\n",
    "        return busquedaBinaria2(listaDeNumeros,numeroBuscar,indiceBajo, indiceMedio-1)\n",
    "    else:\n",
    "        return busquedaBinaria2(listaDeNumeros,numeroBuscar,indiceMedio+1,indiceAlto)\n",
    "    \n",
    "        \n",
    "        \n",
    "    \n",
    "    \n",
    "def generarListasNumericaAleatoria(numeroAleatoriosAGenerar,numeroLimite):\n",
    "    listaDeNumeros=[]\n",
    "    i=0\n",
    "    \n",
    "    while i < numeroAleatoriosAGenerar:\n",
    "        numero = random.randint(0,numeroLimite)\n",
    "        \n",
    "        try:\n",
    "            listaDeNumeros.index(numero)\n",
    "        except ValueError:\n",
    "            listaDeNumeros.append(numero)\n",
    "            i+=1\n",
    "        \n",
    "        \n",
    "    listaDeNumeros.sort()\n",
    "    \n",
    "    return listaDeNumeros\n",
    "        \n",
    "    \n",
    "    \n",
    "if __name__==\"__main__\":\n",
    "    \n",
    "    numeroAleatoriosAGenerar = int(input(\"Ingrese el numero aleatorios a generar: \"))\n",
    "    numeroLimite = int(input(\"Ingrese el el valor maximo del numero que desea generar aleatorio: \"))\n",
    "    listaDeNumeros=generarListasNumericaAleatoria(numeroAleatoriosAGenerar,numeroLimite)\n",
    "    print(listaDeNumeros)\n",
    "    \n",
    "    numeroBuscar = int(input(\"Ingrese el numero que desee encontrar: \"))\n",
    "    indiceBajo=0\n",
    "    indiceAlto=len(listaDeNumeros)-1\n",
    "    #busquedaBinaria(listaDeNumeros,numeroBuscar)\n",
    "    resultado=busquedaBinaria2(listaDeNumeros,numeroBuscar,indiceBajo,indiceAlto)\n",
    "    if resultado is True:\n",
    "        print(\"El numero {} esta en la lista\".format(numeroBuscar))\n",
    "    else:\n",
    "        print(\"El numero {} no esta en la lista\".format(numeroBuscar))"
   ]
  },
  {
   "cell_type": "markdown",
   "metadata": {},
   "source": [
    "# Diccionarios en Python\n",
    "\n",
    "Un diccionario es un mapa de valores, los cuales deben tener una llav. Los diccionarios se declaran con (llaves) {} o con la función dict()\n",
    "\n",
    "Cuando iteramos en diccionarios podemos hacerlo a través de las llaves, valores o ítems.\n",
    "\n",
    "### Declarar diccionarios\n",
    "\n",
    "mi_diccionario = {}\n",
    "\n",
    "mi_diccionario['primer_elemento'] = 'hola'\n",
    "\n",
    "mi_diccionario['segundo_elemento'] = 'adios'\n",
    "\n",
    "**Iterar en llaves**\n",
    "\n",
    "for key in calificaciones.keys():\n",
    "\n",
    "    print(key)\n",
    "\n",
    "**Iterar en valores**\n",
    "\n",
    "for value in calificaciones.values():\n",
    "\n",
    "    print(value)\n",
    "    \n",
    "**Iterar en ítems**\n",
    "\n",
    "for key, value in calificaciones.iteritems():\n",
    "\n",
    "    print('llave: {}, valor: {}'.format(key, value))"
   ]
  },
  {
   "cell_type": "code",
   "execution_count": 1,
   "metadata": {},
   "outputs": [
    {
     "data": {
      "text/plain": [
       "'Hola'"
      ]
     },
     "execution_count": 1,
     "metadata": {},
     "output_type": "execute_result"
    }
   ],
   "source": [
    "miDiccionario={}\n",
    "miDiccionario[\"1\"]=\"Hola\"\n",
    "miDiccionario[\"2\"]=\"Mundo\"\n",
    "\n",
    "miDiccionario[\"1\"]"
   ]
  },
  {
   "cell_type": "code",
   "execution_count": 6,
   "metadata": {},
   "outputs": [
    {
     "name": "stdout",
     "output_type": "stream",
     "text": [
      "1\n",
      "2\n",
      "Hola\n",
      "Mundo\n",
      "Llave: 1, valor:Hola\n",
      "Llave: 2, valor:Mundo\n"
     ]
    }
   ],
   "source": [
    "for key in miDiccionario.keys():\n",
    "    print(key)\n",
    "\n",
    "for valor in miDiccionario.values():\n",
    "    print(valor)\n",
    "    \n",
    "for key, valor in miDiccionario.items():\n",
    "    print(\"Llave: {}, valor:{}\".format(key,valor))"
   ]
  },
  {
   "cell_type": "code",
   "execution_count": 7,
   "metadata": {},
   "outputs": [
    {
     "name": "stdout",
     "output_type": "stream",
     "text": [
      "B I E N V E N I D O S\n",
      "C A L I F I C A C I O N E S\n",
      "\n",
      "Digite la calificacion de la materia MATEMATICAS : 4\n",
      "Digite la calificacion de la materia SISTEMAS : 5\n",
      "Digite la calificacion de la materia QUIMICA : 6\n",
      "Digite la calificacion de la materia ESPAÑOL : 8\n",
      "El promedio de las notas es: 5.75\n"
     ]
    }
   ],
   "source": [
    "MATERIAS = (\"MATEMATICAS\", \"SISTEMAS\", \"QUIMICA\", \"ESPAÑOL\")\n",
    "\n",
    "\n",
    "def calcularPromedio(calificaciones):\n",
    "    sumatoriaNotas = 0\n",
    "    for notas in calificaciones.values():\n",
    "        sumatoriaNotas += notas\n",
    "\n",
    "    promedio = sumatoriaNotas / len(calificaciones)\n",
    "    return promedio\n",
    "\n",
    "\n",
    "def ingresarCalificaciones():\n",
    "    print(\"B I E N V E N I D O S\")\n",
    "    print(\"C A L I F I C A C I O N E S\")\n",
    "    print(\"\")\n",
    "    calificaciones = {}\n",
    "\n",
    "    for materia in MATERIAS:\n",
    "        nota = int(input(\"Digite la calificacion de la materia {} : \".format(materia)))\n",
    "        calificaciones[materia] = nota\n",
    "    return calificaciones\n",
    "\n",
    "\n",
    "if __name__ == \"__main__\":\n",
    "    calificaciones = ingresarCalificaciones()\n",
    "    resultado = calcularPromedio(calificaciones)\n",
    "\n",
    "    print(\"El promedio de las notas es: {}\".format(resultado))\n",
    "    "
   ]
  },
  {
   "cell_type": "markdown",
   "metadata": {},
   "source": [
    "# Encriptar mensajes usando diccionarios\n",
    "\n",
    "Encriptar un mensaje es modificarlo de forma que si alguien que no conoce la clave intenta leerlo no va a poder hacerlo.\n",
    "La criptografía se usa desde hace miles de años, un gran ejemplo es cuándo Julio Cesar por ejemplo encriptaba mensajes simplemente modificando el orden de las letras.\n",
    "\n",
    "Hagamos un ejemplo de encriptación de mensajes sencillo, piensa en él más como un juego que como una forma real de cifrar mensajes ya que en este momento con los avances tecnológicos los computadores son tan veloces que lo descifrarían muy rápidamente.\n",
    "Hay API’s de cifrado de mensajes mas especializadas y complejas que podemos usar."
   ]
  },
  {
   "cell_type": "code",
   "execution_count": 8,
   "metadata": {},
   "outputs": [
    {
     "name": "stdout",
     "output_type": "stream",
     "text": [
      "M E N S A J E S  C I F R A D O S\n",
      "--- * --- * --- * --- * --- * --- * --- * ---\n",
      "\n",
      "                    Bienvenido a criptografía. ¿Qué deseas hacer?\n",
      "\n",
      "                    [c]ifrar mensaje\n",
      "                    [d]ecifrar mensaje\n",
      "                    [s]alir\n",
      "                    \n",
      "                \n",
      "Elije la opcion: s\n",
      "Salir\n"
     ]
    }
   ],
   "source": [
    "LLAVES = {\n",
    "    'a': 'w',\n",
    "    'b': 'E',\n",
    "    'c': 'x',\n",
    "    'd': '1',\n",
    "    'e': 'a',\n",
    "    'f': 't',\n",
    "    'g': '0',\n",
    "    'h': 'C',\n",
    "    'i': 'b',\n",
    "    'j': '!',\n",
    "    'k': 'z',\n",
    "    'l': '8',\n",
    "    'm': 'M',\n",
    "    'n': 'I',\n",
    "    'o': 'd',\n",
    "    'p': '.',\n",
    "    'q': 'U',\n",
    "    'r': 'Y',\n",
    "    's': 'i',\n",
    "    't': '3',\n",
    "    'u': ',',\n",
    "    'v': 'J',\n",
    "    'w': 'N',\n",
    "    'x': 'f',\n",
    "    'y': 'm',\n",
    "    'z': 'W',\n",
    "    'A': 'G',\n",
    "    'B': 'S',\n",
    "    'C': 'j',\n",
    "    'D': 'n',\n",
    "    'E': 's',\n",
    "    'F': 'Q',\n",
    "    'G': 'o',\n",
    "    'H': 'e',\n",
    "    'I': 'u',\n",
    "    'J': 'g',\n",
    "    'K': '2',\n",
    "    'L': '9',\n",
    "    'M': 'A',\n",
    "    'N': '5',\n",
    "    'O': '4',\n",
    "    'P': '?',\n",
    "    'Q': 'c',\n",
    "    'R': 'r',\n",
    "    'S': 'O',\n",
    "    'T': 'P',\n",
    "    'U': 'h',\n",
    "    'V': '6',\n",
    "    'W': 'q',\n",
    "    'X': 'H',\n",
    "    'Y': 'R',\n",
    "    'Z': 'l',\n",
    "    '0': 'k',\n",
    "    '1': '7',\n",
    "    '2': 'X',\n",
    "    '3': 'L',\n",
    "    '4': 'p',\n",
    "    '5': 'v',\n",
    "    '6': 'T',\n",
    "    '7': 'V',\n",
    "    '8': 'y',\n",
    "    '9': 'K',\n",
    "    '.': 'Z',\n",
    "    ',': 'D',\n",
    "    '?': 'F',\n",
    "    '!': 'B',\n",
    "    'á': '*',\n",
    "    'é': '/',\n",
    "    'í': '&',\n",
    "    'ó': '$',\n",
    "    'ú': '!',\n",
    "    '(': '-',\n",
    "    ')': '_',\n",
    "}\n",
    "\n",
    "\n",
    "def cifrarMensaje(mensaje):\n",
    "    palabras = mensaje.split(\" \")\n",
    "    mensajeCifrado = []\n",
    "\n",
    "    for palabra in palabras:\n",
    "        palabraCifrada = \"\"\n",
    "\n",
    "        for letra in palabra:\n",
    "            palabraCifrada += LLAVES[letra]\n",
    "\n",
    "        mensajeCifrado.append(palabraCifrada)\n",
    "\n",
    "    return \" \".join(mensajeCifrado)\n",
    "\n",
    "\n",
    "def descifrarMensaje(mensaje):\n",
    "    palabras = mensaje.split(\" \")\n",
    "    mensajeDescifrado = []\n",
    "\n",
    "    for palabra in palabras:\n",
    "        palabraDescifrada = \"\"\n",
    "\n",
    "        for letra in palabra:\n",
    "\n",
    "            for llave, valor in LLAVES.items():\n",
    "                if valor == letra:\n",
    "                    palabraDescifrada += llave\n",
    "\n",
    "        mensajeDescifrado.append(palabraDescifrada)\n",
    "\n",
    "    return \" \".join(mensajeDescifrado)\n",
    "\n",
    "\n",
    "def run():\n",
    "    while True:\n",
    "        print('''--- * --- * --- * --- * --- * --- * --- * ---\n",
    "\n",
    "                    Bienvenido a criptografía. ¿Qué deseas hacer?\n",
    "\n",
    "                    [c]ifrar mensaje\n",
    "                    [d]ecifrar mensaje\n",
    "                    [s]alir\n",
    "                    \n",
    "                ''')\n",
    "\n",
    "        accion = input(\"Elije la opcion: \")\n",
    "\n",
    "        if accion == \"c\":\n",
    "            mensaje = input(\"Escribe tu mensaje: \")\n",
    "            mensajeCifrado = cifrarMensaje(mensaje)\n",
    "            print(mensajeCifrado)\n",
    "        elif accion == \"d\":\n",
    "            mensaje = input(\"Escribe tu mensaje Cifrado: \")\n",
    "            mensajeDesencriptado = descifrarMensaje(mensaje)\n",
    "            print((mensajeDesencriptado))\n",
    "        elif accion == \"s\":\n",
    "            print(\"Salir\")\n",
    "            break\n",
    "        else:\n",
    "            print(\"Comando no encontrado\")\n",
    "\n",
    "\n",
    "if __name__ == \"__main__\":\n",
    "    print('M E N S A J E S  C I F R A D O S')\n",
    "    run()\n"
   ]
  },
  {
   "cell_type": "markdown",
   "metadata": {},
   "source": [
    "# Tuplas en Python\n",
    "\n",
    "Las tupas son secuencias de valores indexadas por enteros. Lo que las hace diferente de las listas es que estas son inmutables.\n",
    "\n",
    "Definir una tupla\n",
    "\n",
    "my_tupla = (1,2,3,4)"
   ]
  },
  {
   "cell_type": "code",
   "execution_count": 6,
   "metadata": {},
   "outputs": [
    {
     "data": {
      "text/plain": [
       "tuple"
      ]
     },
     "execution_count": 6,
     "metadata": {},
     "output_type": "execute_result"
    }
   ],
   "source": [
    "my_tupla=(1,2,3,4)\n",
    "my_tupla[3]\n",
    "myTupla2=(1,)\n",
    "type(myTupla2)\n"
   ]
  },
  {
   "cell_type": "markdown",
   "metadata": {},
   "source": [
    "# Se repite una letra en un string - Programa con tuplas\n",
    "\n",
    "Vamos a construir un programa que nos permita encontrar el primer carácter que no se repite en un string.\n",
    "\n",
    "Por ejemplo si tenemos el string mimamameama el primer carácter que no se repite es la i."
   ]
  },
  {
   "cell_type": "code",
   "execution_count": 7,
   "metadata": {},
   "outputs": [
    {
     "name": "stdout",
     "output_type": "stream",
     "text": [
      "Escribe una secuencia de caracteres: a\n",
      "El primer caracter no repetido es: a\n"
     ]
    }
   ],
   "source": [
    "\"\"\"\n",
    "\"abacabad\" c\n",
    "\"abacabaabacaba\" _\n",
    "\"abcdefghijklmnopqrstuvwxyziflskecznslkjfabe\" d\n",
    "\"bcccccccccccccyb\" y\n",
    "\"\"\"\n",
    "\n",
    "def first_not_repeating_char(char_sequence):\n",
    "    seen_letters = {}\n",
    "\n",
    "    for idx, letter in enumerate(char_sequence):\n",
    "        if letter not in seen_letters:\n",
    "            seen_letters[letter] = (idx, 1)\n",
    "        else:\n",
    "            seen_letters[letter] = (seen_letters[letter][0], seen_letters[letter][1] + 1)\n",
    "\n",
    "    final_letters = []\n",
    "    for key, value in seen_letters.items():\n",
    "        if value[1] == 1:\n",
    "            final_letters.append( (key, value[0]) )\n",
    "\n",
    "    not_repeated_letters = sorted(final_letters, key=lambda value: value[1])\n",
    "\n",
    "    if not_repeated_letters:\n",
    "        return not_repeated_letters[0][0]\n",
    "    else:\n",
    "        return '_'\n",
    "\n",
    "\n",
    "if __name__ == '__main__':\n",
    "    char_sequence = input('Escribe una secuencia de caracteres: ')\n",
    "\n",
    "    result = first_not_repeating_char(char_sequence)\n",
    "\n",
    "    if result == '_':\n",
    "        print('Todos los caracteres se repiten.')\n",
    "    else:\n",
    "        print('El primer caracter no repetido es: {}'.format(result))\n",
    "        "
   ]
  },
  {
   "cell_type": "code",
   "execution_count": 8,
   "metadata": {},
   "outputs": [
    {
     "name": "stdout",
     "output_type": "stream",
     "text": [
      "Digite la secuencia de caracteres: a\n",
      "La primera letra en no repetirse es: a\n"
     ]
    }
   ],
   "source": [
    "def convertirStringALista(secuenciaDeCaracteres):\n",
    "    listaDeCaracteres = []\n",
    "    for letra in secuenciaDeCaracteres[::1]:\n",
    "        listaDeCaracteres.append(letra)\n",
    "    return listaDeCaracteres\n",
    "\n",
    "\n",
    "def numeroDeRepeticionesDeLasLetras(listaDeCaracteres):\n",
    "    numeroDeRepeticionesLetra = {}\n",
    "    for letra in listaDeCaracteres:\n",
    "        if letra in numeroDeRepeticionesLetra:\n",
    "            continue\n",
    "\n",
    "        repeticionesPorLetra = 0\n",
    "        for index in range(len(listaDeCaracteres)):\n",
    "            if listaDeCaracteres[index] == letra:\n",
    "                repeticionesPorLetra += 1\n",
    "        numeroDeRepeticionesLetra[letra] = repeticionesPorLetra\n",
    "\n",
    "    return numeroDeRepeticionesLetra\n",
    "\n",
    "\n",
    "def primeraLetraEnNoRepetirse(cantidadDeCarateresPorLetra):\n",
    "\n",
    "    for llave,valor in cantidadDeCarateresPorLetra.items():\n",
    "        if valor==1:\n",
    "            return llave\n",
    "    return \"-\"\n",
    "\n",
    "\n",
    "\n",
    "\n",
    "if __name__ == \"__main__\":\n",
    "    secuenciaDeCaracteres = input(\"Digite la secuencia de caracteres: \")\n",
    "    listaDeCaracteres = convertirStringALista(secuenciaDeCaracteres)\n",
    "    numeroDeRepeticionesDeLasLetras(listaDeCaracteres)\n",
    "    resultado = primeraLetraEnNoRepetirse(numeroDeRepeticionesDeLasLetras(listaDeCaracteres))\n",
    "\n",
    "    if resultado != \"-\":\n",
    "        print(\"La primera letra en no repetirse es: {}\".format(resultado))\n",
    "    else:\n",
    "        print(\"No hay ninguna letra que no se repita\")\n",
    "\n"
   ]
  },
  {
   "cell_type": "code",
   "execution_count": 9,
   "metadata": {},
   "outputs": [
    {
     "name": "stdout",
     "output_type": "stream",
     "text": [
      "Escriba una secuencia de caracteres: a\n",
      "El primer caracter no repetido es a\n"
     ]
    }
   ],
   "source": [
    "def first_not_repeating_char(char_sequence):\n",
    "    word_not_repeat = []\n",
    "\n",
    "    for letter in char_sequence:\n",
    "        if char_sequence.count(letter) == 1:\n",
    "            word_not_repeat.append(letter)\n",
    "\n",
    "    if word_not_repeat == []:\n",
    "        return '_'\n",
    "    else:\n",
    "        return word_not_repeat[0]\n",
    "\n",
    "\n",
    "if __name__ == '__main__':\n",
    "\n",
    "    char_sequence = input('Escriba una secuencia de caracteres: ')\n",
    "\n",
    "    result = first_not_repeating_char(char_sequence)\n",
    "\n",
    "    if result == '_':\n",
    "        print('Todos los caracteres se repiten')\n",
    "\n",
    "    else:\n",
    "        print('El primer caracter no repetido es {}'.format(result))\n"
   ]
  },
  {
   "cell_type": "markdown",
   "metadata": {},
   "source": [
    "# Uso de sets en Python\n",
    "\n",
    "Los sets son muy similares a las listas, pero estas no permiten elementos repetidos.\n",
    "\n",
    "Cuando trabajamos con sets, podemos realizar las operaciones básicas de conjuntos, esto quiere decir que se puede calcular los valores de intercepción, diferencia, unión.\n",
    "\n",
    "Declarar sets\n",
    "\n",
    "s = set([1,2,3])\n",
    "\n",
    "t = set([3,4,5])\n",
    "\n",
    "### Operaciones con sets\n",
    "\n",
    "s.union(t) # set([1,2,3,4,5])\n",
    "\n",
    "s.intersection(t) # set([3])\n",
    "\n",
    "s.difference(t) # set([1,2])\n"
   ]
  },
  {
   "cell_type": "code",
   "execution_count": 2,
   "metadata": {},
   "outputs": [],
   "source": [
    "s=set([1,2,3])\n",
    "t=set([3,4,5])"
   ]
  },
  {
   "cell_type": "code",
   "execution_count": 3,
   "metadata": {},
   "outputs": [
    {
     "data": {
      "text/plain": [
       "{1, 2, 3, 4, 5}"
      ]
     },
     "execution_count": 3,
     "metadata": {},
     "output_type": "execute_result"
    }
   ],
   "source": [
    "s.union(t)"
   ]
  },
  {
   "cell_type": "code",
   "execution_count": 4,
   "metadata": {},
   "outputs": [
    {
     "data": {
      "text/plain": [
       "{3}"
      ]
     },
     "execution_count": 4,
     "metadata": {},
     "output_type": "execute_result"
    }
   ],
   "source": [
    "s.intersection(t)"
   ]
  },
  {
   "cell_type": "code",
   "execution_count": 5,
   "metadata": {},
   "outputs": [
    {
     "data": {
      "text/plain": [
       "{1, 2}"
      ]
     },
     "execution_count": 5,
     "metadata": {},
     "output_type": "execute_result"
    }
   ],
   "source": [
    "s.difference(t)"
   ]
  },
  {
   "cell_type": "code",
   "execution_count": 6,
   "metadata": {},
   "outputs": [
    {
     "data": {
      "text/plain": [
       "{4, 5}"
      ]
     },
     "execution_count": 6,
     "metadata": {},
     "output_type": "execute_result"
    }
   ],
   "source": [
    "t.difference(s)"
   ]
  },
  {
   "cell_type": "code",
   "execution_count": 8,
   "metadata": {},
   "outputs": [
    {
     "data": {
      "text/plain": [
       "True"
      ]
     },
     "execution_count": 8,
     "metadata": {},
     "output_type": "execute_result"
    }
   ],
   "source": [
    "1 in s #Key para identificar si un elemento esta en un set , es aplicable a las listas."
   ]
  },
  {
   "cell_type": "markdown",
   "metadata": {},
   "source": [
    "# Dictionary comprehension - list comprehension\n",
    "\n",
    "Dictionary comprehension y list comprehension nos permite escribir listas o diccionarios de forma más sencilla.\n",
    "\n",
    "Números pares\n",
    "\n",
    "pares = []\n",
    "\n",
    "for num in range(1,31):\n",
    "\n",
    "    if num % 2 == 0:\n",
    "\n",
    "        pares.append(num)\n",
    "\n",
    "Esto mismo lo podemos expresar con una list comprehension\n",
    "\n",
    "pares = [num for num in range(1,31) if num % 2 == 0]"
   ]
  },
  {
   "cell_type": "code",
   "execution_count": 12,
   "metadata": {},
   "outputs": [
    {
     "data": {
      "text/plain": [
       "[2, 4, 6, 8, 10, 12, 14, 16, 18, 20, 22, 24, 26, 28, 30]"
      ]
     },
     "execution_count": 12,
     "metadata": {},
     "output_type": "execute_result"
    }
   ],
   "source": [
    "pares = []\n",
    "for num in range(1,31):\n",
    "    if num % 2 == 0:\n",
    "        pares.append(num)\n",
    "pares"
   ]
  },
  {
   "cell_type": "code",
   "execution_count": 14,
   "metadata": {},
   "outputs": [
    {
     "data": {
      "text/plain": [
       "[2, 4, 6, 8, 10, 12, 14, 16, 18, 20, 22, 24, 26, 28, 30]"
      ]
     },
     "execution_count": 14,
     "metadata": {},
     "output_type": "execute_result"
    }
   ],
   "source": [
    "pares2 = [num for num in range(1,31) if num %2 == 0]\n",
    "pares2"
   ]
  },
  {
   "cell_type": "code",
   "execution_count": 15,
   "metadata": {},
   "outputs": [
    {
     "data": {
      "text/plain": [
       "{1: 1,\n",
       " 2: 4,\n",
       " 3: 9,\n",
       " 4: 16,\n",
       " 5: 25,\n",
       " 6: 36,\n",
       " 7: 49,\n",
       " 8: 64,\n",
       " 9: 81,\n",
       " 10: 100,\n",
       " 11: 121,\n",
       " 12: 144,\n",
       " 13: 169,\n",
       " 14: 196,\n",
       " 15: 225,\n",
       " 16: 256,\n",
       " 17: 289,\n",
       " 18: 324,\n",
       " 19: 361,\n",
       " 20: 400,\n",
       " 21: 441,\n",
       " 22: 484,\n",
       " 23: 529,\n",
       " 24: 576,\n",
       " 25: 625,\n",
       " 26: 676,\n",
       " 27: 729,\n",
       " 28: 784,\n",
       " 29: 841,\n",
       " 30: 900}"
      ]
     },
     "execution_count": 15,
     "metadata": {},
     "output_type": "execute_result"
    }
   ],
   "source": [
    "cuadrados={}\n",
    "for num in range (1,31):\n",
    "    cuadrados[num]=num**2\n",
    "cuadrados"
   ]
  },
  {
   "cell_type": "code",
   "execution_count": 16,
   "metadata": {},
   "outputs": [
    {
     "data": {
      "text/plain": [
       "{1: 1, 2: 4, 3: 9, 4: 16, 5: 25, 6: 36, 7: 49, 8: 64, 9: 81, 10: 100}"
      ]
     },
     "execution_count": 16,
     "metadata": {},
     "output_type": "execute_result"
    }
   ],
   "source": [
    "cuadrados2 ={ num:num**2 for num in range(1,11)}\n",
    "cuadrados2"
   ]
  },
  {
   "cell_type": "markdown",
   "metadata": {},
   "source": [
    "# Manejo de errores en Python\n",
    "\n",
    "Cuando el programa no sabe como hacer algo o se traba en un proceso va a arrojar un error.\n",
    "\n",
    "Es importante poder manejar estos errores y poder manejarlos, en python podemos capturar esos errores con **try y except.**\n",
    "\n",
    "En el bloque ***try*** pones el código que piense que puedes tener un error. (Bloque Obligatorio)\n",
    "\n",
    "En el bloque ***except*** pones código que se ejecuta en caso que SI haya error. (Bloque Obligatorio)\n",
    "\n",
    "En el bloque ***else*** pones código que se ejecuta en caso que NO haya error. (Bloque Opcional)\n",
    "\n",
    "En el bloque ***finally*** pones código que se ejecuta haya o no haya error. (Bloque Opcional)\n",
    "\n",
    "Ten en cuenta que cuando haya error, la siguiente línea que se ejecuta es la del except, es decir salta a ese bloque, sin terminar lo que faltaba del bloque try."
   ]
  },
  {
   "cell_type": "code",
   "execution_count": 1,
   "metadata": {},
   "outputs": [
    {
     "data": {
      "text/plain": [
       "'BaseException\\n +-- SystemExit\\n +-- KeyboardInterrupt\\n +-- GeneratorExit\\n +-- Exception\\n      +-- StopIteration\\n      +-- StopAsyncIteration\\n      +-- ArithmeticError\\n      |    +-- FloatingPointError\\n      |    +-- OverflowError\\n      |    +-- ZeroDivisionError\\n      +-- AssertionError\\n      +-- AttributeError\\n      +-- BufferError\\n      +-- EOFError\\n      +-- ImportError\\n      +-- LookupError\\n      |    +-- IndexError\\n      |    +-- KeyError\\n      +-- MemoryError\\n      +-- NameError\\n      |    +-- UnboundLocalError\\n      +-- OSError\\n      |    +-- BlockingIOError\\n      |    +-- ChildProcessError\\n      |    +-- ConnectionError\\n      |    |    +-- BrokenPipeError\\n      |    |    +-- ConnectionAbortedError\\n      |    |    +-- ConnectionRefusedError\\n      |    |    +-- ConnectionResetError\\n      |    +-- FileExistsError\\n      |    +-- FileNotFoundError\\n      |    +-- InterruptedError\\n      |    +-- IsADirectoryError\\n      |    +-- NotADirectoryError\\n      |    +-- PermissionError\\n      |    +-- ProcessLookupError\\n      |    +-- TimeoutError\\n      +-- ReferenceError\\n      +-- RuntimeError\\n      |    +-- NotImplementedError\\n      |    +-- RecursionError\\n      +-- SyntaxError\\n      |    +-- IndentationError\\n      |         +-- TabError\\n      +-- SystemError\\n      +-- TypeError\\n      +-- ValueError\\n      |    +-- UnicodeError\\n      |         +-- UnicodeDecodeError\\n      |         +-- UnicodeEncodeError\\n      |         +-- UnicodeTranslateError\\n      +-- Warning\\n           +-- DeprecationWarning\\n           +-- PendingDeprecationWarning\\n           +-- RuntimeWarning\\n           +-- SyntaxWarning\\n           +-- UserWarning\\n           +-- FutureWarning\\n           +-- ImportWarning\\n           +-- UnicodeWarning\\n           +-- BytesWarning\\n           +-- ResourceWarning\\n'"
      ]
     },
     "execution_count": 1,
     "metadata": {},
     "output_type": "execute_result"
    }
   ],
   "source": [
    "'''BaseException\n",
    " +-- SystemExit\n",
    " +-- KeyboardInterrupt\n",
    " +-- GeneratorExit\n",
    " +-- Exception\n",
    "      +-- StopIteration\n",
    "      +-- StopAsyncIteration\n",
    "      +-- ArithmeticError\n",
    "      |    +-- FloatingPointError\n",
    "      |    +-- OverflowError\n",
    "      |    +-- ZeroDivisionError\n",
    "      +-- AssertionError\n",
    "      +-- AttributeError\n",
    "      +-- BufferError\n",
    "      +-- EOFError\n",
    "      +-- ImportError\n",
    "      +-- LookupError\n",
    "      |    +-- IndexError\n",
    "      |    +-- KeyError\n",
    "      +-- MemoryError\n",
    "      +-- NameError\n",
    "      |    +-- UnboundLocalError\n",
    "      +-- OSError\n",
    "      |    +-- BlockingIOError\n",
    "      |    +-- ChildProcessError\n",
    "      |    +-- ConnectionError\n",
    "      |    |    +-- BrokenPipeError\n",
    "      |    |    +-- ConnectionAbortedError\n",
    "      |    |    +-- ConnectionRefusedError\n",
    "      |    |    +-- ConnectionResetError\n",
    "      |    +-- FileExistsError\n",
    "      |    +-- FileNotFoundError\n",
    "      |    +-- InterruptedError\n",
    "      |    +-- IsADirectoryError\n",
    "      |    +-- NotADirectoryError\n",
    "      |    +-- PermissionError\n",
    "      |    +-- ProcessLookupError\n",
    "      |    +-- TimeoutError\n",
    "      +-- ReferenceError\n",
    "      +-- RuntimeError\n",
    "      |    +-- NotImplementedError\n",
    "      |    +-- RecursionError\n",
    "      +-- SyntaxError\n",
    "      |    +-- IndentationError\n",
    "      |         +-- TabError\n",
    "      +-- SystemError\n",
    "      +-- TypeError\n",
    "      +-- ValueError\n",
    "      |    +-- UnicodeError\n",
    "      |         +-- UnicodeDecodeError\n",
    "      |         +-- UnicodeEncodeError\n",
    "      |         +-- UnicodeTranslateError\n",
    "      +-- Warning\n",
    "           +-- DeprecationWarning\n",
    "           +-- PendingDeprecationWarning\n",
    "           +-- RuntimeWarning\n",
    "           +-- SyntaxWarning\n",
    "           +-- UserWarning\n",
    "           +-- FutureWarning\n",
    "           +-- ImportWarning\n",
    "           +-- UnicodeWarning\n",
    "           +-- BytesWarning\n",
    "           +-- ResourceWarning\n",
    "'''"
   ]
  },
  {
   "cell_type": "code",
   "execution_count": 1,
   "metadata": {},
   "outputs": [
    {
     "name": "stdout",
     "output_type": "stream",
     "text": [
      "Ingrese el Pais que desea conocer la poblacion: colombia\n",
      "La poblacion de colombia es: 49 millones\n",
      "Desea seguir consultando (S) o (N) : n\n"
     ]
    }
   ],
   "source": [
    "paises = {\n",
    "    \"colombia\": 49,\n",
    "    \"mexico\": 122,\n",
    "    \"argentina\": 43,\n",
    "    \"chile\": 18,\n",
    "    \"peru\": 31\n",
    "}\n",
    "\n",
    "if __name__ == '__main__':\n",
    "    while True:\n",
    "\n",
    "        pais = input(\"Ingrese el Pais que desea conocer la poblacion: \").lower()\n",
    "\n",
    "        try:\n",
    "            print(\"La poblacion de {} es: {} millones\".format(pais, paises[pais]))\n",
    "        except KeyError:\n",
    "            print(\"No se tiene el dato de la poblacion del país {}, digite de nuevo\".format(pais))\n",
    "        finally:\n",
    "            if not input(\"Desea seguir consultando (S) o (N) : \").lower() == \"s\":\n",
    "                break\n"
   ]
  },
  {
   "cell_type": "markdown",
   "metadata": {},
   "source": [
    "# Manejo de archivos en Python\n",
    "\n",
    "Con Python también podemos leer y escribir archivos del sistema.\n",
    "\n",
    "COn ***open*** podeomos abrir el archivo. \n",
    "\n",
    "Existen varios modos en los que podemos manejar archivos\n",
    "\n",
    "‘r’ = leer\n",
    "\n",
    "’w’ = escribir\n",
    "\n",
    "’a’ = añadir\n",
    "\n",
    "’r+’ = leer y escribir\n",
    "\n",
    "\n",
    "Siempre recuerda cerrar el archivo.\n",
    "\n",
    "El keyword ***with*** nos permite manejar el contexto al trabajar con archivos"
   ]
  },
  {
   "cell_type": "code",
   "execution_count": 9,
   "metadata": {},
   "outputs": [
    {
     "name": "stdout",
     "output_type": "stream",
     "text": [
      "Beatriz se encuentra 27 veces en el texo\n"
     ]
    }
   ],
   "source": [
    "def runEscribir():\n",
    "    with open(\"numero.txt\",\"w\") as f:\n",
    "        for num in range(10):\n",
    "            f.write(str(num)) \n",
    "\n",
    "\n",
    "def runLeer():\n",
    "    contador=0\n",
    "    with open(\"D:\\\\Cursos\\\\Python\\\\aleph.txt\",encoding=\"utf-8\") as f:\n",
    "        for line in f:\n",
    "            #print(f.readline)\n",
    "            contador+=  line.count(\"Beatriz\")\n",
    "    \n",
    "    print(\"Beatriz se encuentra {} veces en el texo\".format(contador))\n",
    "\n",
    "\n",
    "if __name__ == \"__main__\":\n",
    "    #runEscribir()\n",
    "    runLeer()"
   ]
  },
  {
   "cell_type": "markdown",
   "metadata": {},
   "source": [
    "# Programación orientada a objetos en Python\n",
    "\n",
    "Los objetos nos permiten modelar objetos de la vida real, estos objetos van a tener un **estado (atributos) y métodos (comportamiento).**\n",
    "\n",
    "De esta forma vamos a poder definir cada parte de nuestro código modelandolas cómo objetos.\n",
    "\n",
    "Encapsulación es una de las herramientas más poderosas que tienen los programadores, esta nos permite esconder la complejidad del software.\n",
    "\n",
    "Python no maneja nativamente las variables o metodos privados, por convencion se define que deben comenzar con un guin bajo (_)\n",
    "\n",
    "isinstance : Objeto a que instancia perteneces\n",
    "\n",
    "hasattr : Tiene un atributo definido.\n",
    "\n",
    "\n"
   ]
  },
  {
   "cell_type": "code",
   "execution_count": 1,
   "metadata": {},
   "outputs": [
    {
     "name": "stdout",
     "output_type": "stream",
     "text": [
      "\n",
      "        Que deseas hacer?\n",
      "\n",
      "        [e] : Encender\n",
      "        [a] : Apagar\n",
      "        [s] : Salir\n",
      "        \n",
      "        \n",
      "Digita tu opcion: e\n",
      "\n",
      "          .\n",
      "     .    |    ,\n",
      "      \\   '   /\n",
      "       ` ,-. '\n",
      "    --- (   ) ---\n",
      "         \\ /\n",
      "        _|=|_\n",
      "       |_____|\n",
      "    \n",
      "\n",
      "        Que deseas hacer?\n",
      "\n",
      "        [e] : Encender\n",
      "        [a] : Apagar\n",
      "        [s] : Salir\n",
      "        \n",
      "        \n",
      "Digita tu opcion: s\n"
     ]
    }
   ],
   "source": [
    "\n",
    "class Lampara:\n",
    "\n",
    "    _LAMPS = ['''\n",
    "          .\n",
    "     .    |    ,\n",
    "      \\   '   /\n",
    "       ` ,-. '\n",
    "    --- (   ) ---\n",
    "         \\ /\n",
    "        _|=|_\n",
    "       |_____|\n",
    "    ''',\n",
    "    '''\n",
    "         ,-.\n",
    "        (   )\n",
    "         \\ /\n",
    "        _|=|_\n",
    "       |_____|\n",
    "    ''']\n",
    "\n",
    "    def __init__(self,is_turned_on):\n",
    "        self._is_turned_on = is_turned_on\n",
    "    \n",
    "    def turn_on(self):\n",
    "        self._is_turned_on = True\n",
    "        self._display_imagen()\n",
    "\n",
    "\n",
    "    def turn_off(self):\n",
    "        self._is_turned_on = False\n",
    "        self._display_imagen()\n",
    "\n",
    "    def _display_imagen(self):\n",
    "        if self._is_turned_on :\n",
    "            print(self._LAMPS[0])\n",
    "        else:\n",
    "            print(self._LAMPS[1])\n",
    "    \n",
    "def run():\n",
    "    lamp = Lampara(is_turned_on = False)\n",
    "\n",
    "    while True:\n",
    "        print('''\n",
    "        Que deseas hacer?\n",
    "\n",
    "        [e] : Encender\n",
    "        [a] : Apagar\n",
    "        [s] : Salir\n",
    "        \n",
    "        ''')\n",
    "        command = input(\"Digita tu opcion: \").lower()\n",
    "\n",
    "        if command == \"e\":\n",
    "            lamp.turn_on()\n",
    "        elif command == \"a\":\n",
    "            lamp.turn_off()\n",
    "        else:\n",
    "            break\n",
    "\n",
    "\n",
    "\n",
    "\n",
    "if __name__ == \"__main__\":\n",
    "    run()\n"
   ]
  },
  {
   "cell_type": "markdown",
   "metadata": {},
   "source": [
    "# Decoradores en Python\n",
    "\n",
    "Un decoradores una función que recibe otra función y regresa una tercera función.\n",
    "\n",
    "Para reconocer un decorador, puedes ver que tienes un ***arroba*** sobre la declaración de una función."
   ]
  },
  {
   "cell_type": "code",
   "execution_count": 1,
   "metadata": {},
   "outputs": [
    {
     "name": "stdout",
     "output_type": "stream",
     "text": [
      "INgresa tu contraseña: hola\n",
      "La Contraseña Incorrecta\n"
     ]
    }
   ],
   "source": [
    "\n",
    "def protegida(funcion):\n",
    "    \n",
    "    def encapsula(contraseña):\n",
    "        \n",
    "        if contraseña==\"platzi\":\n",
    "            return funcion()\n",
    "        else:\n",
    "            print(\"La Contraseña Incorrecta\")\n",
    "\n",
    "    return encapsula\n",
    "\n",
    "\n",
    "@protegida\n",
    "def funcion_protegida():\n",
    "    print(\"Tu contraseña es correcta.\")\n",
    "\n",
    "if __name__ == \"__main__\":\n",
    "    contraseña = input(\"INgresa tu contraseña: \")\n",
    "    \n",
    "    funcion_protegida(contraseña)"
   ]
  },
  {
   "cell_type": "code",
   "execution_count": 2,
   "metadata": {},
   "outputs": [
    {
     "name": "stdout",
     "output_type": "stream",
     "text": [
      "Vamos a Realizar un calculo\n",
      "40\n",
      "Se realizo el calculo\n",
      "15\n"
     ]
    }
   ],
   "source": [
    "def funcionDecoradora(funcionParametro):\n",
    "    \n",
    "    def funcionInterior():\n",
    "        print(\"Vamos a Realizar un calculo\")\n",
    "        funcionParametro()\n",
    "        print(\"Se realizo el calculo\")\n",
    "    \n",
    "    return funcionInterior\n",
    "\n",
    "\n",
    "@funcionDecoradora\n",
    "def suma():\n",
    "    print(10+30)\n",
    "\n",
    "def resta():\n",
    "    print(30-15)\n",
    "\n",
    "\n",
    "suma()\n",
    "\n",
    "resta()\n"
   ]
  },
  {
   "cell_type": "markdown",
   "metadata": {},
   "source": [
    "# Paquetes y módulos\n",
    "\n",
    "Un módulo permite agrupar funcionalidad y ocultar la complejidad.\n",
    "\n",
    "Para poder requerir un módulo podemos utilizar import"
   ]
  },
  {
   "cell_type": "code",
   "execution_count": null,
   "metadata": {},
   "outputs": [],
   "source": []
  }
 ],
 "metadata": {
  "kernelspec": {
   "display_name": "Python 3",
   "language": "python",
   "name": "python3"
  },
  "language_info": {
   "codemirror_mode": {
    "name": "ipython",
    "version": 3
   },
   "file_extension": ".py",
   "mimetype": "text/x-python",
   "name": "python",
   "nbconvert_exporter": "python",
   "pygments_lexer": "ipython3",
   "version": "3.7.3"
  }
 },
 "nbformat": 4,
 "nbformat_minor": 2
}
