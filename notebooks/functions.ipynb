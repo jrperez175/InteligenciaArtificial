{
 "cells": [
  {
   "cell_type": "code",
   "execution_count": 3,
   "metadata": {},
   "outputs": [],
   "source": [
    "import os"
   ]
  },
  {
   "cell_type": "code",
   "execution_count": 5,
   "metadata": {},
   "outputs": [],
   "source": [
    "students = []"
   ]
  },
  {
   "cell_type": "code",
   "execution_count": 7,
   "metadata": {},
   "outputs": [],
   "source": [
    "def get_students_titlecase():\n",
    "    students_titlecase = []\n",
    "    for student in students:\n",
    "        students_titlecase.append(student[\"name\"].title())\n",
    "    return students_titlecase"
   ]
  },
  {
   "cell_type": "code",
   "execution_count": 9,
   "metadata": {},
   "outputs": [],
   "source": [
    "def print_students_titlecase():\n",
    "    students_titlecase = get_students_titlecase()\n",
    "    print(students_titlecase)"
   ]
  },
  {
   "cell_type": "code",
   "execution_count": 11,
   "metadata": {},
   "outputs": [],
   "source": [
    "def add_students(name,student_id=332):\n",
    "    student = {\"name\":name,\"student_id\":student_id}\n",
    "    students.append(student)"
   ]
  },
  {
   "cell_type": "code",
   "execution_count": 13,
   "metadata": {},
   "outputs": [],
   "source": [
    "def save_file(student):\n",
    "    try:\n",
    "        f=open(\"students.txt\",\"a\")\n",
    "        f.write(student + \"\\n\")\n",
    "        f.close()\n",
    "    except Exception:\n",
    "        print(\"Could Not Save File\")"
   ]
  },
  {
   "cell_type": "code",
   "execution_count": 15,
   "metadata": {},
   "outputs": [],
   "source": [
    "def read_file():\n",
    "    try:\n",
    "        f=open(\"students.txt\",\"r\")\n",
    "        for student in f.readlines():\n",
    "            add_students(student)\n",
    "        f.close()\n",
    "\n",
    "    except Exception:\n",
    "        print(\"Could Not Read File\")"
   ]
  },
  {
   "cell_type": "code",
   "execution_count": 22,
   "metadata": {},
   "outputs": [],
   "source": [
    "read_file()"
   ]
  },
  {
   "cell_type": "code",
   "execution_count": 23,
   "metadata": {},
   "outputs": [
    {
     "name": "stdout",
     "output_type": "stream",
     "text": [
      "['Jhon', 'Jhon\\n']\n"
     ]
    }
   ],
   "source": [
    "print_students_titlecase()"
   ]
  },
  {
   "cell_type": "code",
   "execution_count": 24,
   "metadata": {},
   "outputs": [
    {
     "name": "stdout",
     "output_type": "stream",
     "text": [
      "Ingresar Datos del Estudiante\n",
      "Enter student name: Juan\n",
      "Enter student ID: 666\n",
      "Deseda seguir ingresando estudiantes (S) ó (N) :S\n",
      "Ingresar Datos del Estudiante\n",
      "Enter student name: Pepe\n",
      "Enter student ID: 333\n",
      "Deseda seguir ingresando estudiantes (S) ó (N) :N\n",
      "Lista de Estudiantes\n",
      "['Jhon', 'Jhon\\n', 'Juan', 'Pepe']\n"
     ]
    }
   ],
   "source": [
    "flag= True\n",
    "while flag:\n",
    "    print(\"Ingresar Datos del Estudiante\")\n",
    "    student_name = input(\"Enter student name: \")\n",
    "    student_id = input(\"Enter student ID: \")\n",
    "    add_students(student_name,student_id)\n",
    "    save_file(student_name)\n",
    "    \n",
    "    continuarIngresandoEstudiantes = input(\"Deseda seguir ingresando estudiantes (S) ó (N) :\")\n",
    "\n",
    "    if (continuarIngresandoEstudiantes==\"S\"):\n",
    "        flag=True\n",
    "        os.system(\"cls\")\n",
    "        \n",
    "    else:\n",
    "        flag=False\n",
    "        print(\"Lista de Estudiantes\")\n",
    "        print_students_titlecase()"
   ]
  }
 ],
 "metadata": {
  "kernelspec": {
   "display_name": "Python 3",
   "language": "python",
   "name": "python3"
  },
  "language_info": {
   "codemirror_mode": {
    "name": "ipython",
    "version": 3
   },
   "file_extension": ".py",
   "mimetype": "text/x-python",
   "name": "python",
   "nbconvert_exporter": "python",
   "pygments_lexer": "ipython3",
   "version": "3.7.3"
  }
 },
 "nbformat": 4,
 "nbformat_minor": 2
}
